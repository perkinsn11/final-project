{
 "cells": [
  {
   "cell_type": "markdown",
   "metadata": {},
   "source": [
    "biof 509 project - \n",
    "spring 2020 - \n",
    "by Neil Perkins"
   ]
  },
  {
   "cell_type": "markdown",
   "metadata": {},
   "source": [
    "### Goal: predictors of covid 19\n",
    "\n",
    "The goal is to explore COVID-19 hospital data to identify predictors of death."
   ]
  },
  {
   "cell_type": "markdown",
   "metadata": {},
   "source": [
    "### Data: Official Covid data from Mexican Health Department\n",
    "    \n",
    "Independent suspicious and confirmed cases files stopped being distributed by the government on April 18th 2020. Posted on kaggle.com by Eduardo Rojas.\n",
    "\n",
    "https://www.kaggle.com/lalish99/covid19-mx"
   ]
  },
  {
   "cell_type": "code",
   "execution_count": 1,
   "metadata": {},
   "outputs": [],
   "source": [
    "import matplotlib.pyplot as plt\n",
    "import numpy as np\n",
    "import pandas as pd\n",
    "import seaborn as sns"
   ]
  },
  {
   "cell_type": "markdown",
   "metadata": {},
   "source": [
    "## Data\n",
    "\n",
    "Read in the data"
   ]
  },
  {
   "cell_type": "code",
   "execution_count": 2,
   "metadata": {},
   "outputs": [],
   "source": [
    "df1mx = pd.read_csv('covid-19_general_MX.csv')\n",
    "df2cases = pd.read_csv('casos_confirmados.csv')"
   ]
  },
  {
   "cell_type": "markdown",
   "metadata": {},
   "source": [
    "Data dimensions"
   ]
  },
  {
   "cell_type": "code",
   "execution_count": 3,
   "metadata": {},
   "outputs": [
    {
     "data": {
      "text/plain": [
       "(95839, 26)"
      ]
     },
     "execution_count": 3,
     "metadata": {},
     "output_type": "execute_result"
    }
   ],
   "source": [
    "df1mx.shape"
   ]
  },
  {
   "cell_type": "code",
   "execution_count": 4,
   "metadata": {},
   "outputs": [
    {
     "data": {
      "text/plain": [
       "(23471, 6)"
      ]
     },
     "execution_count": 4,
     "metadata": {},
     "output_type": "execute_result"
    }
   ],
   "source": [
    "df2cases.shape"
   ]
  },
  {
   "cell_type": "markdown",
   "metadata": {},
   "source": [
    "Data descriptives"
   ]
  },
  {
   "cell_type": "code",
   "execution_count": 5,
   "metadata": {},
   "outputs": [
    {
     "data": {
      "text/plain": [
       "pandas.core.frame.DataFrame"
      ]
     },
     "execution_count": 5,
     "metadata": {},
     "output_type": "execute_result"
    }
   ],
   "source": [
    "type(df1mx)"
   ]
  },
  {
   "cell_type": "code",
   "execution_count": 6,
   "metadata": {},
   "outputs": [
    {
     "data": {
      "text/html": [
       "<div>\n",
       "<style scoped>\n",
       "    .dataframe tbody tr th:only-of-type {\n",
       "        vertical-align: middle;\n",
       "    }\n",
       "\n",
       "    .dataframe tbody tr th {\n",
       "        vertical-align: top;\n",
       "    }\n",
       "\n",
       "    .dataframe thead th {\n",
       "        text-align: right;\n",
       "    }\n",
       "</style>\n",
       "<table border=\"1\" class=\"dataframe\">\n",
       "  <thead>\n",
       "    <tr style=\"text-align: right;\">\n",
       "      <th></th>\n",
       "      <th>Unnamed: 0</th>\n",
       "      <th>SECTOR</th>\n",
       "      <th>ENTIDAD_UM</th>\n",
       "      <th>SEXO</th>\n",
       "      <th>ENTIDAD_RES</th>\n",
       "      <th>TIPO_PACIENTE</th>\n",
       "      <th>FECHA_INGRESO</th>\n",
       "      <th>FECHA_SINTOMAS</th>\n",
       "      <th>FECHA_DEF</th>\n",
       "      <th>INTUBADO</th>\n",
       "      <th>...</th>\n",
       "      <th>INMUSUPR</th>\n",
       "      <th>HIPERTENSION</th>\n",
       "      <th>OTRA_CON</th>\n",
       "      <th>CARDIOVASCULAR</th>\n",
       "      <th>OBESIDAD</th>\n",
       "      <th>RENAL_CRONICA</th>\n",
       "      <th>TABAQUISMO</th>\n",
       "      <th>OTRO_CASO</th>\n",
       "      <th>RESULTADO</th>\n",
       "      <th>UCI</th>\n",
       "    </tr>\n",
       "  </thead>\n",
       "  <tbody>\n",
       "    <tr>\n",
       "      <td>0</td>\n",
       "      <td>0</td>\n",
       "      <td>4</td>\n",
       "      <td>17</td>\n",
       "      <td>2</td>\n",
       "      <td>17</td>\n",
       "      <td>1</td>\n",
       "      <td>2020-03-09</td>\n",
       "      <td>2020-03-09</td>\n",
       "      <td>9999-99-99</td>\n",
       "      <td>97</td>\n",
       "      <td>...</td>\n",
       "      <td>2</td>\n",
       "      <td>2</td>\n",
       "      <td>2</td>\n",
       "      <td>2</td>\n",
       "      <td>2</td>\n",
       "      <td>2</td>\n",
       "      <td>2</td>\n",
       "      <td>99</td>\n",
       "      <td>1</td>\n",
       "      <td>97</td>\n",
       "    </tr>\n",
       "    <tr>\n",
       "      <td>1</td>\n",
       "      <td>1</td>\n",
       "      <td>4</td>\n",
       "      <td>9</td>\n",
       "      <td>1</td>\n",
       "      <td>9</td>\n",
       "      <td>1</td>\n",
       "      <td>2020-03-19</td>\n",
       "      <td>2020-03-17</td>\n",
       "      <td>9999-99-99</td>\n",
       "      <td>97</td>\n",
       "      <td>...</td>\n",
       "      <td>2</td>\n",
       "      <td>2</td>\n",
       "      <td>2</td>\n",
       "      <td>2</td>\n",
       "      <td>2</td>\n",
       "      <td>2</td>\n",
       "      <td>2</td>\n",
       "      <td>99</td>\n",
       "      <td>1</td>\n",
       "      <td>97</td>\n",
       "    </tr>\n",
       "    <tr>\n",
       "      <td>2</td>\n",
       "      <td>2</td>\n",
       "      <td>4</td>\n",
       "      <td>2</td>\n",
       "      <td>2</td>\n",
       "      <td>2</td>\n",
       "      <td>2</td>\n",
       "      <td>2020-03-19</td>\n",
       "      <td>2020-03-19</td>\n",
       "      <td>9999-99-99</td>\n",
       "      <td>2</td>\n",
       "      <td>...</td>\n",
       "      <td>2</td>\n",
       "      <td>1</td>\n",
       "      <td>2</td>\n",
       "      <td>2</td>\n",
       "      <td>1</td>\n",
       "      <td>2</td>\n",
       "      <td>2</td>\n",
       "      <td>99</td>\n",
       "      <td>1</td>\n",
       "      <td>2</td>\n",
       "    </tr>\n",
       "    <tr>\n",
       "      <td>3</td>\n",
       "      <td>3</td>\n",
       "      <td>4</td>\n",
       "      <td>9</td>\n",
       "      <td>2</td>\n",
       "      <td>9</td>\n",
       "      <td>2</td>\n",
       "      <td>2020-03-30</td>\n",
       "      <td>2020-03-24</td>\n",
       "      <td>2020-04-01</td>\n",
       "      <td>2</td>\n",
       "      <td>...</td>\n",
       "      <td>2</td>\n",
       "      <td>2</td>\n",
       "      <td>2</td>\n",
       "      <td>2</td>\n",
       "      <td>2</td>\n",
       "      <td>2</td>\n",
       "      <td>2</td>\n",
       "      <td>99</td>\n",
       "      <td>1</td>\n",
       "      <td>2</td>\n",
       "    </tr>\n",
       "    <tr>\n",
       "      <td>4</td>\n",
       "      <td>4</td>\n",
       "      <td>12</td>\n",
       "      <td>14</td>\n",
       "      <td>1</td>\n",
       "      <td>14</td>\n",
       "      <td>2</td>\n",
       "      <td>2020-03-29</td>\n",
       "      <td>2020-03-26</td>\n",
       "      <td>9999-99-99</td>\n",
       "      <td>2</td>\n",
       "      <td>...</td>\n",
       "      <td>2</td>\n",
       "      <td>2</td>\n",
       "      <td>2</td>\n",
       "      <td>2</td>\n",
       "      <td>2</td>\n",
       "      <td>2</td>\n",
       "      <td>2</td>\n",
       "      <td>2</td>\n",
       "      <td>2</td>\n",
       "      <td>2</td>\n",
       "    </tr>\n",
       "  </tbody>\n",
       "</table>\n",
       "<p>5 rows × 26 columns</p>\n",
       "</div>"
      ],
      "text/plain": [
       "   Unnamed: 0  SECTOR  ENTIDAD_UM  SEXO  ENTIDAD_RES  TIPO_PACIENTE  \\\n",
       "0           0       4          17     2           17              1   \n",
       "1           1       4           9     1            9              1   \n",
       "2           2       4           2     2            2              2   \n",
       "3           3       4           9     2            9              2   \n",
       "4           4      12          14     1           14              2   \n",
       "\n",
       "  FECHA_INGRESO FECHA_SINTOMAS   FECHA_DEF  INTUBADO  ...  INMUSUPR  \\\n",
       "0    2020-03-09     2020-03-09  9999-99-99        97  ...         2   \n",
       "1    2020-03-19     2020-03-17  9999-99-99        97  ...         2   \n",
       "2    2020-03-19     2020-03-19  9999-99-99         2  ...         2   \n",
       "3    2020-03-30     2020-03-24  2020-04-01         2  ...         2   \n",
       "4    2020-03-29     2020-03-26  9999-99-99         2  ...         2   \n",
       "\n",
       "   HIPERTENSION  OTRA_CON  CARDIOVASCULAR  OBESIDAD  RENAL_CRONICA  \\\n",
       "0             2         2               2         2              2   \n",
       "1             2         2               2         2              2   \n",
       "2             1         2               2         1              2   \n",
       "3             2         2               2         2              2   \n",
       "4             2         2               2         2              2   \n",
       "\n",
       "   TABAQUISMO  OTRO_CASO  RESULTADO  UCI  \n",
       "0           2         99          1   97  \n",
       "1           2         99          1   97  \n",
       "2           2         99          1    2  \n",
       "3           2         99          1    2  \n",
       "4           2          2          2    2  \n",
       "\n",
       "[5 rows x 26 columns]"
      ]
     },
     "execution_count": 6,
     "metadata": {},
     "output_type": "execute_result"
    }
   ],
   "source": [
    "df1mx.head()"
   ]
  },
  {
   "cell_type": "markdown",
   "metadata": {},
   "source": [
    "Rename columns to english\n",
    "\n",
    "    - could use .rename\n",
    "    - too many so used .columns to redo entire list"
   ]
  },
  {
   "cell_type": "code",
   "execution_count": 7,
   "metadata": {},
   "outputs": [],
   "source": [
    "df1mx.columns=['ID','SECTOR','state_care','sex',\n",
    "               'state_live','ambulatory','care_date',\n",
    "               'sympt_date','dead_date','intubate',\n",
    "               'neumonia','age','nation','diabetes',\n",
    "               'epoch','asthma','immunosprs','hyperten',\n",
    "               'OtherDis','CardioDis','Obesity','RenalDis',\n",
    "               'tabaquism','COVID_contact','COVID','ICU']"
   ]
  },
  {
   "cell_type": "markdown",
   "metadata": {},
   "source": [
    "Look for missing data"
   ]
  },
  {
   "cell_type": "code",
   "execution_count": 8,
   "metadata": {},
   "outputs": [],
   "source": [
    "df1na=df1mx.isna()"
   ]
  },
  {
   "cell_type": "code",
   "execution_count": 9,
   "metadata": {},
   "outputs": [
    {
     "data": {
      "text/html": [
       "<div>\n",
       "<style scoped>\n",
       "    .dataframe tbody tr th:only-of-type {\n",
       "        vertical-align: middle;\n",
       "    }\n",
       "\n",
       "    .dataframe tbody tr th {\n",
       "        vertical-align: top;\n",
       "    }\n",
       "\n",
       "    .dataframe thead th {\n",
       "        text-align: right;\n",
       "    }\n",
       "</style>\n",
       "<table border=\"1\" class=\"dataframe\">\n",
       "  <thead>\n",
       "    <tr style=\"text-align: right;\">\n",
       "      <th></th>\n",
       "      <th>ID</th>\n",
       "      <th>SECTOR</th>\n",
       "      <th>state_care</th>\n",
       "      <th>sex</th>\n",
       "      <th>state_live</th>\n",
       "      <th>ambulatory</th>\n",
       "      <th>care_date</th>\n",
       "      <th>sympt_date</th>\n",
       "      <th>dead_date</th>\n",
       "      <th>intubate</th>\n",
       "      <th>...</th>\n",
       "      <th>immunosprs</th>\n",
       "      <th>hyperten</th>\n",
       "      <th>OtherDis</th>\n",
       "      <th>CardioDis</th>\n",
       "      <th>Obesity</th>\n",
       "      <th>RenalDis</th>\n",
       "      <th>tabaquism</th>\n",
       "      <th>COVID_contact</th>\n",
       "      <th>COVID</th>\n",
       "      <th>ICU</th>\n",
       "    </tr>\n",
       "  </thead>\n",
       "  <tbody>\n",
       "    <tr>\n",
       "      <td>count</td>\n",
       "      <td>95839</td>\n",
       "      <td>95839</td>\n",
       "      <td>95839</td>\n",
       "      <td>95839</td>\n",
       "      <td>95839</td>\n",
       "      <td>95839</td>\n",
       "      <td>95839</td>\n",
       "      <td>95839</td>\n",
       "      <td>95839</td>\n",
       "      <td>95839</td>\n",
       "      <td>...</td>\n",
       "      <td>95839</td>\n",
       "      <td>95839</td>\n",
       "      <td>95839</td>\n",
       "      <td>95839</td>\n",
       "      <td>95839</td>\n",
       "      <td>95839</td>\n",
       "      <td>95839</td>\n",
       "      <td>95839</td>\n",
       "      <td>95839</td>\n",
       "      <td>95839</td>\n",
       "    </tr>\n",
       "    <tr>\n",
       "      <td>unique</td>\n",
       "      <td>1</td>\n",
       "      <td>1</td>\n",
       "      <td>1</td>\n",
       "      <td>1</td>\n",
       "      <td>1</td>\n",
       "      <td>1</td>\n",
       "      <td>1</td>\n",
       "      <td>1</td>\n",
       "      <td>1</td>\n",
       "      <td>1</td>\n",
       "      <td>...</td>\n",
       "      <td>1</td>\n",
       "      <td>1</td>\n",
       "      <td>1</td>\n",
       "      <td>1</td>\n",
       "      <td>1</td>\n",
       "      <td>1</td>\n",
       "      <td>1</td>\n",
       "      <td>1</td>\n",
       "      <td>1</td>\n",
       "      <td>1</td>\n",
       "    </tr>\n",
       "    <tr>\n",
       "      <td>top</td>\n",
       "      <td>False</td>\n",
       "      <td>False</td>\n",
       "      <td>False</td>\n",
       "      <td>False</td>\n",
       "      <td>False</td>\n",
       "      <td>False</td>\n",
       "      <td>False</td>\n",
       "      <td>False</td>\n",
       "      <td>False</td>\n",
       "      <td>False</td>\n",
       "      <td>...</td>\n",
       "      <td>False</td>\n",
       "      <td>False</td>\n",
       "      <td>False</td>\n",
       "      <td>False</td>\n",
       "      <td>False</td>\n",
       "      <td>False</td>\n",
       "      <td>False</td>\n",
       "      <td>False</td>\n",
       "      <td>False</td>\n",
       "      <td>False</td>\n",
       "    </tr>\n",
       "    <tr>\n",
       "      <td>freq</td>\n",
       "      <td>95839</td>\n",
       "      <td>95839</td>\n",
       "      <td>95839</td>\n",
       "      <td>95839</td>\n",
       "      <td>95839</td>\n",
       "      <td>95839</td>\n",
       "      <td>95839</td>\n",
       "      <td>95839</td>\n",
       "      <td>95839</td>\n",
       "      <td>95839</td>\n",
       "      <td>...</td>\n",
       "      <td>95839</td>\n",
       "      <td>95839</td>\n",
       "      <td>95839</td>\n",
       "      <td>95839</td>\n",
       "      <td>95839</td>\n",
       "      <td>95839</td>\n",
       "      <td>95839</td>\n",
       "      <td>95839</td>\n",
       "      <td>95839</td>\n",
       "      <td>95839</td>\n",
       "    </tr>\n",
       "  </tbody>\n",
       "</table>\n",
       "<p>4 rows × 26 columns</p>\n",
       "</div>"
      ],
      "text/plain": [
       "           ID SECTOR state_care    sex state_live ambulatory care_date  \\\n",
       "count   95839  95839      95839  95839      95839      95839     95839   \n",
       "unique      1      1          1      1          1          1         1   \n",
       "top     False  False      False  False      False      False     False   \n",
       "freq    95839  95839      95839  95839      95839      95839     95839   \n",
       "\n",
       "       sympt_date dead_date intubate  ... immunosprs hyperten OtherDis  \\\n",
       "count       95839     95839    95839  ...      95839    95839    95839   \n",
       "unique          1         1        1  ...          1        1        1   \n",
       "top         False     False    False  ...      False    False    False   \n",
       "freq        95839     95839    95839  ...      95839    95839    95839   \n",
       "\n",
       "       CardioDis Obesity RenalDis tabaquism COVID_contact  COVID    ICU  \n",
       "count      95839   95839    95839     95839         95839  95839  95839  \n",
       "unique         1       1        1         1             1      1      1  \n",
       "top        False   False    False     False         False  False  False  \n",
       "freq       95839   95839    95839     95839         95839  95839  95839  \n",
       "\n",
       "[4 rows x 26 columns]"
      ]
     },
     "execution_count": 9,
     "metadata": {},
     "output_type": "execute_result"
    }
   ],
   "source": [
    "df1na.describe()"
   ]
  },
  {
   "cell_type": "code",
   "execution_count": 10,
   "metadata": {},
   "outputs": [
    {
     "data": {
      "text/plain": [
       "ID               0\n",
       "SECTOR           0\n",
       "state_care       0\n",
       "sex              0\n",
       "state_live       0\n",
       "ambulatory       0\n",
       "care_date        0\n",
       "sympt_date       0\n",
       "dead_date        0\n",
       "intubate         0\n",
       "neumonia         0\n",
       "age              0\n",
       "nation           0\n",
       "diabetes         0\n",
       "epoch            0\n",
       "asthma           0\n",
       "immunosprs       0\n",
       "hyperten         0\n",
       "OtherDis         0\n",
       "CardioDis        0\n",
       "Obesity          0\n",
       "RenalDis         0\n",
       "tabaquism        0\n",
       "COVID_contact    0\n",
       "COVID            0\n",
       "ICU              0\n",
       "dtype: int64"
      ]
     },
     "execution_count": 10,
     "metadata": {},
     "output_type": "execute_result"
    }
   ],
   "source": [
    "df1mx.isna().sum()"
   ]
  },
  {
   "cell_type": "markdown",
   "metadata": {},
   "source": [
    "Summarize missing data across all variables\n",
    "\n",
    "    -no missing data\n",
    "    -if missing data, use .fillna()\n",
    "\n",
    "No missing data here\n",
    "\n",
    "    -but... structural missingness exists\n",
    "    -9999-99-99 for death date for patients who didn't die\n",
    "    \n",
    "From Kaggle \"Options for yes or no columns\"\n",
    "\n",
    "    1 = Yes\n",
    "    2 = No\n",
    "    97 = Does not apply\n",
    "    98 = Is ignored\n",
    "    99 = Not specified"
   ]
  },
  {
   "cell_type": "code",
   "execution_count": 11,
   "metadata": {},
   "outputs": [
    {
     "data": {
      "text/plain": [
       "(95839, 3)"
      ]
     },
     "execution_count": 11,
     "metadata": {},
     "output_type": "execute_result"
    }
   ],
   "source": [
    "df1mxdates=df1mx.iloc[:,6:9]\n",
    "df1mxdates.shape"
   ]
  },
  {
   "cell_type": "markdown",
   "metadata": {},
   "source": [
    "Create ID for dead from 9999 date"
   ]
  },
  {
   "cell_type": "code",
   "execution_count": 12,
   "metadata": {},
   "outputs": [
    {
     "data": {
      "text/plain": [
       "count    95839.000000\n",
       "mean         0.035841\n",
       "std          0.185895\n",
       "min          0.000000\n",
       "25%          0.000000\n",
       "50%          0.000000\n",
       "75%          0.000000\n",
       "max          1.000000\n",
       "Name: dead, dtype: float64"
      ]
     },
     "execution_count": 12,
     "metadata": {},
     "output_type": "execute_result"
    }
   ],
   "source": [
    "dead = df1mxdates['dead_date'].str.startswith(\"9\")\n",
    "dead = (dead==False)\n",
    "df1mx['dead'] = dead*1\n",
    "df1mx['dead'].describe()\n"
   ]
  },
  {
   "cell_type": "code",
   "execution_count": 13,
   "metadata": {},
   "outputs": [],
   "source": [
    "from datetime import date, datetime, timedelta\n",
    "date1 = pd.to_datetime(df1mxdates['care_date'])\n",
    "date2 = pd.to_datetime(df1mxdates['sympt_date'])\n",
    "date1 = date1.dt.date\n",
    "date2 = date2.dt.date\n",
    "\n",
    "sympt2care = date1 - date2\n",
    "sympt2care = sympt2care.dt.days"
   ]
  },
  {
   "cell_type": "code",
   "execution_count": 14,
   "metadata": {},
   "outputs": [],
   "source": [
    "df1mx['sympt2care'] = sympt2care"
   ]
  },
  {
   "cell_type": "code",
   "execution_count": 15,
   "metadata": {},
   "outputs": [
    {
     "data": {
      "text/plain": [
       "(95839, 28)"
      ]
     },
     "execution_count": 15,
     "metadata": {},
     "output_type": "execute_result"
    }
   ],
   "source": [
    "df1mx.shape"
   ]
  },
  {
   "cell_type": "code",
   "execution_count": 16,
   "metadata": {},
   "outputs": [],
   "source": [
    "df1mx = df1mx.drop(['care_date', 'sympt_date','dead_date'], axis=1)\n",
    "dead = df1mx['dead']\n",
    "df1mx = df1mx.drop(['dead'], axis=1)\n",
    "df1mx['dead'] = dead    #making dead last in the list"
   ]
  },
  {
   "cell_type": "code",
   "execution_count": 17,
   "metadata": {},
   "outputs": [
    {
     "data": {
      "text/plain": [
       "Index(['ID', 'SECTOR', 'state_care', 'sex', 'state_live', 'ambulatory',\n",
       "       'intubate', 'neumonia', 'age', 'nation', 'diabetes', 'epoch', 'asthma',\n",
       "       'immunosprs', 'hyperten', 'OtherDis', 'CardioDis', 'Obesity',\n",
       "       'RenalDis', 'tabaquism', 'COVID_contact', 'COVID', 'ICU', 'sympt2care',\n",
       "       'dead'],\n",
       "      dtype='object')"
      ]
     },
     "execution_count": 17,
     "metadata": {},
     "output_type": "execute_result"
    }
   ],
   "source": [
    "df1mx.columns"
   ]
  },
  {
   "cell_type": "markdown",
   "metadata": {},
   "source": [
    "insert NaN for 97, 98, 99 so the modeling isnt messed up"
   ]
  },
  {
   "cell_type": "code",
   "execution_count": 18,
   "metadata": {},
   "outputs": [
    {
     "data": {
      "text/html": [
       "<div>\n",
       "<style scoped>\n",
       "    .dataframe tbody tr th:only-of-type {\n",
       "        vertical-align: middle;\n",
       "    }\n",
       "\n",
       "    .dataframe tbody tr th {\n",
       "        vertical-align: top;\n",
       "    }\n",
       "\n",
       "    .dataframe thead th {\n",
       "        text-align: right;\n",
       "    }\n",
       "</style>\n",
       "<table border=\"1\" class=\"dataframe\">\n",
       "  <thead>\n",
       "    <tr style=\"text-align: right;\">\n",
       "      <th></th>\n",
       "      <th>ID</th>\n",
       "      <th>SECTOR</th>\n",
       "      <th>state_care</th>\n",
       "      <th>sex</th>\n",
       "      <th>state_live</th>\n",
       "      <th>ambulatory</th>\n",
       "      <th>intubate</th>\n",
       "      <th>neumonia</th>\n",
       "      <th>age</th>\n",
       "      <th>nation</th>\n",
       "      <th>...</th>\n",
       "      <th>OtherDis</th>\n",
       "      <th>CardioDis</th>\n",
       "      <th>Obesity</th>\n",
       "      <th>RenalDis</th>\n",
       "      <th>tabaquism</th>\n",
       "      <th>COVID_contact</th>\n",
       "      <th>COVID</th>\n",
       "      <th>ICU</th>\n",
       "      <th>sympt2care</th>\n",
       "      <th>dead</th>\n",
       "    </tr>\n",
       "  </thead>\n",
       "  <tbody>\n",
       "    <tr>\n",
       "      <td>count</td>\n",
       "      <td>95836.000000</td>\n",
       "      <td>95195.000000</td>\n",
       "      <td>95839.000000</td>\n",
       "      <td>95839.000000</td>\n",
       "      <td>95839.000000</td>\n",
       "      <td>95839.000000</td>\n",
       "      <td>25547.000000</td>\n",
       "      <td>95831.000000</td>\n",
       "      <td>95802.000000</td>\n",
       "      <td>95839.000000</td>\n",
       "      <td>...</td>\n",
       "      <td>95281.000000</td>\n",
       "      <td>95423.000000</td>\n",
       "      <td>95449.000000</td>\n",
       "      <td>95433.000000</td>\n",
       "      <td>95435.000000</td>\n",
       "      <td>60344.000000</td>\n",
       "      <td>95839.000000</td>\n",
       "      <td>25546.000000</td>\n",
       "      <td>95839.000000</td>\n",
       "      <td>95839.000000</td>\n",
       "    </tr>\n",
       "    <tr>\n",
       "      <td>mean</td>\n",
       "      <td>47920.496964</td>\n",
       "      <td>8.795042</td>\n",
       "      <td>14.660639</td>\n",
       "      <td>1.508353</td>\n",
       "      <td>14.897620</td>\n",
       "      <td>1.266812</td>\n",
       "      <td>1.924296</td>\n",
       "      <td>1.816051</td>\n",
       "      <td>42.031200</td>\n",
       "      <td>1.012584</td>\n",
       "      <td>...</td>\n",
       "      <td>1.951281</td>\n",
       "      <td>1.968708</td>\n",
       "      <td>1.836593</td>\n",
       "      <td>1.976036</td>\n",
       "      <td>1.902436</td>\n",
       "      <td>1.517947</td>\n",
       "      <td>1.887238</td>\n",
       "      <td>1.914664</td>\n",
       "      <td>3.566262</td>\n",
       "      <td>0.035841</td>\n",
       "    </tr>\n",
       "    <tr>\n",
       "      <td>std</td>\n",
       "      <td>27665.619790</td>\n",
       "      <td>3.782903</td>\n",
       "      <td>8.075045</td>\n",
       "      <td>0.499933</td>\n",
       "      <td>8.006973</td>\n",
       "      <td>0.442296</td>\n",
       "      <td>0.264528</td>\n",
       "      <td>0.387444</td>\n",
       "      <td>17.287125</td>\n",
       "      <td>0.111469</td>\n",
       "      <td>...</td>\n",
       "      <td>0.215281</td>\n",
       "      <td>0.174107</td>\n",
       "      <td>0.369738</td>\n",
       "      <td>0.152939</td>\n",
       "      <td>0.296725</td>\n",
       "      <td>0.499682</td>\n",
       "      <td>0.603595</td>\n",
       "      <td>0.279387</td>\n",
       "      <td>3.373566</td>\n",
       "      <td>0.185895</td>\n",
       "    </tr>\n",
       "    <tr>\n",
       "      <td>min</td>\n",
       "      <td>0.000000</td>\n",
       "      <td>1.000000</td>\n",
       "      <td>1.000000</td>\n",
       "      <td>1.000000</td>\n",
       "      <td>1.000000</td>\n",
       "      <td>1.000000</td>\n",
       "      <td>1.000000</td>\n",
       "      <td>1.000000</td>\n",
       "      <td>0.000000</td>\n",
       "      <td>1.000000</td>\n",
       "      <td>...</td>\n",
       "      <td>1.000000</td>\n",
       "      <td>1.000000</td>\n",
       "      <td>1.000000</td>\n",
       "      <td>1.000000</td>\n",
       "      <td>1.000000</td>\n",
       "      <td>1.000000</td>\n",
       "      <td>1.000000</td>\n",
       "      <td>1.000000</td>\n",
       "      <td>0.000000</td>\n",
       "      <td>0.000000</td>\n",
       "    </tr>\n",
       "    <tr>\n",
       "      <td>25%</td>\n",
       "      <td>23961.750000</td>\n",
       "      <td>4.000000</td>\n",
       "      <td>9.000000</td>\n",
       "      <td>1.000000</td>\n",
       "      <td>9.000000</td>\n",
       "      <td>1.000000</td>\n",
       "      <td>2.000000</td>\n",
       "      <td>2.000000</td>\n",
       "      <td>30.000000</td>\n",
       "      <td>1.000000</td>\n",
       "      <td>...</td>\n",
       "      <td>2.000000</td>\n",
       "      <td>2.000000</td>\n",
       "      <td>2.000000</td>\n",
       "      <td>2.000000</td>\n",
       "      <td>2.000000</td>\n",
       "      <td>1.000000</td>\n",
       "      <td>2.000000</td>\n",
       "      <td>2.000000</td>\n",
       "      <td>1.000000</td>\n",
       "      <td>0.000000</td>\n",
       "    </tr>\n",
       "    <tr>\n",
       "      <td>50%</td>\n",
       "      <td>47920.500000</td>\n",
       "      <td>12.000000</td>\n",
       "      <td>14.000000</td>\n",
       "      <td>2.000000</td>\n",
       "      <td>14.000000</td>\n",
       "      <td>1.000000</td>\n",
       "      <td>2.000000</td>\n",
       "      <td>2.000000</td>\n",
       "      <td>41.000000</td>\n",
       "      <td>1.000000</td>\n",
       "      <td>...</td>\n",
       "      <td>2.000000</td>\n",
       "      <td>2.000000</td>\n",
       "      <td>2.000000</td>\n",
       "      <td>2.000000</td>\n",
       "      <td>2.000000</td>\n",
       "      <td>2.000000</td>\n",
       "      <td>2.000000</td>\n",
       "      <td>2.000000</td>\n",
       "      <td>3.000000</td>\n",
       "      <td>0.000000</td>\n",
       "    </tr>\n",
       "    <tr>\n",
       "      <td>75%</td>\n",
       "      <td>71879.250000</td>\n",
       "      <td>12.000000</td>\n",
       "      <td>20.000000</td>\n",
       "      <td>2.000000</td>\n",
       "      <td>20.000000</td>\n",
       "      <td>2.000000</td>\n",
       "      <td>2.000000</td>\n",
       "      <td>2.000000</td>\n",
       "      <td>53.000000</td>\n",
       "      <td>1.000000</td>\n",
       "      <td>...</td>\n",
       "      <td>2.000000</td>\n",
       "      <td>2.000000</td>\n",
       "      <td>2.000000</td>\n",
       "      <td>2.000000</td>\n",
       "      <td>2.000000</td>\n",
       "      <td>2.000000</td>\n",
       "      <td>2.000000</td>\n",
       "      <td>2.000000</td>\n",
       "      <td>5.000000</td>\n",
       "      <td>0.000000</td>\n",
       "    </tr>\n",
       "    <tr>\n",
       "      <td>max</td>\n",
       "      <td>95838.000000</td>\n",
       "      <td>13.000000</td>\n",
       "      <td>32.000000</td>\n",
       "      <td>2.000000</td>\n",
       "      <td>32.000000</td>\n",
       "      <td>2.000000</td>\n",
       "      <td>2.000000</td>\n",
       "      <td>2.000000</td>\n",
       "      <td>113.000000</td>\n",
       "      <td>2.000000</td>\n",
       "      <td>...</td>\n",
       "      <td>2.000000</td>\n",
       "      <td>2.000000</td>\n",
       "      <td>2.000000</td>\n",
       "      <td>2.000000</td>\n",
       "      <td>2.000000</td>\n",
       "      <td>2.000000</td>\n",
       "      <td>3.000000</td>\n",
       "      <td>2.000000</td>\n",
       "      <td>91.000000</td>\n",
       "      <td>1.000000</td>\n",
       "    </tr>\n",
       "  </tbody>\n",
       "</table>\n",
       "<p>8 rows × 25 columns</p>\n",
       "</div>"
      ],
      "text/plain": [
       "                 ID        SECTOR    state_care           sex    state_live  \\\n",
       "count  95836.000000  95195.000000  95839.000000  95839.000000  95839.000000   \n",
       "mean   47920.496964      8.795042     14.660639      1.508353     14.897620   \n",
       "std    27665.619790      3.782903      8.075045      0.499933      8.006973   \n",
       "min        0.000000      1.000000      1.000000      1.000000      1.000000   \n",
       "25%    23961.750000      4.000000      9.000000      1.000000      9.000000   \n",
       "50%    47920.500000     12.000000     14.000000      2.000000     14.000000   \n",
       "75%    71879.250000     12.000000     20.000000      2.000000     20.000000   \n",
       "max    95838.000000     13.000000     32.000000      2.000000     32.000000   \n",
       "\n",
       "         ambulatory      intubate      neumonia           age        nation  \\\n",
       "count  95839.000000  25547.000000  95831.000000  95802.000000  95839.000000   \n",
       "mean       1.266812      1.924296      1.816051     42.031200      1.012584   \n",
       "std        0.442296      0.264528      0.387444     17.287125      0.111469   \n",
       "min        1.000000      1.000000      1.000000      0.000000      1.000000   \n",
       "25%        1.000000      2.000000      2.000000     30.000000      1.000000   \n",
       "50%        1.000000      2.000000      2.000000     41.000000      1.000000   \n",
       "75%        2.000000      2.000000      2.000000     53.000000      1.000000   \n",
       "max        2.000000      2.000000      2.000000    113.000000      2.000000   \n",
       "\n",
       "       ...      OtherDis     CardioDis       Obesity      RenalDis  \\\n",
       "count  ...  95281.000000  95423.000000  95449.000000  95433.000000   \n",
       "mean   ...      1.951281      1.968708      1.836593      1.976036   \n",
       "std    ...      0.215281      0.174107      0.369738      0.152939   \n",
       "min    ...      1.000000      1.000000      1.000000      1.000000   \n",
       "25%    ...      2.000000      2.000000      2.000000      2.000000   \n",
       "50%    ...      2.000000      2.000000      2.000000      2.000000   \n",
       "75%    ...      2.000000      2.000000      2.000000      2.000000   \n",
       "max    ...      2.000000      2.000000      2.000000      2.000000   \n",
       "\n",
       "          tabaquism  COVID_contact         COVID           ICU    sympt2care  \\\n",
       "count  95435.000000   60344.000000  95839.000000  25546.000000  95839.000000   \n",
       "mean       1.902436       1.517947      1.887238      1.914664      3.566262   \n",
       "std        0.296725       0.499682      0.603595      0.279387      3.373566   \n",
       "min        1.000000       1.000000      1.000000      1.000000      0.000000   \n",
       "25%        2.000000       1.000000      2.000000      2.000000      1.000000   \n",
       "50%        2.000000       2.000000      2.000000      2.000000      3.000000   \n",
       "75%        2.000000       2.000000      2.000000      2.000000      5.000000   \n",
       "max        2.000000       2.000000      3.000000      2.000000     91.000000   \n",
       "\n",
       "               dead  \n",
       "count  95839.000000  \n",
       "mean       0.035841  \n",
       "std        0.185895  \n",
       "min        0.000000  \n",
       "25%        0.000000  \n",
       "50%        0.000000  \n",
       "75%        0.000000  \n",
       "max        1.000000  \n",
       "\n",
       "[8 rows x 25 columns]"
      ]
     },
     "execution_count": 18,
     "metadata": {},
     "output_type": "execute_result"
    }
   ],
   "source": [
    "df1mxna = df1mx.replace(97, value=np.nan)\n",
    "df1mxna = df1mxna.replace(98, value=np.nan)\n",
    "df1mxna = df1mxna.replace(99, value=np.nan)\n",
    "df1mxna.describe()"
   ]
  },
  {
   "cell_type": "code",
   "execution_count": 19,
   "metadata": {},
   "outputs": [
    {
     "data": {
      "text/plain": [
       "ID                   3\n",
       "SECTOR             644\n",
       "state_care           0\n",
       "sex                  0\n",
       "state_live           0\n",
       "ambulatory           0\n",
       "intubate         70292\n",
       "neumonia             8\n",
       "age                 37\n",
       "nation               0\n",
       "diabetes           417\n",
       "epoch              404\n",
       "asthma             409\n",
       "immunosprs         426\n",
       "hyperten           402\n",
       "OtherDis           558\n",
       "CardioDis          416\n",
       "Obesity            390\n",
       "RenalDis           406\n",
       "tabaquism          404\n",
       "COVID_contact    35495\n",
       "COVID                0\n",
       "ICU              70293\n",
       "sympt2care           0\n",
       "dead                 0\n",
       "dtype: int64"
      ]
     },
     "execution_count": 19,
     "metadata": {},
     "output_type": "execute_result"
    }
   ],
   "source": [
    "df1mxna.isna().sum()"
   ]
  },
  {
   "cell_type": "code",
   "execution_count": 20,
   "metadata": {},
   "outputs": [],
   "source": [
    "# what to do with missing data\n",
    "# drop all\n",
    "df2mx = pd.DataFrame(df1mxna.dropna())\n",
    "\n",
    "# remove 'intubate','Covid_contact','ICU'--then drop all\n",
    "df3mx = df1mxna.drop(['intubate', 'COVID_contact','ICU'], axis=1)\n",
    "df3mx = pd.DataFrame(df3mx.dropna())\n"
   ]
  },
  {
   "cell_type": "code",
   "execution_count": 21,
   "metadata": {},
   "outputs": [
    {
     "data": {
      "text/html": [
       "<div>\n",
       "<style scoped>\n",
       "    .dataframe tbody tr th:only-of-type {\n",
       "        vertical-align: middle;\n",
       "    }\n",
       "\n",
       "    .dataframe tbody tr th {\n",
       "        vertical-align: top;\n",
       "    }\n",
       "\n",
       "    .dataframe thead th {\n",
       "        text-align: right;\n",
       "    }\n",
       "</style>\n",
       "<table border=\"1\" class=\"dataframe\">\n",
       "  <thead>\n",
       "    <tr style=\"text-align: right;\">\n",
       "      <th></th>\n",
       "      <th>ID</th>\n",
       "      <th>SECTOR</th>\n",
       "      <th>state_care</th>\n",
       "      <th>sex</th>\n",
       "      <th>state_live</th>\n",
       "      <th>ambulatory</th>\n",
       "      <th>intubate</th>\n",
       "      <th>neumonia</th>\n",
       "      <th>age</th>\n",
       "      <th>nation</th>\n",
       "      <th>...</th>\n",
       "      <th>OtherDis</th>\n",
       "      <th>CardioDis</th>\n",
       "      <th>Obesity</th>\n",
       "      <th>RenalDis</th>\n",
       "      <th>tabaquism</th>\n",
       "      <th>COVID_contact</th>\n",
       "      <th>COVID</th>\n",
       "      <th>ICU</th>\n",
       "      <th>sympt2care</th>\n",
       "      <th>dead</th>\n",
       "    </tr>\n",
       "  </thead>\n",
       "  <tbody>\n",
       "    <tr>\n",
       "      <td>4</td>\n",
       "      <td>4.0</td>\n",
       "      <td>12.0</td>\n",
       "      <td>14</td>\n",
       "      <td>1</td>\n",
       "      <td>14</td>\n",
       "      <td>2</td>\n",
       "      <td>2.0</td>\n",
       "      <td>2.0</td>\n",
       "      <td>44.0</td>\n",
       "      <td>1</td>\n",
       "      <td>...</td>\n",
       "      <td>2.0</td>\n",
       "      <td>2.0</td>\n",
       "      <td>2.0</td>\n",
       "      <td>2.0</td>\n",
       "      <td>2.0</td>\n",
       "      <td>2.0</td>\n",
       "      <td>2</td>\n",
       "      <td>2.0</td>\n",
       "      <td>3</td>\n",
       "      <td>0</td>\n",
       "    </tr>\n",
       "    <tr>\n",
       "      <td>7</td>\n",
       "      <td>7.0</td>\n",
       "      <td>12.0</td>\n",
       "      <td>32</td>\n",
       "      <td>2</td>\n",
       "      <td>32</td>\n",
       "      <td>2</td>\n",
       "      <td>2.0</td>\n",
       "      <td>1.0</td>\n",
       "      <td>89.0</td>\n",
       "      <td>1</td>\n",
       "      <td>...</td>\n",
       "      <td>2.0</td>\n",
       "      <td>2.0</td>\n",
       "      <td>2.0</td>\n",
       "      <td>2.0</td>\n",
       "      <td>2.0</td>\n",
       "      <td>2.0</td>\n",
       "      <td>2</td>\n",
       "      <td>2.0</td>\n",
       "      <td>1</td>\n",
       "      <td>0</td>\n",
       "    </tr>\n",
       "    <tr>\n",
       "      <td>8</td>\n",
       "      <td>8.0</td>\n",
       "      <td>12.0</td>\n",
       "      <td>2</td>\n",
       "      <td>1</td>\n",
       "      <td>2</td>\n",
       "      <td>2</td>\n",
       "      <td>2.0</td>\n",
       "      <td>1.0</td>\n",
       "      <td>34.0</td>\n",
       "      <td>1</td>\n",
       "      <td>...</td>\n",
       "      <td>2.0</td>\n",
       "      <td>2.0</td>\n",
       "      <td>2.0</td>\n",
       "      <td>2.0</td>\n",
       "      <td>2.0</td>\n",
       "      <td>2.0</td>\n",
       "      <td>3</td>\n",
       "      <td>2.0</td>\n",
       "      <td>0</td>\n",
       "      <td>0</td>\n",
       "    </tr>\n",
       "    <tr>\n",
       "      <td>11</td>\n",
       "      <td>11.0</td>\n",
       "      <td>12.0</td>\n",
       "      <td>6</td>\n",
       "      <td>1</td>\n",
       "      <td>6</td>\n",
       "      <td>2</td>\n",
       "      <td>2.0</td>\n",
       "      <td>1.0</td>\n",
       "      <td>7.0</td>\n",
       "      <td>1</td>\n",
       "      <td>...</td>\n",
       "      <td>2.0</td>\n",
       "      <td>2.0</td>\n",
       "      <td>2.0</td>\n",
       "      <td>2.0</td>\n",
       "      <td>2.0</td>\n",
       "      <td>2.0</td>\n",
       "      <td>2</td>\n",
       "      <td>2.0</td>\n",
       "      <td>1</td>\n",
       "      <td>0</td>\n",
       "    </tr>\n",
       "    <tr>\n",
       "      <td>20</td>\n",
       "      <td>20.0</td>\n",
       "      <td>12.0</td>\n",
       "      <td>14</td>\n",
       "      <td>1</td>\n",
       "      <td>14</td>\n",
       "      <td>2</td>\n",
       "      <td>1.0</td>\n",
       "      <td>1.0</td>\n",
       "      <td>22.0</td>\n",
       "      <td>1</td>\n",
       "      <td>...</td>\n",
       "      <td>2.0</td>\n",
       "      <td>2.0</td>\n",
       "      <td>2.0</td>\n",
       "      <td>2.0</td>\n",
       "      <td>2.0</td>\n",
       "      <td>2.0</td>\n",
       "      <td>2</td>\n",
       "      <td>2.0</td>\n",
       "      <td>4</td>\n",
       "      <td>0</td>\n",
       "    </tr>\n",
       "    <tr>\n",
       "      <td>...</td>\n",
       "      <td>...</td>\n",
       "      <td>...</td>\n",
       "      <td>...</td>\n",
       "      <td>...</td>\n",
       "      <td>...</td>\n",
       "      <td>...</td>\n",
       "      <td>...</td>\n",
       "      <td>...</td>\n",
       "      <td>...</td>\n",
       "      <td>...</td>\n",
       "      <td>...</td>\n",
       "      <td>...</td>\n",
       "      <td>...</td>\n",
       "      <td>...</td>\n",
       "      <td>...</td>\n",
       "      <td>...</td>\n",
       "      <td>...</td>\n",
       "      <td>...</td>\n",
       "      <td>...</td>\n",
       "      <td>...</td>\n",
       "      <td>...</td>\n",
       "    </tr>\n",
       "    <tr>\n",
       "      <td>95810</td>\n",
       "      <td>95810.0</td>\n",
       "      <td>6.0</td>\n",
       "      <td>30</td>\n",
       "      <td>1</td>\n",
       "      <td>30</td>\n",
       "      <td>2</td>\n",
       "      <td>2.0</td>\n",
       "      <td>2.0</td>\n",
       "      <td>52.0</td>\n",
       "      <td>1</td>\n",
       "      <td>...</td>\n",
       "      <td>2.0</td>\n",
       "      <td>2.0</td>\n",
       "      <td>1.0</td>\n",
       "      <td>2.0</td>\n",
       "      <td>2.0</td>\n",
       "      <td>2.0</td>\n",
       "      <td>3</td>\n",
       "      <td>2.0</td>\n",
       "      <td>4</td>\n",
       "      <td>0</td>\n",
       "    </tr>\n",
       "    <tr>\n",
       "      <td>95819</td>\n",
       "      <td>95819.0</td>\n",
       "      <td>12.0</td>\n",
       "      <td>9</td>\n",
       "      <td>1</td>\n",
       "      <td>9</td>\n",
       "      <td>2</td>\n",
       "      <td>2.0</td>\n",
       "      <td>1.0</td>\n",
       "      <td>66.0</td>\n",
       "      <td>1</td>\n",
       "      <td>...</td>\n",
       "      <td>2.0</td>\n",
       "      <td>2.0</td>\n",
       "      <td>1.0</td>\n",
       "      <td>2.0</td>\n",
       "      <td>2.0</td>\n",
       "      <td>2.0</td>\n",
       "      <td>3</td>\n",
       "      <td>2.0</td>\n",
       "      <td>4</td>\n",
       "      <td>0</td>\n",
       "    </tr>\n",
       "    <tr>\n",
       "      <td>95820</td>\n",
       "      <td>95820.0</td>\n",
       "      <td>12.0</td>\n",
       "      <td>15</td>\n",
       "      <td>2</td>\n",
       "      <td>15</td>\n",
       "      <td>2</td>\n",
       "      <td>2.0</td>\n",
       "      <td>1.0</td>\n",
       "      <td>46.0</td>\n",
       "      <td>1</td>\n",
       "      <td>...</td>\n",
       "      <td>2.0</td>\n",
       "      <td>2.0</td>\n",
       "      <td>2.0</td>\n",
       "      <td>2.0</td>\n",
       "      <td>2.0</td>\n",
       "      <td>2.0</td>\n",
       "      <td>3</td>\n",
       "      <td>2.0</td>\n",
       "      <td>0</td>\n",
       "      <td>0</td>\n",
       "    </tr>\n",
       "    <tr>\n",
       "      <td>95831</td>\n",
       "      <td>95831.0</td>\n",
       "      <td>12.0</td>\n",
       "      <td>15</td>\n",
       "      <td>2</td>\n",
       "      <td>15</td>\n",
       "      <td>2</td>\n",
       "      <td>2.0</td>\n",
       "      <td>1.0</td>\n",
       "      <td>44.0</td>\n",
       "      <td>1</td>\n",
       "      <td>...</td>\n",
       "      <td>2.0</td>\n",
       "      <td>2.0</td>\n",
       "      <td>1.0</td>\n",
       "      <td>2.0</td>\n",
       "      <td>2.0</td>\n",
       "      <td>1.0</td>\n",
       "      <td>3</td>\n",
       "      <td>2.0</td>\n",
       "      <td>1</td>\n",
       "      <td>0</td>\n",
       "    </tr>\n",
       "    <tr>\n",
       "      <td>95832</td>\n",
       "      <td>95832.0</td>\n",
       "      <td>12.0</td>\n",
       "      <td>15</td>\n",
       "      <td>2</td>\n",
       "      <td>15</td>\n",
       "      <td>2</td>\n",
       "      <td>2.0</td>\n",
       "      <td>1.0</td>\n",
       "      <td>54.0</td>\n",
       "      <td>1</td>\n",
       "      <td>...</td>\n",
       "      <td>2.0</td>\n",
       "      <td>2.0</td>\n",
       "      <td>2.0</td>\n",
       "      <td>2.0</td>\n",
       "      <td>2.0</td>\n",
       "      <td>2.0</td>\n",
       "      <td>3</td>\n",
       "      <td>2.0</td>\n",
       "      <td>3</td>\n",
       "      <td>0</td>\n",
       "    </tr>\n",
       "  </tbody>\n",
       "</table>\n",
       "<p>12096 rows × 25 columns</p>\n",
       "</div>"
      ],
      "text/plain": [
       "            ID  SECTOR  state_care  sex  state_live  ambulatory  intubate  \\\n",
       "4          4.0    12.0          14    1          14           2       2.0   \n",
       "7          7.0    12.0          32    2          32           2       2.0   \n",
       "8          8.0    12.0           2    1           2           2       2.0   \n",
       "11        11.0    12.0           6    1           6           2       2.0   \n",
       "20        20.0    12.0          14    1          14           2       1.0   \n",
       "...        ...     ...         ...  ...         ...         ...       ...   \n",
       "95810  95810.0     6.0          30    1          30           2       2.0   \n",
       "95819  95819.0    12.0           9    1           9           2       2.0   \n",
       "95820  95820.0    12.0          15    2          15           2       2.0   \n",
       "95831  95831.0    12.0          15    2          15           2       2.0   \n",
       "95832  95832.0    12.0          15    2          15           2       2.0   \n",
       "\n",
       "       neumonia   age  nation  ...  OtherDis  CardioDis  Obesity  RenalDis  \\\n",
       "4           2.0  44.0       1  ...       2.0        2.0      2.0       2.0   \n",
       "7           1.0  89.0       1  ...       2.0        2.0      2.0       2.0   \n",
       "8           1.0  34.0       1  ...       2.0        2.0      2.0       2.0   \n",
       "11          1.0   7.0       1  ...       2.0        2.0      2.0       2.0   \n",
       "20          1.0  22.0       1  ...       2.0        2.0      2.0       2.0   \n",
       "...         ...   ...     ...  ...       ...        ...      ...       ...   \n",
       "95810       2.0  52.0       1  ...       2.0        2.0      1.0       2.0   \n",
       "95819       1.0  66.0       1  ...       2.0        2.0      1.0       2.0   \n",
       "95820       1.0  46.0       1  ...       2.0        2.0      2.0       2.0   \n",
       "95831       1.0  44.0       1  ...       2.0        2.0      1.0       2.0   \n",
       "95832       1.0  54.0       1  ...       2.0        2.0      2.0       2.0   \n",
       "\n",
       "       tabaquism  COVID_contact  COVID  ICU  sympt2care  dead  \n",
       "4            2.0            2.0      2  2.0           3     0  \n",
       "7            2.0            2.0      2  2.0           1     0  \n",
       "8            2.0            2.0      3  2.0           0     0  \n",
       "11           2.0            2.0      2  2.0           1     0  \n",
       "20           2.0            2.0      2  2.0           4     0  \n",
       "...          ...            ...    ...  ...         ...   ...  \n",
       "95810        2.0            2.0      3  2.0           4     0  \n",
       "95819        2.0            2.0      3  2.0           4     0  \n",
       "95820        2.0            2.0      3  2.0           0     0  \n",
       "95831        2.0            1.0      3  2.0           1     0  \n",
       "95832        2.0            2.0      3  2.0           3     0  \n",
       "\n",
       "[12096 rows x 25 columns]"
      ]
     },
     "execution_count": 21,
     "metadata": {},
     "output_type": "execute_result"
    }
   ],
   "source": [
    "df2mx"
   ]
  },
  {
   "cell_type": "code",
   "execution_count": 22,
   "metadata": {},
   "outputs": [
    {
     "data": {
      "text/html": [
       "<div>\n",
       "<style scoped>\n",
       "    .dataframe tbody tr th:only-of-type {\n",
       "        vertical-align: middle;\n",
       "    }\n",
       "\n",
       "    .dataframe tbody tr th {\n",
       "        vertical-align: top;\n",
       "    }\n",
       "\n",
       "    .dataframe thead th {\n",
       "        text-align: right;\n",
       "    }\n",
       "</style>\n",
       "<table border=\"1\" class=\"dataframe\">\n",
       "  <thead>\n",
       "    <tr style=\"text-align: right;\">\n",
       "      <th></th>\n",
       "      <th>ID</th>\n",
       "      <th>SECTOR</th>\n",
       "      <th>state_care</th>\n",
       "      <th>sex</th>\n",
       "      <th>state_live</th>\n",
       "      <th>ambulatory</th>\n",
       "      <th>neumonia</th>\n",
       "      <th>age</th>\n",
       "      <th>nation</th>\n",
       "      <th>diabetes</th>\n",
       "      <th>...</th>\n",
       "      <th>immunosprs</th>\n",
       "      <th>hyperten</th>\n",
       "      <th>OtherDis</th>\n",
       "      <th>CardioDis</th>\n",
       "      <th>Obesity</th>\n",
       "      <th>RenalDis</th>\n",
       "      <th>tabaquism</th>\n",
       "      <th>COVID</th>\n",
       "      <th>sympt2care</th>\n",
       "      <th>dead</th>\n",
       "    </tr>\n",
       "  </thead>\n",
       "  <tbody>\n",
       "    <tr>\n",
       "      <td>0</td>\n",
       "      <td>0.0</td>\n",
       "      <td>4.0</td>\n",
       "      <td>17</td>\n",
       "      <td>2</td>\n",
       "      <td>17</td>\n",
       "      <td>1</td>\n",
       "      <td>2.0</td>\n",
       "      <td>42.0</td>\n",
       "      <td>1</td>\n",
       "      <td>2.0</td>\n",
       "      <td>...</td>\n",
       "      <td>2.0</td>\n",
       "      <td>2.0</td>\n",
       "      <td>2.0</td>\n",
       "      <td>2.0</td>\n",
       "      <td>2.0</td>\n",
       "      <td>2.0</td>\n",
       "      <td>2.0</td>\n",
       "      <td>1</td>\n",
       "      <td>0</td>\n",
       "      <td>0</td>\n",
       "    </tr>\n",
       "    <tr>\n",
       "      <td>1</td>\n",
       "      <td>1.0</td>\n",
       "      <td>4.0</td>\n",
       "      <td>9</td>\n",
       "      <td>1</td>\n",
       "      <td>9</td>\n",
       "      <td>1</td>\n",
       "      <td>2.0</td>\n",
       "      <td>51.0</td>\n",
       "      <td>1</td>\n",
       "      <td>2.0</td>\n",
       "      <td>...</td>\n",
       "      <td>2.0</td>\n",
       "      <td>2.0</td>\n",
       "      <td>2.0</td>\n",
       "      <td>2.0</td>\n",
       "      <td>2.0</td>\n",
       "      <td>2.0</td>\n",
       "      <td>2.0</td>\n",
       "      <td>1</td>\n",
       "      <td>2</td>\n",
       "      <td>0</td>\n",
       "    </tr>\n",
       "    <tr>\n",
       "      <td>2</td>\n",
       "      <td>2.0</td>\n",
       "      <td>4.0</td>\n",
       "      <td>2</td>\n",
       "      <td>2</td>\n",
       "      <td>2</td>\n",
       "      <td>2</td>\n",
       "      <td>2.0</td>\n",
       "      <td>51.0</td>\n",
       "      <td>1</td>\n",
       "      <td>1.0</td>\n",
       "      <td>...</td>\n",
       "      <td>2.0</td>\n",
       "      <td>1.0</td>\n",
       "      <td>2.0</td>\n",
       "      <td>2.0</td>\n",
       "      <td>1.0</td>\n",
       "      <td>2.0</td>\n",
       "      <td>2.0</td>\n",
       "      <td>1</td>\n",
       "      <td>0</td>\n",
       "      <td>0</td>\n",
       "    </tr>\n",
       "    <tr>\n",
       "      <td>3</td>\n",
       "      <td>3.0</td>\n",
       "      <td>4.0</td>\n",
       "      <td>9</td>\n",
       "      <td>2</td>\n",
       "      <td>9</td>\n",
       "      <td>2</td>\n",
       "      <td>2.0</td>\n",
       "      <td>57.0</td>\n",
       "      <td>1</td>\n",
       "      <td>1.0</td>\n",
       "      <td>...</td>\n",
       "      <td>2.0</td>\n",
       "      <td>2.0</td>\n",
       "      <td>2.0</td>\n",
       "      <td>2.0</td>\n",
       "      <td>2.0</td>\n",
       "      <td>2.0</td>\n",
       "      <td>2.0</td>\n",
       "      <td>1</td>\n",
       "      <td>6</td>\n",
       "      <td>1</td>\n",
       "    </tr>\n",
       "    <tr>\n",
       "      <td>4</td>\n",
       "      <td>4.0</td>\n",
       "      <td>12.0</td>\n",
       "      <td>14</td>\n",
       "      <td>1</td>\n",
       "      <td>14</td>\n",
       "      <td>2</td>\n",
       "      <td>2.0</td>\n",
       "      <td>44.0</td>\n",
       "      <td>1</td>\n",
       "      <td>1.0</td>\n",
       "      <td>...</td>\n",
       "      <td>2.0</td>\n",
       "      <td>2.0</td>\n",
       "      <td>2.0</td>\n",
       "      <td>2.0</td>\n",
       "      <td>2.0</td>\n",
       "      <td>2.0</td>\n",
       "      <td>2.0</td>\n",
       "      <td>2</td>\n",
       "      <td>3</td>\n",
       "      <td>0</td>\n",
       "    </tr>\n",
       "    <tr>\n",
       "      <td>...</td>\n",
       "      <td>...</td>\n",
       "      <td>...</td>\n",
       "      <td>...</td>\n",
       "      <td>...</td>\n",
       "      <td>...</td>\n",
       "      <td>...</td>\n",
       "      <td>...</td>\n",
       "      <td>...</td>\n",
       "      <td>...</td>\n",
       "      <td>...</td>\n",
       "      <td>...</td>\n",
       "      <td>...</td>\n",
       "      <td>...</td>\n",
       "      <td>...</td>\n",
       "      <td>...</td>\n",
       "      <td>...</td>\n",
       "      <td>...</td>\n",
       "      <td>...</td>\n",
       "      <td>...</td>\n",
       "      <td>...</td>\n",
       "      <td>...</td>\n",
       "    </tr>\n",
       "    <tr>\n",
       "      <td>95834</td>\n",
       "      <td>95834.0</td>\n",
       "      <td>4.0</td>\n",
       "      <td>23</td>\n",
       "      <td>2</td>\n",
       "      <td>23</td>\n",
       "      <td>2</td>\n",
       "      <td>2.0</td>\n",
       "      <td>59.0</td>\n",
       "      <td>1</td>\n",
       "      <td>2.0</td>\n",
       "      <td>...</td>\n",
       "      <td>2.0</td>\n",
       "      <td>2.0</td>\n",
       "      <td>2.0</td>\n",
       "      <td>2.0</td>\n",
       "      <td>2.0</td>\n",
       "      <td>2.0</td>\n",
       "      <td>2.0</td>\n",
       "      <td>3</td>\n",
       "      <td>1</td>\n",
       "      <td>0</td>\n",
       "    </tr>\n",
       "    <tr>\n",
       "      <td>95835</td>\n",
       "      <td>95835.0</td>\n",
       "      <td>4.0</td>\n",
       "      <td>2</td>\n",
       "      <td>2</td>\n",
       "      <td>2</td>\n",
       "      <td>2</td>\n",
       "      <td>2.0</td>\n",
       "      <td>50.0</td>\n",
       "      <td>1</td>\n",
       "      <td>1.0</td>\n",
       "      <td>...</td>\n",
       "      <td>1.0</td>\n",
       "      <td>1.0</td>\n",
       "      <td>2.0</td>\n",
       "      <td>2.0</td>\n",
       "      <td>2.0</td>\n",
       "      <td>1.0</td>\n",
       "      <td>2.0</td>\n",
       "      <td>3</td>\n",
       "      <td>0</td>\n",
       "      <td>0</td>\n",
       "    </tr>\n",
       "    <tr>\n",
       "      <td>95836</td>\n",
       "      <td>95836.0</td>\n",
       "      <td>12.0</td>\n",
       "      <td>27</td>\n",
       "      <td>1</td>\n",
       "      <td>27</td>\n",
       "      <td>2</td>\n",
       "      <td>2.0</td>\n",
       "      <td>65.0</td>\n",
       "      <td>1</td>\n",
       "      <td>2.0</td>\n",
       "      <td>...</td>\n",
       "      <td>2.0</td>\n",
       "      <td>1.0</td>\n",
       "      <td>2.0</td>\n",
       "      <td>2.0</td>\n",
       "      <td>2.0</td>\n",
       "      <td>2.0</td>\n",
       "      <td>2.0</td>\n",
       "      <td>3</td>\n",
       "      <td>5</td>\n",
       "      <td>0</td>\n",
       "    </tr>\n",
       "    <tr>\n",
       "      <td>95837</td>\n",
       "      <td>95837.0</td>\n",
       "      <td>12.0</td>\n",
       "      <td>15</td>\n",
       "      <td>1</td>\n",
       "      <td>15</td>\n",
       "      <td>1</td>\n",
       "      <td>2.0</td>\n",
       "      <td>48.0</td>\n",
       "      <td>1</td>\n",
       "      <td>2.0</td>\n",
       "      <td>...</td>\n",
       "      <td>2.0</td>\n",
       "      <td>2.0</td>\n",
       "      <td>2.0</td>\n",
       "      <td>2.0</td>\n",
       "      <td>2.0</td>\n",
       "      <td>2.0</td>\n",
       "      <td>2.0</td>\n",
       "      <td>3</td>\n",
       "      <td>2</td>\n",
       "      <td>0</td>\n",
       "    </tr>\n",
       "    <tr>\n",
       "      <td>95838</td>\n",
       "      <td>95838.0</td>\n",
       "      <td>12.0</td>\n",
       "      <td>9</td>\n",
       "      <td>2</td>\n",
       "      <td>9</td>\n",
       "      <td>1</td>\n",
       "      <td>2.0</td>\n",
       "      <td>23.0</td>\n",
       "      <td>1</td>\n",
       "      <td>2.0</td>\n",
       "      <td>...</td>\n",
       "      <td>2.0</td>\n",
       "      <td>2.0</td>\n",
       "      <td>2.0</td>\n",
       "      <td>2.0</td>\n",
       "      <td>2.0</td>\n",
       "      <td>2.0</td>\n",
       "      <td>2.0</td>\n",
       "      <td>3</td>\n",
       "      <td>1</td>\n",
       "      <td>0</td>\n",
       "    </tr>\n",
       "  </tbody>\n",
       "</table>\n",
       "<p>94369 rows × 22 columns</p>\n",
       "</div>"
      ],
      "text/plain": [
       "            ID  SECTOR  state_care  sex  state_live  ambulatory  neumonia  \\\n",
       "0          0.0     4.0          17    2          17           1       2.0   \n",
       "1          1.0     4.0           9    1           9           1       2.0   \n",
       "2          2.0     4.0           2    2           2           2       2.0   \n",
       "3          3.0     4.0           9    2           9           2       2.0   \n",
       "4          4.0    12.0          14    1          14           2       2.0   \n",
       "...        ...     ...         ...  ...         ...         ...       ...   \n",
       "95834  95834.0     4.0          23    2          23           2       2.0   \n",
       "95835  95835.0     4.0           2    2           2           2       2.0   \n",
       "95836  95836.0    12.0          27    1          27           2       2.0   \n",
       "95837  95837.0    12.0          15    1          15           1       2.0   \n",
       "95838  95838.0    12.0           9    2           9           1       2.0   \n",
       "\n",
       "        age  nation  diabetes  ...  immunosprs  hyperten  OtherDis  CardioDis  \\\n",
       "0      42.0       1       2.0  ...         2.0       2.0       2.0        2.0   \n",
       "1      51.0       1       2.0  ...         2.0       2.0       2.0        2.0   \n",
       "2      51.0       1       1.0  ...         2.0       1.0       2.0        2.0   \n",
       "3      57.0       1       1.0  ...         2.0       2.0       2.0        2.0   \n",
       "4      44.0       1       1.0  ...         2.0       2.0       2.0        2.0   \n",
       "...     ...     ...       ...  ...         ...       ...       ...        ...   \n",
       "95834  59.0       1       2.0  ...         2.0       2.0       2.0        2.0   \n",
       "95835  50.0       1       1.0  ...         1.0       1.0       2.0        2.0   \n",
       "95836  65.0       1       2.0  ...         2.0       1.0       2.0        2.0   \n",
       "95837  48.0       1       2.0  ...         2.0       2.0       2.0        2.0   \n",
       "95838  23.0       1       2.0  ...         2.0       2.0       2.0        2.0   \n",
       "\n",
       "       Obesity  RenalDis  tabaquism  COVID  sympt2care  dead  \n",
       "0          2.0       2.0        2.0      1           0     0  \n",
       "1          2.0       2.0        2.0      1           2     0  \n",
       "2          1.0       2.0        2.0      1           0     0  \n",
       "3          2.0       2.0        2.0      1           6     1  \n",
       "4          2.0       2.0        2.0      2           3     0  \n",
       "...        ...       ...        ...    ...         ...   ...  \n",
       "95834      2.0       2.0        2.0      3           1     0  \n",
       "95835      2.0       1.0        2.0      3           0     0  \n",
       "95836      2.0       2.0        2.0      3           5     0  \n",
       "95837      2.0       2.0        2.0      3           2     0  \n",
       "95838      2.0       2.0        2.0      3           1     0  \n",
       "\n",
       "[94369 rows x 22 columns]"
      ]
     },
     "execution_count": 22,
     "metadata": {},
     "output_type": "execute_result"
    }
   ],
   "source": [
    "df3mx"
   ]
  },
  {
   "cell_type": "code",
   "execution_count": 23,
   "metadata": {},
   "outputs": [
    {
     "data": {
      "image/png": "[encoded data removed]",
      "text/plain": [
       "<Figure size 432x288 with 1 Axes>"
      ]
     },
     "metadata": {
      "needs_background": "light"
     },
     "output_type": "display_data"
    }
   ],
   "source": [
    "plt.hist(df2mx['age']);"
   ]
  },
  {
   "cell_type": "code",
   "execution_count": 24,
   "metadata": {},
   "outputs": [
    {
     "data": {
      "image/png": "[encoded data removed]",
      "text/plain": [
       "<Figure size 432x288 with 1 Axes>"
      ]
     },
     "metadata": {
      "needs_background": "light"
     },
     "output_type": "display_data"
    }
   ],
   "source": [
    "plt.hist(df3mx['age']);"
   ]
  },
  {
   "cell_type": "markdown",
   "metadata": {},
   "source": [
    "pretty different distributions (shape) of age"
   ]
  },
  {
   "cell_type": "code",
   "execution_count": 25,
   "metadata": {},
   "outputs": [
    {
     "data": {
      "image/png": "[encoded data removed]",
      "text/plain": [
       "<Figure size 432x288 with 1 Axes>"
      ]
     },
     "metadata": {
      "needs_background": "light"
     },
     "output_type": "display_data"
    }
   ],
   "source": [
    "plt.hist(pd.to_numeric(df2mx['sympt2care']));"
   ]
  },
  {
   "cell_type": "code",
   "execution_count": 26,
   "metadata": {},
   "outputs": [
    {
     "data": {
      "image/png": "[encoded data removed]",
      "text/plain": [
       "<Figure size 432x288 with 1 Axes>"
      ]
     },
     "metadata": {
      "needs_background": "light"
     },
     "output_type": "display_data"
    }
   ],
   "source": [
    "plt.hist(pd.to_numeric(df3mx['sympt2care']));"
   ]
  },
  {
   "cell_type": "markdown",
   "metadata": {},
   "source": [
    "fairly similar for s2c"
   ]
  },
  {
   "cell_type": "code",
   "execution_count": 27,
   "metadata": {},
   "outputs": [
    {
     "data": {
      "image/png": "[encoded data removed]",
      "text/plain": [
       "<Figure size 432x288 with 2 Axes>"
      ]
     },
     "metadata": {
      "needs_background": "light"
     },
     "output_type": "display_data"
    }
   ],
   "source": [
    "corr = df2mx.iloc[:,1:].corr()\n",
    "corr_dead = pd.DataFrame(corr['dead'])\n",
    "sns.heatmap(corr);"
   ]
  },
  {
   "cell_type": "code",
   "execution_count": 28,
   "metadata": {},
   "outputs": [
    {
     "data": {
      "image/png": "[encoded data removed]",
      "text/plain": [
       "<Figure size 432x288 with 2 Axes>"
      ]
     },
     "metadata": {
      "needs_background": "light"
     },
     "output_type": "display_data"
    }
   ],
   "source": [
    "corr = df3mx.iloc[:,1:].corr()\n",
    "corr_dead['dead2'] = corr['dead']\n",
    "sns.heatmap(corr);"
   ]
  },
  {
   "cell_type": "markdown",
   "metadata": {},
   "source": [
    "what variables are correlated with \"dead\""
   ]
  },
  {
   "cell_type": "code",
   "execution_count": 29,
   "metadata": {},
   "outputs": [
    {
     "data": {
      "text/html": [
       "<div>\n",
       "<style scoped>\n",
       "    .dataframe tbody tr th:only-of-type {\n",
       "        vertical-align: middle;\n",
       "    }\n",
       "\n",
       "    .dataframe tbody tr th {\n",
       "        vertical-align: top;\n",
       "    }\n",
       "\n",
       "    .dataframe thead th {\n",
       "        text-align: right;\n",
       "    }\n",
       "</style>\n",
       "<table border=\"1\" class=\"dataframe\">\n",
       "  <thead>\n",
       "    <tr style=\"text-align: right;\">\n",
       "      <th></th>\n",
       "      <th>dead</th>\n",
       "      <th>dead2</th>\n",
       "    </tr>\n",
       "  </thead>\n",
       "  <tbody>\n",
       "    <tr>\n",
       "      <td>SECTOR</td>\n",
       "      <td>0.000046</td>\n",
       "      <td>-0.058181</td>\n",
       "    </tr>\n",
       "    <tr>\n",
       "      <td>state_care</td>\n",
       "      <td>0.024490</td>\n",
       "      <td>0.016388</td>\n",
       "    </tr>\n",
       "    <tr>\n",
       "      <td>sex</td>\n",
       "      <td>0.037290</td>\n",
       "      <td>0.052849</td>\n",
       "    </tr>\n",
       "    <tr>\n",
       "      <td>state_live</td>\n",
       "      <td>0.025491</td>\n",
       "      <td>0.016792</td>\n",
       "    </tr>\n",
       "    <tr>\n",
       "      <td>ambulatory</td>\n",
       "      <td>NaN</td>\n",
       "      <td>0.282621</td>\n",
       "    </tr>\n",
       "    <tr>\n",
       "      <td>intubate</td>\n",
       "      <td>-0.328181</td>\n",
       "      <td>NaN</td>\n",
       "    </tr>\n",
       "    <tr>\n",
       "      <td>neumonia</td>\n",
       "      <td>-0.133778</td>\n",
       "      <td>-0.267876</td>\n",
       "    </tr>\n",
       "    <tr>\n",
       "      <td>age</td>\n",
       "      <td>0.158902</td>\n",
       "      <td>0.185103</td>\n",
       "    </tr>\n",
       "    <tr>\n",
       "      <td>nation</td>\n",
       "      <td>-0.005835</td>\n",
       "      <td>-0.011392</td>\n",
       "    </tr>\n",
       "    <tr>\n",
       "      <td>diabetes</td>\n",
       "      <td>-0.093903</td>\n",
       "      <td>-0.152669</td>\n",
       "    </tr>\n",
       "    <tr>\n",
       "      <td>epoch</td>\n",
       "      <td>-0.046481</td>\n",
       "      <td>-0.079885</td>\n",
       "    </tr>\n",
       "    <tr>\n",
       "      <td>asthma</td>\n",
       "      <td>0.024381</td>\n",
       "      <td>0.015766</td>\n",
       "    </tr>\n",
       "    <tr>\n",
       "      <td>immunosprs</td>\n",
       "      <td>-0.009409</td>\n",
       "      <td>-0.041848</td>\n",
       "    </tr>\n",
       "    <tr>\n",
       "      <td>hyperten</td>\n",
       "      <td>-0.101709</td>\n",
       "      <td>-0.131420</td>\n",
       "    </tr>\n",
       "    <tr>\n",
       "      <td>OtherDis</td>\n",
       "      <td>-0.003144</td>\n",
       "      <td>-0.029800</td>\n",
       "    </tr>\n",
       "    <tr>\n",
       "      <td>CardioDis</td>\n",
       "      <td>-0.058580</td>\n",
       "      <td>-0.065514</td>\n",
       "    </tr>\n",
       "    <tr>\n",
       "      <td>Obesity</td>\n",
       "      <td>-0.049105</td>\n",
       "      <td>-0.053611</td>\n",
       "    </tr>\n",
       "    <tr>\n",
       "      <td>RenalDis</td>\n",
       "      <td>-0.036345</td>\n",
       "      <td>-0.086708</td>\n",
       "    </tr>\n",
       "    <tr>\n",
       "      <td>tabaquism</td>\n",
       "      <td>0.003768</td>\n",
       "      <td>-0.004933</td>\n",
       "    </tr>\n",
       "    <tr>\n",
       "      <td>COVID_contact</td>\n",
       "      <td>0.042755</td>\n",
       "      <td>NaN</td>\n",
       "    </tr>\n",
       "    <tr>\n",
       "      <td>COVID</td>\n",
       "      <td>-0.201171</td>\n",
       "      <td>-0.149038</td>\n",
       "    </tr>\n",
       "    <tr>\n",
       "      <td>ICU</td>\n",
       "      <td>-0.182542</td>\n",
       "      <td>NaN</td>\n",
       "    </tr>\n",
       "    <tr>\n",
       "      <td>sympt2care</td>\n",
       "      <td>0.031094</td>\n",
       "      <td>0.016592</td>\n",
       "    </tr>\n",
       "    <tr>\n",
       "      <td>dead</td>\n",
       "      <td>1.000000</td>\n",
       "      <td>1.000000</td>\n",
       "    </tr>\n",
       "  </tbody>\n",
       "</table>\n",
       "</div>"
      ],
      "text/plain": [
       "                   dead     dead2\n",
       "SECTOR         0.000046 -0.058181\n",
       "state_care     0.024490  0.016388\n",
       "sex            0.037290  0.052849\n",
       "state_live     0.025491  0.016792\n",
       "ambulatory          NaN  0.282621\n",
       "intubate      -0.328181       NaN\n",
       "neumonia      -0.133778 -0.267876\n",
       "age            0.158902  0.185103\n",
       "nation        -0.005835 -0.011392\n",
       "diabetes      -0.093903 -0.152669\n",
       "epoch         -0.046481 -0.079885\n",
       "asthma         0.024381  0.015766\n",
       "immunosprs    -0.009409 -0.041848\n",
       "hyperten      -0.101709 -0.131420\n",
       "OtherDis      -0.003144 -0.029800\n",
       "CardioDis     -0.058580 -0.065514\n",
       "Obesity       -0.049105 -0.053611\n",
       "RenalDis      -0.036345 -0.086708\n",
       "tabaquism      0.003768 -0.004933\n",
       "COVID_contact  0.042755       NaN\n",
       "COVID         -0.201171 -0.149038\n",
       "ICU           -0.182542       NaN\n",
       "sympt2care     0.031094  0.016592\n",
       "dead           1.000000  1.000000"
      ]
     },
     "execution_count": 29,
     "metadata": {},
     "output_type": "execute_result"
    }
   ],
   "source": [
    "corr_dead"
   ]
  },
  {
   "cell_type": "markdown",
   "metadata": {},
   "source": [
    "Potential Predictors:\n",
    "\n",
    "similar: age, hyperten\n",
    "different: ambulatory, neumonia, COVID, "
   ]
  },
  {
   "cell_type": "markdown",
   "metadata": {},
   "source": [
    "## Modeling\n",
    "\n",
    "## Logistic Regression"
   ]
  },
  {
   "cell_type": "code",
   "execution_count": 30,
   "metadata": {},
   "outputs": [
    {
     "name": "stdout",
     "output_type": "stream",
     "text": [
      "0.8850859788359788\n",
      "0.11491402116402116\n",
      "0.5009390283401899\n",
      "0.6611364299182736\n"
     ]
    }
   ],
   "source": [
    "from sklearn.linear_model import LogisticRegression  # from wk6\n",
    "from sklearn.metrics import mean_squared_error, r2_score\n",
    "from sklearn.metrics import roc_curve, auc, roc_auc_score, confusion_matrix\n",
    "\n",
    "X = df2mx.iloc[:,:-1]\n",
    "y = df2mx['dead']\n",
    "\n",
    "lr = LogisticRegression(solver='lbfgs', max_iter=1000)\n",
    "lr.fit(X, y)\n",
    "#print(lr.coef_)\n",
    "# print(lr.intercept_)\n",
    "# print(y)\n",
    "y_hat = lr.predict(X)\n",
    "print(lr.score(X,y))\n",
    "print(mean_squared_error(y,y_hat))\n",
    "\n",
    "\n",
    "fpr, tpr, _ = roc_curve(y, y_hat) #using predicted y uses 0.5 as the threashold\n",
    "roc_auc = auc(fpr, tpr)\n",
    "print(roc_auc)\n",
    "\n",
    "y_prob = lr.predict_proba(X)\n",
    "fpr, tpr, _ = roc_curve(y, y_prob[:,1]) #using the prob works\n",
    "roc_auc = auc(fpr, tpr)\n",
    "print(roc_auc)\n",
    "\n"
   ]
  },
  {
   "cell_type": "code",
   "execution_count": 31,
   "metadata": {},
   "outputs": [
    {
     "data": {
      "image/png": "[encoded data removed]",
      "text/plain": [
       "<Figure size 432x288 with 1 Axes>"
      ]
     },
     "metadata": {
      "needs_background": "light"
     },
     "output_type": "display_data"
    }
   ],
   "source": [
    "#plot ROC curve\n",
    "# https://scikit-learn.org/stable/auto_examples/model_selection/plot_roc.html#sphx-glr-auto-examples-model-selection-plot-roc-py\n",
    "\n",
    "plt.figure()\n",
    "lw = 2\n",
    "plt.plot(fpr, tpr, color='darkorange',\n",
    "         lw=lw, label='ROC curve (area = %0.2f)' % roc_auc)\n",
    "plt.plot([0, 1], [0, 1], color='navy', lw=lw, linestyle='--')\n",
    "plt.xlim([0.0, 1.0])\n",
    "plt.ylim([0.0, 1.05])\n",
    "plt.xlabel('False Positive Rate')\n",
    "plt.ylabel('True Positive Rate')\n",
    "plt.title('Receiver operating characteristic example')\n",
    "plt.legend(loc=\"lower right\")\n",
    "plt.show()"
   ]
  },
  {
   "cell_type": "markdown",
   "metadata": {},
   "source": [
    "try smaller set of variables"
   ]
  },
  {
   "cell_type": "code",
   "execution_count": 32,
   "metadata": {},
   "outputs": [
    {
     "name": "stdout",
     "output_type": "stream",
     "text": [
      "0.8896329365079365\n",
      "0.11036706349206349\n",
      "0.8085721111136497\n"
     ]
    }
   ],
   "source": [
    "X = df2mx[['age','intubate','neumonia','hyperten','ICU', 'COVID']]\n",
    "y = df2mx['dead']\n",
    "\n",
    "lr = LogisticRegression(solver='lbfgs', max_iter=1000)\n",
    "lr.fit(X, y)\n",
    "#print(lr.coef_)\n",
    "# print(lr.intercept_)\n",
    "# print(y)\n",
    "y_hat = lr.predict(X)\n",
    "print(lr.score(X,y))\n",
    "print(mean_squared_error(y,y_hat))\n",
    "\n",
    "#ROC\n",
    "y_prob = lr.predict_proba(X)\n",
    "fpr, tpr, _ = roc_curve(y, y_prob[:,1])\n",
    "roc_auc = auc(fpr, tpr)\n",
    "print(roc_auc)\n",
    "\n"
   ]
  },
  {
   "cell_type": "code",
   "execution_count": 33,
   "metadata": {},
   "outputs": [
    {
     "data": {
      "image/png": "[encoded data removed]",
      "text/plain": [
       "<Figure size 432x288 with 1 Axes>"
      ]
     },
     "metadata": {
      "needs_background": "light"
     },
     "output_type": "display_data"
    }
   ],
   "source": [
    "#plot ROC curve\n",
    "# https://scikit-learn.org/stable/auto_examples/model_selection/plot_roc.html#sphx-glr-auto-examples-model-selection-plot-roc-py\n",
    "\n",
    "plt.figure()\n",
    "lw = 2\n",
    "plt.plot(fpr, tpr, color='darkorange',\n",
    "         lw=lw, label='ROC curve (area = %0.2f)' % roc_auc)\n",
    "plt.plot([0, 1], [0, 1], color='navy', lw=lw, linestyle='--')\n",
    "plt.xlim([0.0, 1.0])\n",
    "plt.ylim([0.0, 1.05])\n",
    "plt.xlabel('False Positive Rate')\n",
    "plt.ylabel('True Positive Rate')\n",
    "plt.title('Receiver operating characteristic example')\n",
    "plt.legend(loc=\"lower right\")\n",
    "plt.show()"
   ]
  },
  {
   "cell_type": "code",
   "execution_count": 34,
   "metadata": {},
   "outputs": [
    {
     "data": {
      "image/png": "[encoded data removed]",
      "text/plain": [
       "<Figure size 432x288 with 1 Axes>"
      ]
     },
     "metadata": {
      "needs_background": "light"
     },
     "output_type": "display_data"
    }
   ],
   "source": [
    "plt.hist(y_prob[y ==1,1]);"
   ]
  },
  {
   "cell_type": "code",
   "execution_count": 35,
   "metadata": {},
   "outputs": [
    {
     "data": {
      "image/png": "[encoded data removed]",
      "text/plain": [
       "<Figure size 432x288 with 1 Axes>"
      ]
     },
     "metadata": {
      "needs_background": "light"
     },
     "output_type": "display_data"
    }
   ],
   "source": [
    "plt.hist(y_prob[y ==0,1]);"
   ]
  },
  {
   "cell_type": "markdown",
   "metadata": {},
   "source": [
    "nearly the same R2 but very different ROC and AUC"
   ]
  },
  {
   "cell_type": "code",
   "execution_count": 36,
   "metadata": {},
   "outputs": [
    {
     "name": "stdout",
     "output_type": "stream",
     "text": [
      "[[ 0.02388187 -1.75367141 -0.58983704 -0.26372762 -0.18479181 -0.93983015]]\n",
      "[[1.02416932 0.17313712 0.55441763 0.76818275 0.83127733 0.39069419]]\n"
     ]
    }
   ],
   "source": [
    "#Wow, that's explains almost all of the variability in deaths (88%).\n",
    "#What variables are influencial?\n",
    "\n",
    "#log odds ratio\n",
    "print(lr.coef_)\n",
    "\n",
    "#odds ratio\n",
    "print(np.exp(lr.coef_))"
   ]
  },
  {
   "cell_type": "markdown",
   "metadata": {},
   "source": [
    "Intubate, Neumonia and COVID diagnosis are influencial but negative? coding 1,2"
   ]
  },
  {
   "cell_type": "code",
   "execution_count": 37,
   "metadata": {},
   "outputs": [
    {
     "name": "stdout",
     "output_type": "stream",
     "text": [
      "0.9645222477720438\n",
      "0.03547775222795622\n",
      "0.7149800272784049\n"
     ]
    }
   ],
   "source": [
    "X = df3mx.iloc[:,:-1]\n",
    "y = df3mx['dead']\n",
    "\n",
    "lr = LogisticRegression(solver='lbfgs', max_iter=1000)\n",
    "lr.fit(X, y)\n",
    "#print(lr.coef_)\n",
    "# print(lr.intercept_)\n",
    "# print(y)\n",
    "y_hat = lr.predict(X)\n",
    "print(lr.score(X,y))\n",
    "print(mean_squared_error(y,y_hat))\n",
    "\n",
    "#ROC\n",
    "y_prob = lr.predict_proba(X)\n",
    "fpr, tpr, _ = roc_curve(y, y_prob[:,1])\n",
    "roc_auc = auc(fpr, tpr)\n",
    "print(roc_auc)"
   ]
  },
  {
   "cell_type": "code",
   "execution_count": 38,
   "metadata": {},
   "outputs": [
    {
     "name": "stdout",
     "output_type": "stream",
     "text": [
      "[[ 0.02644144  2.43464036 -0.38377489 -0.81947568 -0.21460889 -1.02449724]]\n",
      "0.9643209104684801\n",
      "0.03567908953151989\n",
      "0.9177243896450313\n",
      "Best Threshold=0.021335\n",
      "0.21418050419099494\n"
     ]
    }
   ],
   "source": [
    "X = df3mx[['age','ambulatory','diabetes','neumonia','hyperten', 'COVID']]\n",
    "y = df3mx['dead']\n",
    "\n",
    "lr = LogisticRegression(solver='lbfgs', max_iter=1000)\n",
    "lr.fit(X, y)\n",
    "print(lr.coef_)\n",
    "# print(lr.intercept_)\n",
    "# print(y)\n",
    "y_hat = lr.predict(X)\n",
    "print(lr.score(X,y))\n",
    "print(mean_squared_error(y,y_hat))\n",
    "\n",
    "#ROC\n",
    "y_prob = lr.predict_proba(X)\n",
    "fpr, tpr, thresholds = roc_curve(y, y_prob[:,1])\n",
    "roc_auc = auc(fpr, tpr)\n",
    "print(roc_auc)\n",
    "\n",
    "# get the best threshold\n",
    "# Youden Index (J)\n",
    "J = tpr - fpr\n",
    "ix = np.argmax(J)\n",
    "best_thresh = thresholds[ix]\n",
    "y_hatJ = (y_prob[:,1]>=best_thresh)*1\n",
    "print('Best Threshold=%f' % (best_thresh))\n",
    "\n",
    "print(mean_squared_error(y,y_hatJ))"
   ]
  },
  {
   "cell_type": "code",
   "execution_count": 39,
   "metadata": {},
   "outputs": [
    {
     "data": {
      "image/png": "[encoded data removed]",
      "text/plain": [
       "<Figure size 432x288 with 1 Axes>"
      ]
     },
     "metadata": {
      "needs_background": "light"
     },
     "output_type": "display_data"
    }
   ],
   "source": [
    "#plot ROC curve\n",
    "# https://scikit-learn.org/stable/auto_examples/model_selection/plot_roc.html#sphx-glr-auto-examples-model-selection-plot-roc-py\n",
    "\n",
    "plt.figure()\n",
    "lw = 2\n",
    "plt.plot(fpr, tpr, color='darkorange',\n",
    "         lw=lw, label='ROC curve (area = %0.2f)' % roc_auc)\n",
    "plt.plot([0, 1], [0, 1], color='navy', lw=lw, linestyle='--')\n",
    "plt.scatter(fpr[ix], tpr[ix], marker='o', color='black', label='Best ( J = %0.2f)' % J[ix])\n",
    "plt.xlim([0.0, 1.0])\n",
    "plt.ylim([0.0, 1.05])\n",
    "plt.xlabel('False Positive Rate')\n",
    "plt.ylabel('True Positive Rate')\n",
    "plt.title('Receiver operating characteristic example')\n",
    "plt.legend(loc=\"lower right\")\n",
    "plt.show()"
   ]
  },
  {
   "cell_type": "markdown",
   "metadata": {},
   "source": [
    "Nearly same and much better R2 than the smaller dataset(df2mx) and again the AUC is way higher\n",
    "\n",
    "I would drop those 3 highly incomplete variables rather than drop 80% rows."
   ]
  },
  {
   "cell_type": "code",
   "execution_count": 40,
   "metadata": {},
   "outputs": [
    {
     "name": "stdout",
     "output_type": "stream",
     "text": [
      "0.13496082759814743 3118 19985\n",
      "0.9968147503718463 227 71039\n"
     ]
    }
   ],
   "source": [
    "CM = confusion_matrix(y, y_hatJ)\n",
    "\n",
    "TN = CM[0][0]\n",
    "FN = CM[1][0]\n",
    "TP = CM[1][1]\n",
    "FP = CM[0][1]\n",
    "PPV = TP/(TP+FP)\n",
    "NPV = TN/(TN+FN)\n",
    "print(PPV,TP,FP)\n",
    "print(NPV,FN,TN)"
   ]
  },
  {
   "cell_type": "markdown",
   "metadata": {},
   "source": [
    "Using the threshold corresponding to the Youden Index \n",
    "we can corretly identify 90% of the people that will eventually die.\n",
    "However, only 13% of the patients meeting the threshold will die, \n",
    "meaning that 87% will survive. \n",
    "\n",
    "This is good and bad. If a treatment is limited or burdensome, \n",
    "treating so many false positives is bad. \n",
    "If the treatment is extremely effective and avalable, then great."
   ]
  },
  {
   "cell_type": "markdown",
   "metadata": {},
   "source": [
    "## Train/Test Split"
   ]
  },
  {
   "cell_type": "code",
   "execution_count": 41,
   "metadata": {},
   "outputs": [],
   "source": [
    "from sklearn.model_selection import train_test_split\n",
    "\n",
    "X_train, X_test, y_train, y_test = train_test_split(\n",
    "    X, y, test_size=0.33, random_state=301)"
   ]
  },
  {
   "cell_type": "code",
   "execution_count": 42,
   "metadata": {},
   "outputs": [
    {
     "name": "stdout",
     "output_type": "stream",
     "text": [
      "0.9650311476462655\n",
      "0.03496885235373451\n",
      "0.9202473271759426\n"
     ]
    }
   ],
   "source": [
    "lr = LogisticRegression(solver='lbfgs', max_iter=1000)\n",
    "lr.fit(X_train, y_train)\n",
    "\n",
    "y_hat = lr.predict(X_test)\n",
    "print(lr.score(X_test,y_test))\n",
    "print(mean_squared_error(y_test,y_hat))\n",
    "\n",
    "#ROC\n",
    "y_prob = lr.predict_proba(X_test)\n",
    "fpr, tpr, _ = roc_curve(y_test, y_prob[:,1])\n",
    "roc_auc = auc(fpr, tpr)\n",
    "print(roc_auc)"
   ]
  },
  {
   "cell_type": "markdown",
   "metadata": {},
   "source": [
    "very close to full data model\n",
    "\n",
    "...but what about normalization?"
   ]
  },
  {
   "cell_type": "code",
   "execution_count": 43,
   "metadata": {},
   "outputs": [
    {
     "data": {
      "text/plain": [
       "0.035541332429081585"
      ]
     },
     "execution_count": 43,
     "metadata": {},
     "output_type": "execute_result"
    }
   ],
   "source": [
    "from sklearn.preprocessing import normalize\n",
    "\n",
    "X_copy = X.copy()\n",
    "X_norm = normalize(X_copy)\n",
    "y_hat = LogisticRegression(solver='lbfgs', max_iter=1000).fit(X_norm, y).predict(X_norm)\n",
    "mean_squared_error(y, y_hat)\n"
   ]
  },
  {
   "cell_type": "markdown",
   "metadata": {},
   "source": [
    "Didn't make a differnece\n",
    "\n",
    "age is the only variable on a dif scale"
   ]
  },
  {
   "cell_type": "code",
   "execution_count": 44,
   "metadata": {},
   "outputs": [
    {
     "data": {
      "text/plain": [
       "0.9642623008724525"
      ]
     },
     "execution_count": 44,
     "metadata": {},
     "output_type": "execute_result"
    },
    {
     "data": {
      "image/png": "[encoded data removed]",
      "text/plain": [
       "<Figure size 432x288 with 1 Axes>"
      ]
     },
     "metadata": {
      "needs_background": "light"
     },
     "output_type": "display_data"
    }
   ],
   "source": [
    "# Cross validation\n",
    "\n",
    "from sklearn.model_selection import ShuffleSplit\n",
    "from sklearn.model_selection import cross_val_score\n",
    "\n",
    "reg = LogisticRegression(solver='lbfgs', max_iter=1000)\n",
    "cv = ShuffleSplit(n_splits=100, test_size=0.3, random_state=301)\n",
    "\n",
    "s = cross_val_score(reg, X, y, cv=cv)\n",
    "pd.Series(s).hist()\n",
    "s.mean() # R^2\n"
   ]
  },
  {
   "cell_type": "markdown",
   "metadata": {},
   "source": [
    "fairly robust to the choice of split"
   ]
  },
  {
   "cell_type": "markdown",
   "metadata": {},
   "source": [
    "## K Nearest Neighbors"
   ]
  },
  {
   "cell_type": "code",
   "execution_count": 45,
   "metadata": {},
   "outputs": [
    {
     "name": "stdout",
     "output_type": "stream",
     "text": [
      "0.9415901355083167\n",
      "0.058409864491683255\n",
      "0.5894683132777547\n"
     ]
    }
   ],
   "source": [
    "from sklearn.neighbors import KNeighborsClassifier\n",
    "\n",
    "# KNN Classifier(K=1)\n",
    "knnr = KNeighborsClassifier(n_neighbors=1)\n",
    "knnr.fit(X_train, y_train)\n",
    "y_hat = knnr.predict(X_test)\n",
    "print(knnr.score(X_test,y_test))\n",
    "print(mean_squared_error(y_test,y_hat))\n",
    "\n",
    "#ROC\n",
    "y_prob = knnr.predict_proba(X_test)\n",
    "fpr, tpr, threshhold = roc_curve(y_test, y_prob[:,1])\n",
    "roc_auc = auc(fpr, tpr)\n",
    "print(roc_auc)"
   ]
  },
  {
   "cell_type": "code",
   "execution_count": 46,
   "metadata": {},
   "outputs": [
    {
     "name": "stdout",
     "output_type": "stream",
     "text": [
      "0.9646458159398883\n",
      "0.035354184060111746\n",
      "0.8171102556756478\n"
     ]
    }
   ],
   "source": [
    "# KNN Classifier(K=10)\n",
    "knnr = KNeighborsClassifier(n_neighbors=10)\n",
    "knnr.fit(X_train, y_train)\n",
    "y_hat = knnr.predict(X_test)\n",
    "print(knnr.score(X_test,y_test))\n",
    "print(mean_squared_error(y_test,y_hat))\n",
    "\n",
    "#ROC\n",
    "y_prob = knnr.predict_proba(X_test)\n",
    "fpr, tpr, threshhold = roc_curve(y_test, y_prob[:,1])\n",
    "roc_auc = auc(fpr, tpr)\n",
    "print(roc_auc)"
   ]
  },
  {
   "cell_type": "code",
   "execution_count": 47,
   "metadata": {},
   "outputs": [
    {
     "data": {
      "text/plain": [
       "GridSearchCV(cv=ShuffleSplit(n_splits=10, random_state=301, test_size=0.3, train_size=None),\n",
       "             error_score='raise-deprecating',\n",
       "             estimator=KNeighborsClassifier(algorithm='auto', leaf_size=30,\n",
       "                                            metric='minkowski',\n",
       "                                            metric_params=None, n_jobs=None,\n",
       "                                            n_neighbors=5, p=2,\n",
       "                                            weights='uniform'),\n",
       "             iid=False, n_jobs=None,\n",
       "             param_grid={'n_neighbors': [1, 3, 5, 10, 15, 20, 50]},\n",
       "             pre_dispatch='2*n_jobs', refit=True, return_train_score=False,\n",
       "             scoring=None, verbose=0)"
      ]
     },
     "execution_count": 47,
     "metadata": {},
     "output_type": "execute_result"
    }
   ],
   "source": [
    "from sklearn.model_selection import GridSearchCV\n",
    "\n",
    "# Hyperparameter optimization:\n",
    "# (Hyper)parameter grid\n",
    "p_grid = {\n",
    "    \"n_neighbors\": [1, 3, 5, 10, 15, 20, 50]\n",
    "}\n",
    "\n",
    "knnr = KNeighborsClassifier()\n",
    "grid_search = GridSearchCV(estimator=knnr, param_grid=p_grid, \n",
    "                           cv=ShuffleSplit(n_splits=10, test_size=0.3, random_state=301), \n",
    "                           iid=False)\n",
    "grid_search.fit(X, y)"
   ]
  },
  {
   "cell_type": "code",
   "execution_count": 48,
   "metadata": {},
   "outputs": [
    {
     "data": {
      "text/html": [
       "<div>\n",
       "<style scoped>\n",
       "    .dataframe tbody tr th:only-of-type {\n",
       "        vertical-align: middle;\n",
       "    }\n",
       "\n",
       "    .dataframe tbody tr th {\n",
       "        vertical-align: top;\n",
       "    }\n",
       "\n",
       "    .dataframe thead th {\n",
       "        text-align: right;\n",
       "    }\n",
       "</style>\n",
       "<table border=\"1\" class=\"dataframe\">\n",
       "  <thead>\n",
       "    <tr style=\"text-align: right;\">\n",
       "      <th></th>\n",
       "      <th>mean_fit_time</th>\n",
       "      <th>std_fit_time</th>\n",
       "      <th>mean_score_time</th>\n",
       "      <th>std_score_time</th>\n",
       "      <th>param_n_neighbors</th>\n",
       "      <th>params</th>\n",
       "      <th>split0_test_score</th>\n",
       "      <th>split1_test_score</th>\n",
       "      <th>split2_test_score</th>\n",
       "      <th>split3_test_score</th>\n",
       "      <th>split4_test_score</th>\n",
       "      <th>split5_test_score</th>\n",
       "      <th>split6_test_score</th>\n",
       "      <th>split7_test_score</th>\n",
       "      <th>split8_test_score</th>\n",
       "      <th>split9_test_score</th>\n",
       "      <th>mean_test_score</th>\n",
       "      <th>std_test_score</th>\n",
       "      <th>rank_test_score</th>\n",
       "    </tr>\n",
       "  </thead>\n",
       "  <tbody>\n",
       "    <tr>\n",
       "      <td>0</td>\n",
       "      <td>0.269063</td>\n",
       "      <td>0.015774</td>\n",
       "      <td>2.515160</td>\n",
       "      <td>0.066082</td>\n",
       "      <td>1</td>\n",
       "      <td>{'n_neighbors': 1}</td>\n",
       "      <td>0.944686</td>\n",
       "      <td>0.941118</td>\n",
       "      <td>0.941931</td>\n",
       "      <td>0.947300</td>\n",
       "      <td>0.942213</td>\n",
       "      <td>0.940942</td>\n",
       "      <td>0.943308</td>\n",
       "      <td>0.939917</td>\n",
       "      <td>0.942849</td>\n",
       "      <td>0.941118</td>\n",
       "      <td>0.942538</td>\n",
       "      <td>0.002047</td>\n",
       "      <td>7</td>\n",
       "    </tr>\n",
       "    <tr>\n",
       "      <td>1</td>\n",
       "      <td>0.273003</td>\n",
       "      <td>0.010146</td>\n",
       "      <td>2.728454</td>\n",
       "      <td>0.066106</td>\n",
       "      <td>3</td>\n",
       "      <td>{'n_neighbors': 3}</td>\n",
       "      <td>0.957684</td>\n",
       "      <td>0.955671</td>\n",
       "      <td>0.955282</td>\n",
       "      <td>0.959486</td>\n",
       "      <td>0.954541</td>\n",
       "      <td>0.954152</td>\n",
       "      <td>0.956413</td>\n",
       "      <td>0.953975</td>\n",
       "      <td>0.957578</td>\n",
       "      <td>0.956660</td>\n",
       "      <td>0.956144</td>\n",
       "      <td>0.001678</td>\n",
       "      <td>6</td>\n",
       "    </tr>\n",
       "    <tr>\n",
       "      <td>2</td>\n",
       "      <td>0.271595</td>\n",
       "      <td>0.007754</td>\n",
       "      <td>2.795485</td>\n",
       "      <td>0.074095</td>\n",
       "      <td>5</td>\n",
       "      <td>{'n_neighbors': 5}</td>\n",
       "      <td>0.962806</td>\n",
       "      <td>0.960616</td>\n",
       "      <td>0.959203</td>\n",
       "      <td>0.961216</td>\n",
       "      <td>0.958991</td>\n",
       "      <td>0.957826</td>\n",
       "      <td>0.960899</td>\n",
       "      <td>0.957896</td>\n",
       "      <td>0.960051</td>\n",
       "      <td>0.959733</td>\n",
       "      <td>0.959924</td>\n",
       "      <td>0.001462</td>\n",
       "      <td>5</td>\n",
       "    </tr>\n",
       "    <tr>\n",
       "      <td>3</td>\n",
       "      <td>0.261907</td>\n",
       "      <td>0.017485</td>\n",
       "      <td>3.012639</td>\n",
       "      <td>0.077652</td>\n",
       "      <td>10</td>\n",
       "      <td>{'n_neighbors': 10}</td>\n",
       "      <td>0.964643</td>\n",
       "      <td>0.963760</td>\n",
       "      <td>0.962523</td>\n",
       "      <td>0.964113</td>\n",
       "      <td>0.963195</td>\n",
       "      <td>0.963724</td>\n",
       "      <td>0.965102</td>\n",
       "      <td>0.962276</td>\n",
       "      <td>0.964678</td>\n",
       "      <td>0.962523</td>\n",
       "      <td>0.963654</td>\n",
       "      <td>0.000949</td>\n",
       "      <td>3</td>\n",
       "    </tr>\n",
       "    <tr>\n",
       "      <td>4</td>\n",
       "      <td>0.275207</td>\n",
       "      <td>0.011836</td>\n",
       "      <td>3.160106</td>\n",
       "      <td>0.085295</td>\n",
       "      <td>15</td>\n",
       "      <td>{'n_neighbors': 15}</td>\n",
       "      <td>0.964537</td>\n",
       "      <td>0.964184</td>\n",
       "      <td>0.962453</td>\n",
       "      <td>0.964395</td>\n",
       "      <td>0.962877</td>\n",
       "      <td>0.963654</td>\n",
       "      <td>0.964961</td>\n",
       "      <td>0.962311</td>\n",
       "      <td>0.964395</td>\n",
       "      <td>0.962700</td>\n",
       "      <td>0.963647</td>\n",
       "      <td>0.000929</td>\n",
       "      <td>4</td>\n",
       "    </tr>\n",
       "    <tr>\n",
       "      <td>5</td>\n",
       "      <td>0.277733</td>\n",
       "      <td>0.028353</td>\n",
       "      <td>3.276093</td>\n",
       "      <td>0.076018</td>\n",
       "      <td>20</td>\n",
       "      <td>{'n_neighbors': 20}</td>\n",
       "      <td>0.964961</td>\n",
       "      <td>0.964466</td>\n",
       "      <td>0.962735</td>\n",
       "      <td>0.964431</td>\n",
       "      <td>0.964466</td>\n",
       "      <td>0.964078</td>\n",
       "      <td>0.965879</td>\n",
       "      <td>0.963124</td>\n",
       "      <td>0.964961</td>\n",
       "      <td>0.963124</td>\n",
       "      <td>0.964222</td>\n",
       "      <td>0.000930</td>\n",
       "      <td>2</td>\n",
       "    </tr>\n",
       "    <tr>\n",
       "      <td>6</td>\n",
       "      <td>0.272953</td>\n",
       "      <td>0.008796</td>\n",
       "      <td>3.909149</td>\n",
       "      <td>0.095010</td>\n",
       "      <td>50</td>\n",
       "      <td>{'n_neighbors': 50}</td>\n",
       "      <td>0.965420</td>\n",
       "      <td>0.964501</td>\n",
       "      <td>0.963195</td>\n",
       "      <td>0.964678</td>\n",
       "      <td>0.964466</td>\n",
       "      <td>0.964219</td>\n",
       "      <td>0.965985</td>\n",
       "      <td>0.963512</td>\n",
       "      <td>0.965102</td>\n",
       "      <td>0.963230</td>\n",
       "      <td>0.964431</td>\n",
       "      <td>0.000881</td>\n",
       "      <td>1</td>\n",
       "    </tr>\n",
       "  </tbody>\n",
       "</table>\n",
       "</div>"
      ],
      "text/plain": [
       "   mean_fit_time  std_fit_time  mean_score_time  std_score_time  \\\n",
       "0       0.269063      0.015774         2.515160        0.066082   \n",
       "1       0.273003      0.010146         2.728454        0.066106   \n",
       "2       0.271595      0.007754         2.795485        0.074095   \n",
       "3       0.261907      0.017485         3.012639        0.077652   \n",
       "4       0.275207      0.011836         3.160106        0.085295   \n",
       "5       0.277733      0.028353         3.276093        0.076018   \n",
       "6       0.272953      0.008796         3.909149        0.095010   \n",
       "\n",
       "  param_n_neighbors               params  split0_test_score  \\\n",
       "0                 1   {'n_neighbors': 1}           0.944686   \n",
       "1                 3   {'n_neighbors': 3}           0.957684   \n",
       "2                 5   {'n_neighbors': 5}           0.962806   \n",
       "3                10  {'n_neighbors': 10}           0.964643   \n",
       "4                15  {'n_neighbors': 15}           0.964537   \n",
       "5                20  {'n_neighbors': 20}           0.964961   \n",
       "6                50  {'n_neighbors': 50}           0.965420   \n",
       "\n",
       "   split1_test_score  split2_test_score  split3_test_score  split4_test_score  \\\n",
       "0           0.941118           0.941931           0.947300           0.942213   \n",
       "1           0.955671           0.955282           0.959486           0.954541   \n",
       "2           0.960616           0.959203           0.961216           0.958991   \n",
       "3           0.963760           0.962523           0.964113           0.963195   \n",
       "4           0.964184           0.962453           0.964395           0.962877   \n",
       "5           0.964466           0.962735           0.964431           0.964466   \n",
       "6           0.964501           0.963195           0.964678           0.964466   \n",
       "\n",
       "   split5_test_score  split6_test_score  split7_test_score  split8_test_score  \\\n",
       "0           0.940942           0.943308           0.939917           0.942849   \n",
       "1           0.954152           0.956413           0.953975           0.957578   \n",
       "2           0.957826           0.960899           0.957896           0.960051   \n",
       "3           0.963724           0.965102           0.962276           0.964678   \n",
       "4           0.963654           0.964961           0.962311           0.964395   \n",
       "5           0.964078           0.965879           0.963124           0.964961   \n",
       "6           0.964219           0.965985           0.963512           0.965102   \n",
       "\n",
       "   split9_test_score  mean_test_score  std_test_score  rank_test_score  \n",
       "0           0.941118         0.942538        0.002047                7  \n",
       "1           0.956660         0.956144        0.001678                6  \n",
       "2           0.959733         0.959924        0.001462                5  \n",
       "3           0.962523         0.963654        0.000949                3  \n",
       "4           0.962700         0.963647        0.000929                4  \n",
       "5           0.963124         0.964222        0.000930                2  \n",
       "6           0.963230         0.964431        0.000881                1  "
      ]
     },
     "execution_count": 48,
     "metadata": {},
     "output_type": "execute_result"
    }
   ],
   "source": [
    "pd.DataFrame(grid_search.cv_results_)"
   ]
  },
  {
   "cell_type": "code",
   "execution_count": 49,
   "metadata": {},
   "outputs": [
    {
     "data": {
      "text/plain": [
       "{'n_neighbors': 50}"
      ]
     },
     "execution_count": 49,
     "metadata": {},
     "output_type": "execute_result"
    }
   ],
   "source": [
    "grid_search.best_params_"
   ]
  },
  {
   "cell_type": "code",
   "execution_count": 50,
   "metadata": {},
   "outputs": [
    {
     "name": "stdout",
     "output_type": "stream",
     "text": [
      "0.9649669256952026\n",
      "0.03503307430479738\n",
      "0.9044516469877774\n"
     ]
    }
   ],
   "source": [
    "# KNN Classifier(K=50) chose 20 bec R^2 is nearly identical\n",
    "knnr = KNeighborsClassifier(n_neighbors=50)\n",
    "knnr.fit(X_train, y_train)\n",
    "y_hat = knnr.predict(X_test)\n",
    "print(knnr.score(X_test,y_test))\n",
    "print(mean_squared_error(y_test,y_hat))\n",
    "\n",
    "#ROC\n",
    "y_prob = knnr.predict_proba(X_test)\n",
    "fpr, tpr, threshhold = roc_curve(y_test, y_prob[:,1])\n",
    "roc_auc = auc(fpr, tpr)\n",
    "print(roc_auc)"
   ]
  },
  {
   "cell_type": "markdown",
   "metadata": {},
   "source": [
    "nearly same as logistic regression but it took n=50 neighbors"
   ]
  },
  {
   "cell_type": "markdown",
   "metadata": {},
   "source": [
    "## Deep Learning"
   ]
  },
  {
   "cell_type": "code",
   "execution_count": 51,
   "metadata": {},
   "outputs": [
    {
     "name": "stdout",
     "output_type": "stream",
     "text": [
      "0.9649669256952026\n",
      "0.03503307430479738\n",
      "0.920792962382526\n"
     ]
    }
   ],
   "source": [
    "#https://scikit-learn.org/stable/modules/neural_networks_supervised.html#\n",
    "\n",
    "from sklearn.neural_network import MLPClassifier\n",
    "\n",
    "mlpc = MLPClassifier(solver='lbfgs', alpha=1e-10,\n",
    "                        hidden_layer_sizes=(15, 2), random_state=301)\n",
    "mlpc.fit(X_train, y_train)\n",
    "y_hat = mlpc.predict(X_test)\n",
    "print(mlpc.score(X_test,y_test))\n",
    "print(mean_squared_error(y_test,y_hat))\n",
    "\n",
    "#ROC\n",
    "y_prob = mlpc.predict_proba(X_test)\n",
    "fpr, tpr, threshhold = roc_curve(y_test, y_prob[:,1])\n",
    "roc_auc = auc(fpr, tpr)\n",
    "print(roc_auc)"
   ]
  },
  {
   "cell_type": "markdown",
   "metadata": {},
   "source": [
    "## Ensamble Learning"
   ]
  },
  {
   "cell_type": "code",
   "execution_count": 52,
   "metadata": {},
   "outputs": [
    {
     "name": "stdout",
     "output_type": "stream",
     "text": [
      "0.9623605132809081\n",
      "0.961576367460809\n",
      "0.9624240944927047\n"
     ]
    }
   ],
   "source": [
    "#https://scikit-learn.org/stable/modules/ensemble.html#forests-of-randomized-trees\n",
    "\n",
    "from sklearn.ensemble import RandomForestClassifier\n",
    "from sklearn.ensemble import ExtraTreesClassifier\n",
    "from sklearn.tree import DecisionTreeClassifier\n",
    "\n",
    "dtc = DecisionTreeClassifier(max_depth=None, \n",
    "                             min_samples_split=2,\n",
    "                             random_state=301)\n",
    "scores = cross_val_score(dtc, X, y, cv=5)\n",
    "print(scores.mean())\n",
    "\n",
    "rfc = RandomForestClassifier(n_estimators=10,\n",
    "                             max_depth=None,\n",
    "                             min_samples_split=2,\n",
    "                             random_state=301)\n",
    "scores = cross_val_score(rfc, X, y, cv=5)\n",
    "print(scores.mean())\n",
    "\n",
    "etc = ExtraTreesClassifier(n_estimators=10, \n",
    "                           max_depth=None,\n",
    "                           min_samples_split=2,\n",
    "                           random_state=301)\n",
    "scores = cross_val_score(etc, X, y, cv=5)\n",
    "print(scores.mean())\n"
   ]
  },
  {
   "cell_type": "code",
   "execution_count": 53,
   "metadata": {},
   "outputs": [
    {
     "name": "stdout",
     "output_type": "stream",
     "text": [
      "0.39684860556407775\n",
      "0.6898516906446555\n",
      "0.8649983088428728\n"
     ]
    }
   ],
   "source": [
    "#what if...we used the smaller dataset\n",
    "\n",
    "X = df2mx.iloc[:,:-1]\n",
    "y = df2mx['dead']\n",
    "X_train, X_test, y_train, y_test = train_test_split(\n",
    "    X, y, test_size=0.33, random_state=301)\n",
    "\n",
    "dtc = DecisionTreeClassifier(max_depth=None, \n",
    "                             min_samples_split=2,\n",
    "                             random_state=301)\n",
    "scores = cross_val_score(dtc, X, y, cv=5)\n",
    "print(scores.mean())\n",
    "\n",
    "rfc = RandomForestClassifier(n_estimators=10,\n",
    "                             max_depth=None,\n",
    "                             min_samples_split=2,\n",
    "                             random_state=0)\n",
    "scores = cross_val_score(rfc, X, y, cv=5)\n",
    "print(scores.mean())\n",
    "\n",
    "\n",
    "etc = ExtraTreesClassifier(n_estimators=10, \n",
    "                           max_depth=None,\n",
    "                           min_samples_split=2,\n",
    "                           random_state=0)\n",
    "scores = cross_val_score(etc, X, y, cv=5)\n",
    "print(scores.mean())"
   ]
  },
  {
   "cell_type": "markdown",
   "metadata": {},
   "source": [
    "## DOH!\n",
    "\n",
    "how we handle missing data matters"
   ]
  }
 ],
 "metadata": {
  "kernelspec": {
   "display_name": "Python 3",
   "language": "python",
   "name": "python3"
  },
  "language_info": {
   "codemirror_mode": {
    "name": "ipython",
    "version": 3
   },
   "file_extension": ".py",
   "mimetype": "text/x-python",
   "name": "python",
   "nbconvert_exporter": "python",
   "pygments_lexer": "ipython3",
   "version": "3.7.4"
  }
 },
 "nbformat": 4,
 "nbformat_minor": 4
}
