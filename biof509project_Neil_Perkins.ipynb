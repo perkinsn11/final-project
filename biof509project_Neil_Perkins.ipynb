{
 "cells": [
  {
   "cell_type": "markdown",
   "metadata": {},
   "source": [
    "biof 509 project - \n",
    "spring 2020 - \n",
    "by Neil Perkins"
   ]
  },
  {
   "cell_type": "markdown",
   "metadata": {},
   "source": [
    "### Goal: predictors of covid 19"
   ]
  },
  {
   "cell_type": "markdown",
   "metadata": {},
   "source": [
    "### Data: Official Covid data from Mexican Health Department\n",
    "    \n",
    "Independent suspicious and confirmed cases files stopped being distributed by the government on April 18th 2020. Posted on kaggle.com by Eduardo Rojas.\n",
    "\n",
    "https://www.kaggle.com/lalish99/covid19-mx"
   ]
  },
  {
   "cell_type": "code",
   "execution_count": 2,
   "metadata": {},
   "outputs": [],
   "source": [
    "import matplotlib.pyplot as plt\n",
    "import numpy as np\n",
    "import pandas as pd\n",
    "import seaborn as sns"
   ]
  },
  {
   "cell_type": "markdown",
   "metadata": {},
   "source": [
    "## Data\n",
    "\n",
    "Read in the data"
   ]
  },
  {
   "cell_type": "code",
   "execution_count": 68,
   "metadata": {},
   "outputs": [],
   "source": [
    "df1mx = pd.read_csv('covid-19_general_MX.csv')\n",
    "df2cases = pd.read_csv('casos_confirmados.csv')"
   ]
  },
  {
   "cell_type": "markdown",
   "metadata": {},
   "source": [
    "Data dimensions"
   ]
  },
  {
   "cell_type": "code",
   "execution_count": 69,
   "metadata": {},
   "outputs": [
    {
     "data": {
      "text/plain": [
       "(95839, 26)"
      ]
     },
     "execution_count": 69,
     "metadata": {},
     "output_type": "execute_result"
    }
   ],
   "source": [
    "df1mx.shape"
   ]
  },
  {
   "cell_type": "code",
   "execution_count": 70,
   "metadata": {},
   "outputs": [
    {
     "data": {
      "text/plain": [
       "(23471, 6)"
      ]
     },
     "execution_count": 70,
     "metadata": {},
     "output_type": "execute_result"
    }
   ],
   "source": [
    "df2cases.shape"
   ]
  },
  {
   "cell_type": "markdown",
   "metadata": {},
   "source": [
    "Data descriptives"
   ]
  },
  {
   "cell_type": "code",
   "execution_count": 71,
   "metadata": {},
   "outputs": [
    {
     "data": {
      "text/plain": [
       "pandas.core.frame.DataFrame"
      ]
     },
     "execution_count": 71,
     "metadata": {},
     "output_type": "execute_result"
    }
   ],
   "source": [
    "type(df1mx)"
   ]
  },
  {
   "cell_type": "code",
   "execution_count": 72,
   "metadata": {},
   "outputs": [
    {
     "data": {
      "text/html": [
       "<div>\n",
       "<style scoped>\n",
       "    .dataframe tbody tr th:only-of-type {\n",
       "        vertical-align: middle;\n",
       "    }\n",
       "\n",
       "    .dataframe tbody tr th {\n",
       "        vertical-align: top;\n",
       "    }\n",
       "\n",
       "    .dataframe thead th {\n",
       "        text-align: right;\n",
       "    }\n",
       "</style>\n",
       "<table border=\"1\" class=\"dataframe\">\n",
       "  <thead>\n",
       "    <tr style=\"text-align: right;\">\n",
       "      <th></th>\n",
       "      <th>Unnamed: 0</th>\n",
       "      <th>SECTOR</th>\n",
       "      <th>ENTIDAD_UM</th>\n",
       "      <th>SEXO</th>\n",
       "      <th>ENTIDAD_RES</th>\n",
       "      <th>TIPO_PACIENTE</th>\n",
       "      <th>FECHA_INGRESO</th>\n",
       "      <th>FECHA_SINTOMAS</th>\n",
       "      <th>FECHA_DEF</th>\n",
       "      <th>INTUBADO</th>\n",
       "      <th>...</th>\n",
       "      <th>INMUSUPR</th>\n",
       "      <th>HIPERTENSION</th>\n",
       "      <th>OTRA_CON</th>\n",
       "      <th>CARDIOVASCULAR</th>\n",
       "      <th>OBESIDAD</th>\n",
       "      <th>RENAL_CRONICA</th>\n",
       "      <th>TABAQUISMO</th>\n",
       "      <th>OTRO_CASO</th>\n",
       "      <th>RESULTADO</th>\n",
       "      <th>UCI</th>\n",
       "    </tr>\n",
       "  </thead>\n",
       "  <tbody>\n",
       "    <tr>\n",
       "      <td>0</td>\n",
       "      <td>0</td>\n",
       "      <td>4</td>\n",
       "      <td>17</td>\n",
       "      <td>2</td>\n",
       "      <td>17</td>\n",
       "      <td>1</td>\n",
       "      <td>2020-03-09</td>\n",
       "      <td>2020-03-09</td>\n",
       "      <td>9999-99-99</td>\n",
       "      <td>97</td>\n",
       "      <td>...</td>\n",
       "      <td>2</td>\n",
       "      <td>2</td>\n",
       "      <td>2</td>\n",
       "      <td>2</td>\n",
       "      <td>2</td>\n",
       "      <td>2</td>\n",
       "      <td>2</td>\n",
       "      <td>99</td>\n",
       "      <td>1</td>\n",
       "      <td>97</td>\n",
       "    </tr>\n",
       "    <tr>\n",
       "      <td>1</td>\n",
       "      <td>1</td>\n",
       "      <td>4</td>\n",
       "      <td>9</td>\n",
       "      <td>1</td>\n",
       "      <td>9</td>\n",
       "      <td>1</td>\n",
       "      <td>2020-03-19</td>\n",
       "      <td>2020-03-17</td>\n",
       "      <td>9999-99-99</td>\n",
       "      <td>97</td>\n",
       "      <td>...</td>\n",
       "      <td>2</td>\n",
       "      <td>2</td>\n",
       "      <td>2</td>\n",
       "      <td>2</td>\n",
       "      <td>2</td>\n",
       "      <td>2</td>\n",
       "      <td>2</td>\n",
       "      <td>99</td>\n",
       "      <td>1</td>\n",
       "      <td>97</td>\n",
       "    </tr>\n",
       "    <tr>\n",
       "      <td>2</td>\n",
       "      <td>2</td>\n",
       "      <td>4</td>\n",
       "      <td>2</td>\n",
       "      <td>2</td>\n",
       "      <td>2</td>\n",
       "      <td>2</td>\n",
       "      <td>2020-03-19</td>\n",
       "      <td>2020-03-19</td>\n",
       "      <td>9999-99-99</td>\n",
       "      <td>2</td>\n",
       "      <td>...</td>\n",
       "      <td>2</td>\n",
       "      <td>1</td>\n",
       "      <td>2</td>\n",
       "      <td>2</td>\n",
       "      <td>1</td>\n",
       "      <td>2</td>\n",
       "      <td>2</td>\n",
       "      <td>99</td>\n",
       "      <td>1</td>\n",
       "      <td>2</td>\n",
       "    </tr>\n",
       "    <tr>\n",
       "      <td>3</td>\n",
       "      <td>3</td>\n",
       "      <td>4</td>\n",
       "      <td>9</td>\n",
       "      <td>2</td>\n",
       "      <td>9</td>\n",
       "      <td>2</td>\n",
       "      <td>2020-03-30</td>\n",
       "      <td>2020-03-24</td>\n",
       "      <td>2020-04-01</td>\n",
       "      <td>2</td>\n",
       "      <td>...</td>\n",
       "      <td>2</td>\n",
       "      <td>2</td>\n",
       "      <td>2</td>\n",
       "      <td>2</td>\n",
       "      <td>2</td>\n",
       "      <td>2</td>\n",
       "      <td>2</td>\n",
       "      <td>99</td>\n",
       "      <td>1</td>\n",
       "      <td>2</td>\n",
       "    </tr>\n",
       "    <tr>\n",
       "      <td>4</td>\n",
       "      <td>4</td>\n",
       "      <td>12</td>\n",
       "      <td>14</td>\n",
       "      <td>1</td>\n",
       "      <td>14</td>\n",
       "      <td>2</td>\n",
       "      <td>2020-03-29</td>\n",
       "      <td>2020-03-26</td>\n",
       "      <td>9999-99-99</td>\n",
       "      <td>2</td>\n",
       "      <td>...</td>\n",
       "      <td>2</td>\n",
       "      <td>2</td>\n",
       "      <td>2</td>\n",
       "      <td>2</td>\n",
       "      <td>2</td>\n",
       "      <td>2</td>\n",
       "      <td>2</td>\n",
       "      <td>2</td>\n",
       "      <td>2</td>\n",
       "      <td>2</td>\n",
       "    </tr>\n",
       "  </tbody>\n",
       "</table>\n",
       "<p>5 rows × 26 columns</p>\n",
       "</div>"
      ],
      "text/plain": [
       "   Unnamed: 0  SECTOR  ENTIDAD_UM  SEXO  ENTIDAD_RES  TIPO_PACIENTE  \\\n",
       "0           0       4          17     2           17              1   \n",
       "1           1       4           9     1            9              1   \n",
       "2           2       4           2     2            2              2   \n",
       "3           3       4           9     2            9              2   \n",
       "4           4      12          14     1           14              2   \n",
       "\n",
       "  FECHA_INGRESO FECHA_SINTOMAS   FECHA_DEF  INTUBADO  ...  INMUSUPR  \\\n",
       "0    2020-03-09     2020-03-09  9999-99-99        97  ...         2   \n",
       "1    2020-03-19     2020-03-17  9999-99-99        97  ...         2   \n",
       "2    2020-03-19     2020-03-19  9999-99-99         2  ...         2   \n",
       "3    2020-03-30     2020-03-24  2020-04-01         2  ...         2   \n",
       "4    2020-03-29     2020-03-26  9999-99-99         2  ...         2   \n",
       "\n",
       "   HIPERTENSION  OTRA_CON  CARDIOVASCULAR  OBESIDAD  RENAL_CRONICA  \\\n",
       "0             2         2               2         2              2   \n",
       "1             2         2               2         2              2   \n",
       "2             1         2               2         1              2   \n",
       "3             2         2               2         2              2   \n",
       "4             2         2               2         2              2   \n",
       "\n",
       "   TABAQUISMO  OTRO_CASO  RESULTADO  UCI  \n",
       "0           2         99          1   97  \n",
       "1           2         99          1   97  \n",
       "2           2         99          1    2  \n",
       "3           2         99          1    2  \n",
       "4           2          2          2    2  \n",
       "\n",
       "[5 rows x 26 columns]"
      ]
     },
     "execution_count": 72,
     "metadata": {},
     "output_type": "execute_result"
    }
   ],
   "source": [
    "df1mx.head()"
   ]
  },
  {
   "cell_type": "markdown",
   "metadata": {},
   "source": [
    "Rename columns to english\n",
    "\n",
    "    - could use .rename\n",
    "    - too many so used .columns to redo entire list"
   ]
  },
  {
   "cell_type": "code",
   "execution_count": 73,
   "metadata": {},
   "outputs": [],
   "source": [
    "df1mx.columns=['ID','SECTOR','state_care','sex',\n",
    "               'state_live','ambulatory','care_date',\n",
    "               'sympt_date','dead_date','intubate',\n",
    "               'neumonia','age','nation','diabetes',\n",
    "               'epoch','asthma','immunosprs','hyperten',\n",
    "               'OtherDis','CardioDis','Obesity','RenalDis',\n",
    "               'tabaquism','COVID_contact','COVID','ICU']"
   ]
  },
  {
   "cell_type": "markdown",
   "metadata": {},
   "source": [
    "Look for missing data"
   ]
  },
  {
   "cell_type": "code",
   "execution_count": 74,
   "metadata": {},
   "outputs": [],
   "source": [
    "df1na=df1mx.isna()"
   ]
  },
  {
   "cell_type": "code",
   "execution_count": 75,
   "metadata": {},
   "outputs": [
    {
     "data": {
      "text/html": [
       "<div>\n",
       "<style scoped>\n",
       "    .dataframe tbody tr th:only-of-type {\n",
       "        vertical-align: middle;\n",
       "    }\n",
       "\n",
       "    .dataframe tbody tr th {\n",
       "        vertical-align: top;\n",
       "    }\n",
       "\n",
       "    .dataframe thead th {\n",
       "        text-align: right;\n",
       "    }\n",
       "</style>\n",
       "<table border=\"1\" class=\"dataframe\">\n",
       "  <thead>\n",
       "    <tr style=\"text-align: right;\">\n",
       "      <th></th>\n",
       "      <th>ID</th>\n",
       "      <th>SECTOR</th>\n",
       "      <th>state_care</th>\n",
       "      <th>sex</th>\n",
       "      <th>state_live</th>\n",
       "      <th>ambulatory</th>\n",
       "      <th>care_date</th>\n",
       "      <th>sympt_date</th>\n",
       "      <th>dead_date</th>\n",
       "      <th>intubate</th>\n",
       "      <th>...</th>\n",
       "      <th>immunosprs</th>\n",
       "      <th>hyperten</th>\n",
       "      <th>OtherDis</th>\n",
       "      <th>CardioDis</th>\n",
       "      <th>Obesity</th>\n",
       "      <th>RenalDis</th>\n",
       "      <th>tabaquism</th>\n",
       "      <th>COVID_contact</th>\n",
       "      <th>COVID</th>\n",
       "      <th>ICU</th>\n",
       "    </tr>\n",
       "  </thead>\n",
       "  <tbody>\n",
       "    <tr>\n",
       "      <td>count</td>\n",
       "      <td>95839</td>\n",
       "      <td>95839</td>\n",
       "      <td>95839</td>\n",
       "      <td>95839</td>\n",
       "      <td>95839</td>\n",
       "      <td>95839</td>\n",
       "      <td>95839</td>\n",
       "      <td>95839</td>\n",
       "      <td>95839</td>\n",
       "      <td>95839</td>\n",
       "      <td>...</td>\n",
       "      <td>95839</td>\n",
       "      <td>95839</td>\n",
       "      <td>95839</td>\n",
       "      <td>95839</td>\n",
       "      <td>95839</td>\n",
       "      <td>95839</td>\n",
       "      <td>95839</td>\n",
       "      <td>95839</td>\n",
       "      <td>95839</td>\n",
       "      <td>95839</td>\n",
       "    </tr>\n",
       "    <tr>\n",
       "      <td>unique</td>\n",
       "      <td>1</td>\n",
       "      <td>1</td>\n",
       "      <td>1</td>\n",
       "      <td>1</td>\n",
       "      <td>1</td>\n",
       "      <td>1</td>\n",
       "      <td>1</td>\n",
       "      <td>1</td>\n",
       "      <td>1</td>\n",
       "      <td>1</td>\n",
       "      <td>...</td>\n",
       "      <td>1</td>\n",
       "      <td>1</td>\n",
       "      <td>1</td>\n",
       "      <td>1</td>\n",
       "      <td>1</td>\n",
       "      <td>1</td>\n",
       "      <td>1</td>\n",
       "      <td>1</td>\n",
       "      <td>1</td>\n",
       "      <td>1</td>\n",
       "    </tr>\n",
       "    <tr>\n",
       "      <td>top</td>\n",
       "      <td>False</td>\n",
       "      <td>False</td>\n",
       "      <td>False</td>\n",
       "      <td>False</td>\n",
       "      <td>False</td>\n",
       "      <td>False</td>\n",
       "      <td>False</td>\n",
       "      <td>False</td>\n",
       "      <td>False</td>\n",
       "      <td>False</td>\n",
       "      <td>...</td>\n",
       "      <td>False</td>\n",
       "      <td>False</td>\n",
       "      <td>False</td>\n",
       "      <td>False</td>\n",
       "      <td>False</td>\n",
       "      <td>False</td>\n",
       "      <td>False</td>\n",
       "      <td>False</td>\n",
       "      <td>False</td>\n",
       "      <td>False</td>\n",
       "    </tr>\n",
       "    <tr>\n",
       "      <td>freq</td>\n",
       "      <td>95839</td>\n",
       "      <td>95839</td>\n",
       "      <td>95839</td>\n",
       "      <td>95839</td>\n",
       "      <td>95839</td>\n",
       "      <td>95839</td>\n",
       "      <td>95839</td>\n",
       "      <td>95839</td>\n",
       "      <td>95839</td>\n",
       "      <td>95839</td>\n",
       "      <td>...</td>\n",
       "      <td>95839</td>\n",
       "      <td>95839</td>\n",
       "      <td>95839</td>\n",
       "      <td>95839</td>\n",
       "      <td>95839</td>\n",
       "      <td>95839</td>\n",
       "      <td>95839</td>\n",
       "      <td>95839</td>\n",
       "      <td>95839</td>\n",
       "      <td>95839</td>\n",
       "    </tr>\n",
       "  </tbody>\n",
       "</table>\n",
       "<p>4 rows × 26 columns</p>\n",
       "</div>"
      ],
      "text/plain": [
       "           ID SECTOR state_care    sex state_live ambulatory care_date  \\\n",
       "count   95839  95839      95839  95839      95839      95839     95839   \n",
       "unique      1      1          1      1          1          1         1   \n",
       "top     False  False      False  False      False      False     False   \n",
       "freq    95839  95839      95839  95839      95839      95839     95839   \n",
       "\n",
       "       sympt_date dead_date intubate  ... immunosprs hyperten OtherDis  \\\n",
       "count       95839     95839    95839  ...      95839    95839    95839   \n",
       "unique          1         1        1  ...          1        1        1   \n",
       "top         False     False    False  ...      False    False    False   \n",
       "freq        95839     95839    95839  ...      95839    95839    95839   \n",
       "\n",
       "       CardioDis Obesity RenalDis tabaquism COVID_contact  COVID    ICU  \n",
       "count      95839   95839    95839     95839         95839  95839  95839  \n",
       "unique         1       1        1         1             1      1      1  \n",
       "top        False   False    False     False         False  False  False  \n",
       "freq       95839   95839    95839     95839         95839  95839  95839  \n",
       "\n",
       "[4 rows x 26 columns]"
      ]
     },
     "execution_count": 75,
     "metadata": {},
     "output_type": "execute_result"
    }
   ],
   "source": [
    "df1na.describe()"
   ]
  },
  {
   "cell_type": "code",
   "execution_count": 76,
   "metadata": {},
   "outputs": [
    {
     "data": {
      "text/plain": [
       "ID               0\n",
       "SECTOR           0\n",
       "state_care       0\n",
       "sex              0\n",
       "state_live       0\n",
       "ambulatory       0\n",
       "care_date        0\n",
       "sympt_date       0\n",
       "dead_date        0\n",
       "intubate         0\n",
       "neumonia         0\n",
       "age              0\n",
       "nation           0\n",
       "diabetes         0\n",
       "epoch            0\n",
       "asthma           0\n",
       "immunosprs       0\n",
       "hyperten         0\n",
       "OtherDis         0\n",
       "CardioDis        0\n",
       "Obesity          0\n",
       "RenalDis         0\n",
       "tabaquism        0\n",
       "COVID_contact    0\n",
       "COVID            0\n",
       "ICU              0\n",
       "dtype: int64"
      ]
     },
     "execution_count": 76,
     "metadata": {},
     "output_type": "execute_result"
    }
   ],
   "source": [
    "df1mx.isna().sum()"
   ]
  },
  {
   "cell_type": "markdown",
   "metadata": {},
   "source": [
    "Summarize missing data across all variables\n",
    "\n",
    "    -no missing data\n",
    "    -if missing data, use .fillna()\n",
    "\n",
    "No missing data here\n",
    "\n",
    "    -but... structural missingness exists\n",
    "    -9999-99-99 for death date for patients who didn't die\n",
    "    \n",
    "From Kaggle \"Options for yes or no columns\"\n",
    "\n",
    "    1 = Yes\n",
    "    2 = No\n",
    "    97 = Does not apply\n",
    "    98 = Is ignored\n",
    "    99 = Not specified"
   ]
  },
  {
   "cell_type": "code",
   "execution_count": 77,
   "metadata": {},
   "outputs": [
    {
     "data": {
      "text/plain": [
       "(95839, 3)"
      ]
     },
     "execution_count": 77,
     "metadata": {},
     "output_type": "execute_result"
    }
   ],
   "source": [
    "df1mxdates=df1mx.iloc[:,6:9]\n",
    "df1mxdates.shape"
   ]
  },
  {
   "cell_type": "markdown",
   "metadata": {},
   "source": [
    "Create ID for dead from 9999 date"
   ]
  },
  {
   "cell_type": "code",
   "execution_count": 105,
   "metadata": {},
   "outputs": [
    {
     "data": {
      "text/plain": [
       "count    95839.000000\n",
       "mean         0.035841\n",
       "std          0.185895\n",
       "min          0.000000\n",
       "25%          0.000000\n",
       "50%          0.000000\n",
       "75%          0.000000\n",
       "max          1.000000\n",
       "Name: dead, dtype: float64"
      ]
     },
     "execution_count": 105,
     "metadata": {},
     "output_type": "execute_result"
    }
   ],
   "source": [
    "dead = df1mxdates['dead_date'].str.startswith(\"9\")\n",
    "dead = (dead==False)\n",
    "df1mx['dead'] = dead*1\n",
    "df1mx['dead'].describe()\n"
   ]
  },
  {
   "cell_type": "code",
   "execution_count": 79,
   "metadata": {},
   "outputs": [],
   "source": [
    "from datetime import date, datetime, timedelta\n",
    "date1 = pd.to_datetime(df1mxdates['care_date'])\n",
    "date2 = pd.to_datetime(df1mxdates['sympt_date'])\n",
    "date1 = date1.dt.date\n",
    "date2 = date2.dt.date\n",
    "\n",
    "sympt2care = date1 - date2\n",
    "sympt2care = sympt2care.dt.days"
   ]
  },
  {
   "cell_type": "code",
   "execution_count": 80,
   "metadata": {},
   "outputs": [],
   "source": [
    "df1mx['sympt2care'] = sympt2care"
   ]
  },
  {
   "cell_type": "code",
   "execution_count": 101,
   "metadata": {},
   "outputs": [
    {
     "data": {
      "text/plain": [
       "(95839, 25)"
      ]
     },
     "execution_count": 101,
     "metadata": {},
     "output_type": "execute_result"
    }
   ],
   "source": [
    "df1mx.shape"
   ]
  },
  {
   "cell_type": "code",
   "execution_count": 82,
   "metadata": {},
   "outputs": [],
   "source": [
    "df1mx = df1mx.drop(['care_date', 'sympt_date','dead_date'], axis=1)"
   ]
  },
  {
   "cell_type": "code",
   "execution_count": 102,
   "metadata": {},
   "outputs": [
    {
     "data": {
      "text/plain": [
       "Index(['ID', 'SECTOR', 'state_care', 'sex', 'state_live', 'ambulatory',\n",
       "       'intubate', 'neumonia', 'age', 'nation', 'diabetes', 'epoch', 'asthma',\n",
       "       'immunosprs', 'hyperten', 'OtherDis', 'CardioDis', 'Obesity',\n",
       "       'RenalDis', 'tabaquism', 'COVID_contact', 'COVID', 'ICU', 'sympt2care',\n",
       "       'dead'],\n",
       "      dtype='object')"
      ]
     },
     "execution_count": 102,
     "metadata": {},
     "output_type": "execute_result"
    }
   ],
   "source": [
    "df1mx.columns"
   ]
  },
  {
   "cell_type": "markdown",
   "metadata": {},
   "source": [
    "insert NaN for 97, 98, 99 so the modeling isnt messed up"
   ]
  },
  {
   "cell_type": "code",
   "execution_count": 106,
   "metadata": {},
   "outputs": [
    {
     "data": {
      "text/html": [
       "<div>\n",
       "<style scoped>\n",
       "    .dataframe tbody tr th:only-of-type {\n",
       "        vertical-align: middle;\n",
       "    }\n",
       "\n",
       "    .dataframe tbody tr th {\n",
       "        vertical-align: top;\n",
       "    }\n",
       "\n",
       "    .dataframe thead th {\n",
       "        text-align: right;\n",
       "    }\n",
       "</style>\n",
       "<table border=\"1\" class=\"dataframe\">\n",
       "  <thead>\n",
       "    <tr style=\"text-align: right;\">\n",
       "      <th></th>\n",
       "      <th>ID</th>\n",
       "      <th>SECTOR</th>\n",
       "      <th>state_care</th>\n",
       "      <th>sex</th>\n",
       "      <th>state_live</th>\n",
       "      <th>ambulatory</th>\n",
       "      <th>intubate</th>\n",
       "      <th>neumonia</th>\n",
       "      <th>age</th>\n",
       "      <th>nation</th>\n",
       "      <th>...</th>\n",
       "      <th>OtherDis</th>\n",
       "      <th>CardioDis</th>\n",
       "      <th>Obesity</th>\n",
       "      <th>RenalDis</th>\n",
       "      <th>tabaquism</th>\n",
       "      <th>COVID_contact</th>\n",
       "      <th>COVID</th>\n",
       "      <th>ICU</th>\n",
       "      <th>sympt2care</th>\n",
       "      <th>dead</th>\n",
       "    </tr>\n",
       "  </thead>\n",
       "  <tbody>\n",
       "    <tr>\n",
       "      <td>count</td>\n",
       "      <td>95836.000000</td>\n",
       "      <td>95195.000000</td>\n",
       "      <td>95839.000000</td>\n",
       "      <td>95839.000000</td>\n",
       "      <td>95839.000000</td>\n",
       "      <td>95839.000000</td>\n",
       "      <td>25547.000000</td>\n",
       "      <td>95831.000000</td>\n",
       "      <td>95802.000000</td>\n",
       "      <td>95839.000000</td>\n",
       "      <td>...</td>\n",
       "      <td>95281.000000</td>\n",
       "      <td>95423.000000</td>\n",
       "      <td>95449.000000</td>\n",
       "      <td>95433.000000</td>\n",
       "      <td>95435.000000</td>\n",
       "      <td>60344.000000</td>\n",
       "      <td>95839.000000</td>\n",
       "      <td>25546.000000</td>\n",
       "      <td>95821.000000</td>\n",
       "      <td>95839.000000</td>\n",
       "    </tr>\n",
       "    <tr>\n",
       "      <td>mean</td>\n",
       "      <td>47920.496964</td>\n",
       "      <td>8.795042</td>\n",
       "      <td>14.660639</td>\n",
       "      <td>1.508353</td>\n",
       "      <td>14.897620</td>\n",
       "      <td>1.266812</td>\n",
       "      <td>1.924296</td>\n",
       "      <td>1.816051</td>\n",
       "      <td>42.031200</td>\n",
       "      <td>1.012584</td>\n",
       "      <td>...</td>\n",
       "      <td>1.951281</td>\n",
       "      <td>1.968708</td>\n",
       "      <td>1.836593</td>\n",
       "      <td>1.976036</td>\n",
       "      <td>1.902436</td>\n",
       "      <td>1.517947</td>\n",
       "      <td>1.887238</td>\n",
       "      <td>1.914664</td>\n",
       "      <td>3.554450</td>\n",
       "      <td>0.035841</td>\n",
       "    </tr>\n",
       "    <tr>\n",
       "      <td>std</td>\n",
       "      <td>27665.619790</td>\n",
       "      <td>3.782903</td>\n",
       "      <td>8.075045</td>\n",
       "      <td>0.499933</td>\n",
       "      <td>8.006973</td>\n",
       "      <td>0.442296</td>\n",
       "      <td>0.264528</td>\n",
       "      <td>0.387444</td>\n",
       "      <td>17.287125</td>\n",
       "      <td>0.111469</td>\n",
       "      <td>...</td>\n",
       "      <td>0.215281</td>\n",
       "      <td>0.174107</td>\n",
       "      <td>0.369738</td>\n",
       "      <td>0.152939</td>\n",
       "      <td>0.296725</td>\n",
       "      <td>0.499682</td>\n",
       "      <td>0.603595</td>\n",
       "      <td>0.279387</td>\n",
       "      <td>3.257426</td>\n",
       "      <td>0.185895</td>\n",
       "    </tr>\n",
       "    <tr>\n",
       "      <td>min</td>\n",
       "      <td>0.000000</td>\n",
       "      <td>1.000000</td>\n",
       "      <td>1.000000</td>\n",
       "      <td>1.000000</td>\n",
       "      <td>1.000000</td>\n",
       "      <td>1.000000</td>\n",
       "      <td>1.000000</td>\n",
       "      <td>1.000000</td>\n",
       "      <td>0.000000</td>\n",
       "      <td>1.000000</td>\n",
       "      <td>...</td>\n",
       "      <td>1.000000</td>\n",
       "      <td>1.000000</td>\n",
       "      <td>1.000000</td>\n",
       "      <td>1.000000</td>\n",
       "      <td>1.000000</td>\n",
       "      <td>1.000000</td>\n",
       "      <td>1.000000</td>\n",
       "      <td>1.000000</td>\n",
       "      <td>0.000000</td>\n",
       "      <td>0.000000</td>\n",
       "    </tr>\n",
       "    <tr>\n",
       "      <td>25%</td>\n",
       "      <td>23961.750000</td>\n",
       "      <td>4.000000</td>\n",
       "      <td>9.000000</td>\n",
       "      <td>1.000000</td>\n",
       "      <td>9.000000</td>\n",
       "      <td>1.000000</td>\n",
       "      <td>2.000000</td>\n",
       "      <td>2.000000</td>\n",
       "      <td>30.000000</td>\n",
       "      <td>1.000000</td>\n",
       "      <td>...</td>\n",
       "      <td>2.000000</td>\n",
       "      <td>2.000000</td>\n",
       "      <td>2.000000</td>\n",
       "      <td>2.000000</td>\n",
       "      <td>2.000000</td>\n",
       "      <td>1.000000</td>\n",
       "      <td>2.000000</td>\n",
       "      <td>2.000000</td>\n",
       "      <td>1.000000</td>\n",
       "      <td>0.000000</td>\n",
       "    </tr>\n",
       "    <tr>\n",
       "      <td>50%</td>\n",
       "      <td>47920.500000</td>\n",
       "      <td>12.000000</td>\n",
       "      <td>14.000000</td>\n",
       "      <td>2.000000</td>\n",
       "      <td>14.000000</td>\n",
       "      <td>1.000000</td>\n",
       "      <td>2.000000</td>\n",
       "      <td>2.000000</td>\n",
       "      <td>41.000000</td>\n",
       "      <td>1.000000</td>\n",
       "      <td>...</td>\n",
       "      <td>2.000000</td>\n",
       "      <td>2.000000</td>\n",
       "      <td>2.000000</td>\n",
       "      <td>2.000000</td>\n",
       "      <td>2.000000</td>\n",
       "      <td>2.000000</td>\n",
       "      <td>2.000000</td>\n",
       "      <td>2.000000</td>\n",
       "      <td>3.000000</td>\n",
       "      <td>0.000000</td>\n",
       "    </tr>\n",
       "    <tr>\n",
       "      <td>75%</td>\n",
       "      <td>71879.250000</td>\n",
       "      <td>12.000000</td>\n",
       "      <td>20.000000</td>\n",
       "      <td>2.000000</td>\n",
       "      <td>20.000000</td>\n",
       "      <td>2.000000</td>\n",
       "      <td>2.000000</td>\n",
       "      <td>2.000000</td>\n",
       "      <td>53.000000</td>\n",
       "      <td>1.000000</td>\n",
       "      <td>...</td>\n",
       "      <td>2.000000</td>\n",
       "      <td>2.000000</td>\n",
       "      <td>2.000000</td>\n",
       "      <td>2.000000</td>\n",
       "      <td>2.000000</td>\n",
       "      <td>2.000000</td>\n",
       "      <td>2.000000</td>\n",
       "      <td>2.000000</td>\n",
       "      <td>5.000000</td>\n",
       "      <td>0.000000</td>\n",
       "    </tr>\n",
       "    <tr>\n",
       "      <td>max</td>\n",
       "      <td>95838.000000</td>\n",
       "      <td>13.000000</td>\n",
       "      <td>32.000000</td>\n",
       "      <td>2.000000</td>\n",
       "      <td>32.000000</td>\n",
       "      <td>2.000000</td>\n",
       "      <td>2.000000</td>\n",
       "      <td>2.000000</td>\n",
       "      <td>113.000000</td>\n",
       "      <td>2.000000</td>\n",
       "      <td>...</td>\n",
       "      <td>2.000000</td>\n",
       "      <td>2.000000</td>\n",
       "      <td>2.000000</td>\n",
       "      <td>2.000000</td>\n",
       "      <td>2.000000</td>\n",
       "      <td>2.000000</td>\n",
       "      <td>3.000000</td>\n",
       "      <td>2.000000</td>\n",
       "      <td>50.000000</td>\n",
       "      <td>1.000000</td>\n",
       "    </tr>\n",
       "  </tbody>\n",
       "</table>\n",
       "<p>8 rows × 25 columns</p>\n",
       "</div>"
      ],
      "text/plain": [
       "                 ID        SECTOR    state_care           sex    state_live  \\\n",
       "count  95836.000000  95195.000000  95839.000000  95839.000000  95839.000000   \n",
       "mean   47920.496964      8.795042     14.660639      1.508353     14.897620   \n",
       "std    27665.619790      3.782903      8.075045      0.499933      8.006973   \n",
       "min        0.000000      1.000000      1.000000      1.000000      1.000000   \n",
       "25%    23961.750000      4.000000      9.000000      1.000000      9.000000   \n",
       "50%    47920.500000     12.000000     14.000000      2.000000     14.000000   \n",
       "75%    71879.250000     12.000000     20.000000      2.000000     20.000000   \n",
       "max    95838.000000     13.000000     32.000000      2.000000     32.000000   \n",
       "\n",
       "         ambulatory      intubate      neumonia           age        nation  \\\n",
       "count  95839.000000  25547.000000  95831.000000  95802.000000  95839.000000   \n",
       "mean       1.266812      1.924296      1.816051     42.031200      1.012584   \n",
       "std        0.442296      0.264528      0.387444     17.287125      0.111469   \n",
       "min        1.000000      1.000000      1.000000      0.000000      1.000000   \n",
       "25%        1.000000      2.000000      2.000000     30.000000      1.000000   \n",
       "50%        1.000000      2.000000      2.000000     41.000000      1.000000   \n",
       "75%        2.000000      2.000000      2.000000     53.000000      1.000000   \n",
       "max        2.000000      2.000000      2.000000    113.000000      2.000000   \n",
       "\n",
       "       ...      OtherDis     CardioDis       Obesity      RenalDis  \\\n",
       "count  ...  95281.000000  95423.000000  95449.000000  95433.000000   \n",
       "mean   ...      1.951281      1.968708      1.836593      1.976036   \n",
       "std    ...      0.215281      0.174107      0.369738      0.152939   \n",
       "min    ...      1.000000      1.000000      1.000000      1.000000   \n",
       "25%    ...      2.000000      2.000000      2.000000      2.000000   \n",
       "50%    ...      2.000000      2.000000      2.000000      2.000000   \n",
       "75%    ...      2.000000      2.000000      2.000000      2.000000   \n",
       "max    ...      2.000000      2.000000      2.000000      2.000000   \n",
       "\n",
       "          tabaquism  COVID_contact         COVID           ICU    sympt2care  \\\n",
       "count  95435.000000   60344.000000  95839.000000  25546.000000  95821.000000   \n",
       "mean       1.902436       1.517947      1.887238      1.914664      3.554450   \n",
       "std        0.296725       0.499682      0.603595      0.279387      3.257426   \n",
       "min        1.000000       1.000000      1.000000      1.000000      0.000000   \n",
       "25%        2.000000       1.000000      2.000000      2.000000      1.000000   \n",
       "50%        2.000000       2.000000      2.000000      2.000000      3.000000   \n",
       "75%        2.000000       2.000000      2.000000      2.000000      5.000000   \n",
       "max        2.000000       2.000000      3.000000      2.000000     50.000000   \n",
       "\n",
       "               dead  \n",
       "count  95839.000000  \n",
       "mean       0.035841  \n",
       "std        0.185895  \n",
       "min        0.000000  \n",
       "25%        0.000000  \n",
       "50%        0.000000  \n",
       "75%        0.000000  \n",
       "max        1.000000  \n",
       "\n",
       "[8 rows x 25 columns]"
      ]
     },
     "execution_count": 106,
     "metadata": {},
     "output_type": "execute_result"
    }
   ],
   "source": [
    "df1mxna = df1mx.replace(97, value=np.nan)\n",
    "df1mxna = df1mxna.replace(98, value=np.nan)\n",
    "df1mxna = df1mxna.replace(99, value=np.nan)\n",
    "df1mxna.describe()"
   ]
  },
  {
   "cell_type": "code",
   "execution_count": 175,
   "metadata": {},
   "outputs": [
    {
     "data": {
      "text/plain": [
       "ID                   3\n",
       "SECTOR             644\n",
       "state_care           0\n",
       "sex                  0\n",
       "state_live           0\n",
       "ambulatory           0\n",
       "intubate         70292\n",
       "neumonia             8\n",
       "age                 37\n",
       "nation               0\n",
       "diabetes           417\n",
       "epoch              404\n",
       "asthma             409\n",
       "immunosprs         426\n",
       "hyperten           402\n",
       "OtherDis           558\n",
       "CardioDis          416\n",
       "Obesity            390\n",
       "RenalDis           406\n",
       "tabaquism          404\n",
       "COVID_contact    35495\n",
       "COVID                0\n",
       "ICU              70293\n",
       "sympt2care          18\n",
       "dead                 0\n",
       "dtype: int64"
      ]
     },
     "execution_count": 175,
     "metadata": {},
     "output_type": "execute_result"
    }
   ],
   "source": [
    "df1mxna.isna().sum()"
   ]
  },
  {
   "cell_type": "code",
   "execution_count": 181,
   "metadata": {},
   "outputs": [],
   "source": [
    "# what to do with missing data\n",
    "# drop all\n",
    "df2mx = pd.DataFrame(df1mxna.dropna())\n",
    "\n",
    "# remove 'intubate','Covid_contact','ICU'--then drop all\n",
    "df3mx = df1mxna.drop(['intubate', 'COVID_contact','ICU'], axis=1)\n",
    "df3mx = pd.DataFrame(df3mx.dropna())\n"
   ]
  },
  {
   "cell_type": "code",
   "execution_count": 182,
   "metadata": {},
   "outputs": [
    {
     "data": {
      "text/html": [
       "<div>\n",
       "<style scoped>\n",
       "    .dataframe tbody tr th:only-of-type {\n",
       "        vertical-align: middle;\n",
       "    }\n",
       "\n",
       "    .dataframe tbody tr th {\n",
       "        vertical-align: top;\n",
       "    }\n",
       "\n",
       "    .dataframe thead th {\n",
       "        text-align: right;\n",
       "    }\n",
       "</style>\n",
       "<table border=\"1\" class=\"dataframe\">\n",
       "  <thead>\n",
       "    <tr style=\"text-align: right;\">\n",
       "      <th></th>\n",
       "      <th>ID</th>\n",
       "      <th>SECTOR</th>\n",
       "      <th>state_care</th>\n",
       "      <th>sex</th>\n",
       "      <th>state_live</th>\n",
       "      <th>ambulatory</th>\n",
       "      <th>intubate</th>\n",
       "      <th>neumonia</th>\n",
       "      <th>age</th>\n",
       "      <th>nation</th>\n",
       "      <th>...</th>\n",
       "      <th>OtherDis</th>\n",
       "      <th>CardioDis</th>\n",
       "      <th>Obesity</th>\n",
       "      <th>RenalDis</th>\n",
       "      <th>tabaquism</th>\n",
       "      <th>COVID_contact</th>\n",
       "      <th>COVID</th>\n",
       "      <th>ICU</th>\n",
       "      <th>sympt2care</th>\n",
       "      <th>dead</th>\n",
       "    </tr>\n",
       "  </thead>\n",
       "  <tbody>\n",
       "    <tr>\n",
       "      <td>4</td>\n",
       "      <td>4.0</td>\n",
       "      <td>12.0</td>\n",
       "      <td>14</td>\n",
       "      <td>1</td>\n",
       "      <td>14</td>\n",
       "      <td>2</td>\n",
       "      <td>2.0</td>\n",
       "      <td>2.0</td>\n",
       "      <td>44.0</td>\n",
       "      <td>1</td>\n",
       "      <td>...</td>\n",
       "      <td>2.0</td>\n",
       "      <td>2.0</td>\n",
       "      <td>2.0</td>\n",
       "      <td>2.0</td>\n",
       "      <td>2.0</td>\n",
       "      <td>2.0</td>\n",
       "      <td>2</td>\n",
       "      <td>2.0</td>\n",
       "      <td>3.0</td>\n",
       "      <td>0</td>\n",
       "    </tr>\n",
       "    <tr>\n",
       "      <td>7</td>\n",
       "      <td>7.0</td>\n",
       "      <td>12.0</td>\n",
       "      <td>32</td>\n",
       "      <td>2</td>\n",
       "      <td>32</td>\n",
       "      <td>2</td>\n",
       "      <td>2.0</td>\n",
       "      <td>1.0</td>\n",
       "      <td>89.0</td>\n",
       "      <td>1</td>\n",
       "      <td>...</td>\n",
       "      <td>2.0</td>\n",
       "      <td>2.0</td>\n",
       "      <td>2.0</td>\n",
       "      <td>2.0</td>\n",
       "      <td>2.0</td>\n",
       "      <td>2.0</td>\n",
       "      <td>2</td>\n",
       "      <td>2.0</td>\n",
       "      <td>1.0</td>\n",
       "      <td>0</td>\n",
       "    </tr>\n",
       "    <tr>\n",
       "      <td>8</td>\n",
       "      <td>8.0</td>\n",
       "      <td>12.0</td>\n",
       "      <td>2</td>\n",
       "      <td>1</td>\n",
       "      <td>2</td>\n",
       "      <td>2</td>\n",
       "      <td>2.0</td>\n",
       "      <td>1.0</td>\n",
       "      <td>34.0</td>\n",
       "      <td>1</td>\n",
       "      <td>...</td>\n",
       "      <td>2.0</td>\n",
       "      <td>2.0</td>\n",
       "      <td>2.0</td>\n",
       "      <td>2.0</td>\n",
       "      <td>2.0</td>\n",
       "      <td>2.0</td>\n",
       "      <td>3</td>\n",
       "      <td>2.0</td>\n",
       "      <td>0.0</td>\n",
       "      <td>0</td>\n",
       "    </tr>\n",
       "    <tr>\n",
       "      <td>11</td>\n",
       "      <td>11.0</td>\n",
       "      <td>12.0</td>\n",
       "      <td>6</td>\n",
       "      <td>1</td>\n",
       "      <td>6</td>\n",
       "      <td>2</td>\n",
       "      <td>2.0</td>\n",
       "      <td>1.0</td>\n",
       "      <td>7.0</td>\n",
       "      <td>1</td>\n",
       "      <td>...</td>\n",
       "      <td>2.0</td>\n",
       "      <td>2.0</td>\n",
       "      <td>2.0</td>\n",
       "      <td>2.0</td>\n",
       "      <td>2.0</td>\n",
       "      <td>2.0</td>\n",
       "      <td>2</td>\n",
       "      <td>2.0</td>\n",
       "      <td>1.0</td>\n",
       "      <td>0</td>\n",
       "    </tr>\n",
       "    <tr>\n",
       "      <td>20</td>\n",
       "      <td>20.0</td>\n",
       "      <td>12.0</td>\n",
       "      <td>14</td>\n",
       "      <td>1</td>\n",
       "      <td>14</td>\n",
       "      <td>2</td>\n",
       "      <td>1.0</td>\n",
       "      <td>1.0</td>\n",
       "      <td>22.0</td>\n",
       "      <td>1</td>\n",
       "      <td>...</td>\n",
       "      <td>2.0</td>\n",
       "      <td>2.0</td>\n",
       "      <td>2.0</td>\n",
       "      <td>2.0</td>\n",
       "      <td>2.0</td>\n",
       "      <td>2.0</td>\n",
       "      <td>2</td>\n",
       "      <td>2.0</td>\n",
       "      <td>4.0</td>\n",
       "      <td>0</td>\n",
       "    </tr>\n",
       "    <tr>\n",
       "      <td>...</td>\n",
       "      <td>...</td>\n",
       "      <td>...</td>\n",
       "      <td>...</td>\n",
       "      <td>...</td>\n",
       "      <td>...</td>\n",
       "      <td>...</td>\n",
       "      <td>...</td>\n",
       "      <td>...</td>\n",
       "      <td>...</td>\n",
       "      <td>...</td>\n",
       "      <td>...</td>\n",
       "      <td>...</td>\n",
       "      <td>...</td>\n",
       "      <td>...</td>\n",
       "      <td>...</td>\n",
       "      <td>...</td>\n",
       "      <td>...</td>\n",
       "      <td>...</td>\n",
       "      <td>...</td>\n",
       "      <td>...</td>\n",
       "      <td>...</td>\n",
       "    </tr>\n",
       "    <tr>\n",
       "      <td>95810</td>\n",
       "      <td>95810.0</td>\n",
       "      <td>6.0</td>\n",
       "      <td>30</td>\n",
       "      <td>1</td>\n",
       "      <td>30</td>\n",
       "      <td>2</td>\n",
       "      <td>2.0</td>\n",
       "      <td>2.0</td>\n",
       "      <td>52.0</td>\n",
       "      <td>1</td>\n",
       "      <td>...</td>\n",
       "      <td>2.0</td>\n",
       "      <td>2.0</td>\n",
       "      <td>1.0</td>\n",
       "      <td>2.0</td>\n",
       "      <td>2.0</td>\n",
       "      <td>2.0</td>\n",
       "      <td>3</td>\n",
       "      <td>2.0</td>\n",
       "      <td>4.0</td>\n",
       "      <td>0</td>\n",
       "    </tr>\n",
       "    <tr>\n",
       "      <td>95819</td>\n",
       "      <td>95819.0</td>\n",
       "      <td>12.0</td>\n",
       "      <td>9</td>\n",
       "      <td>1</td>\n",
       "      <td>9</td>\n",
       "      <td>2</td>\n",
       "      <td>2.0</td>\n",
       "      <td>1.0</td>\n",
       "      <td>66.0</td>\n",
       "      <td>1</td>\n",
       "      <td>...</td>\n",
       "      <td>2.0</td>\n",
       "      <td>2.0</td>\n",
       "      <td>1.0</td>\n",
       "      <td>2.0</td>\n",
       "      <td>2.0</td>\n",
       "      <td>2.0</td>\n",
       "      <td>3</td>\n",
       "      <td>2.0</td>\n",
       "      <td>4.0</td>\n",
       "      <td>0</td>\n",
       "    </tr>\n",
       "    <tr>\n",
       "      <td>95820</td>\n",
       "      <td>95820.0</td>\n",
       "      <td>12.0</td>\n",
       "      <td>15</td>\n",
       "      <td>2</td>\n",
       "      <td>15</td>\n",
       "      <td>2</td>\n",
       "      <td>2.0</td>\n",
       "      <td>1.0</td>\n",
       "      <td>46.0</td>\n",
       "      <td>1</td>\n",
       "      <td>...</td>\n",
       "      <td>2.0</td>\n",
       "      <td>2.0</td>\n",
       "      <td>2.0</td>\n",
       "      <td>2.0</td>\n",
       "      <td>2.0</td>\n",
       "      <td>2.0</td>\n",
       "      <td>3</td>\n",
       "      <td>2.0</td>\n",
       "      <td>0.0</td>\n",
       "      <td>0</td>\n",
       "    </tr>\n",
       "    <tr>\n",
       "      <td>95831</td>\n",
       "      <td>95831.0</td>\n",
       "      <td>12.0</td>\n",
       "      <td>15</td>\n",
       "      <td>2</td>\n",
       "      <td>15</td>\n",
       "      <td>2</td>\n",
       "      <td>2.0</td>\n",
       "      <td>1.0</td>\n",
       "      <td>44.0</td>\n",
       "      <td>1</td>\n",
       "      <td>...</td>\n",
       "      <td>2.0</td>\n",
       "      <td>2.0</td>\n",
       "      <td>1.0</td>\n",
       "      <td>2.0</td>\n",
       "      <td>2.0</td>\n",
       "      <td>1.0</td>\n",
       "      <td>3</td>\n",
       "      <td>2.0</td>\n",
       "      <td>1.0</td>\n",
       "      <td>0</td>\n",
       "    </tr>\n",
       "    <tr>\n",
       "      <td>95832</td>\n",
       "      <td>95832.0</td>\n",
       "      <td>12.0</td>\n",
       "      <td>15</td>\n",
       "      <td>2</td>\n",
       "      <td>15</td>\n",
       "      <td>2</td>\n",
       "      <td>2.0</td>\n",
       "      <td>1.0</td>\n",
       "      <td>54.0</td>\n",
       "      <td>1</td>\n",
       "      <td>...</td>\n",
       "      <td>2.0</td>\n",
       "      <td>2.0</td>\n",
       "      <td>2.0</td>\n",
       "      <td>2.0</td>\n",
       "      <td>2.0</td>\n",
       "      <td>2.0</td>\n",
       "      <td>3</td>\n",
       "      <td>2.0</td>\n",
       "      <td>3.0</td>\n",
       "      <td>0</td>\n",
       "    </tr>\n",
       "  </tbody>\n",
       "</table>\n",
       "<p>12095 rows × 25 columns</p>\n",
       "</div>"
      ],
      "text/plain": [
       "            ID  SECTOR  state_care  sex  state_live  ambulatory  intubate  \\\n",
       "4          4.0    12.0          14    1          14           2       2.0   \n",
       "7          7.0    12.0          32    2          32           2       2.0   \n",
       "8          8.0    12.0           2    1           2           2       2.0   \n",
       "11        11.0    12.0           6    1           6           2       2.0   \n",
       "20        20.0    12.0          14    1          14           2       1.0   \n",
       "...        ...     ...         ...  ...         ...         ...       ...   \n",
       "95810  95810.0     6.0          30    1          30           2       2.0   \n",
       "95819  95819.0    12.0           9    1           9           2       2.0   \n",
       "95820  95820.0    12.0          15    2          15           2       2.0   \n",
       "95831  95831.0    12.0          15    2          15           2       2.0   \n",
       "95832  95832.0    12.0          15    2          15           2       2.0   \n",
       "\n",
       "       neumonia   age  nation  ...  OtherDis  CardioDis  Obesity  RenalDis  \\\n",
       "4           2.0  44.0       1  ...       2.0        2.0      2.0       2.0   \n",
       "7           1.0  89.0       1  ...       2.0        2.0      2.0       2.0   \n",
       "8           1.0  34.0       1  ...       2.0        2.0      2.0       2.0   \n",
       "11          1.0   7.0       1  ...       2.0        2.0      2.0       2.0   \n",
       "20          1.0  22.0       1  ...       2.0        2.0      2.0       2.0   \n",
       "...         ...   ...     ...  ...       ...        ...      ...       ...   \n",
       "95810       2.0  52.0       1  ...       2.0        2.0      1.0       2.0   \n",
       "95819       1.0  66.0       1  ...       2.0        2.0      1.0       2.0   \n",
       "95820       1.0  46.0       1  ...       2.0        2.0      2.0       2.0   \n",
       "95831       1.0  44.0       1  ...       2.0        2.0      1.0       2.0   \n",
       "95832       1.0  54.0       1  ...       2.0        2.0      2.0       2.0   \n",
       "\n",
       "       tabaquism  COVID_contact  COVID  ICU  sympt2care  dead  \n",
       "4            2.0            2.0      2  2.0         3.0     0  \n",
       "7            2.0            2.0      2  2.0         1.0     0  \n",
       "8            2.0            2.0      3  2.0         0.0     0  \n",
       "11           2.0            2.0      2  2.0         1.0     0  \n",
       "20           2.0            2.0      2  2.0         4.0     0  \n",
       "...          ...            ...    ...  ...         ...   ...  \n",
       "95810        2.0            2.0      3  2.0         4.0     0  \n",
       "95819        2.0            2.0      3  2.0         4.0     0  \n",
       "95820        2.0            2.0      3  2.0         0.0     0  \n",
       "95831        2.0            1.0      3  2.0         1.0     0  \n",
       "95832        2.0            2.0      3  2.0         3.0     0  \n",
       "\n",
       "[12095 rows x 25 columns]"
      ]
     },
     "execution_count": 182,
     "metadata": {},
     "output_type": "execute_result"
    }
   ],
   "source": [
    "df2mx"
   ]
  },
  {
   "cell_type": "code",
   "execution_count": 183,
   "metadata": {},
   "outputs": [
    {
     "data": {
      "text/html": [
       "<div>\n",
       "<style scoped>\n",
       "    .dataframe tbody tr th:only-of-type {\n",
       "        vertical-align: middle;\n",
       "    }\n",
       "\n",
       "    .dataframe tbody tr th {\n",
       "        vertical-align: top;\n",
       "    }\n",
       "\n",
       "    .dataframe thead th {\n",
       "        text-align: right;\n",
       "    }\n",
       "</style>\n",
       "<table border=\"1\" class=\"dataframe\">\n",
       "  <thead>\n",
       "    <tr style=\"text-align: right;\">\n",
       "      <th></th>\n",
       "      <th>ID</th>\n",
       "      <th>SECTOR</th>\n",
       "      <th>state_care</th>\n",
       "      <th>sex</th>\n",
       "      <th>state_live</th>\n",
       "      <th>ambulatory</th>\n",
       "      <th>neumonia</th>\n",
       "      <th>age</th>\n",
       "      <th>nation</th>\n",
       "      <th>diabetes</th>\n",
       "      <th>...</th>\n",
       "      <th>immunosprs</th>\n",
       "      <th>hyperten</th>\n",
       "      <th>OtherDis</th>\n",
       "      <th>CardioDis</th>\n",
       "      <th>Obesity</th>\n",
       "      <th>RenalDis</th>\n",
       "      <th>tabaquism</th>\n",
       "      <th>COVID</th>\n",
       "      <th>sympt2care</th>\n",
       "      <th>dead</th>\n",
       "    </tr>\n",
       "  </thead>\n",
       "  <tbody>\n",
       "    <tr>\n",
       "      <td>0</td>\n",
       "      <td>0.0</td>\n",
       "      <td>4.0</td>\n",
       "      <td>17</td>\n",
       "      <td>2</td>\n",
       "      <td>17</td>\n",
       "      <td>1</td>\n",
       "      <td>2.0</td>\n",
       "      <td>42.0</td>\n",
       "      <td>1</td>\n",
       "      <td>2.0</td>\n",
       "      <td>...</td>\n",
       "      <td>2.0</td>\n",
       "      <td>2.0</td>\n",
       "      <td>2.0</td>\n",
       "      <td>2.0</td>\n",
       "      <td>2.0</td>\n",
       "      <td>2.0</td>\n",
       "      <td>2.0</td>\n",
       "      <td>1</td>\n",
       "      <td>0.0</td>\n",
       "      <td>0</td>\n",
       "    </tr>\n",
       "    <tr>\n",
       "      <td>1</td>\n",
       "      <td>1.0</td>\n",
       "      <td>4.0</td>\n",
       "      <td>9</td>\n",
       "      <td>1</td>\n",
       "      <td>9</td>\n",
       "      <td>1</td>\n",
       "      <td>2.0</td>\n",
       "      <td>51.0</td>\n",
       "      <td>1</td>\n",
       "      <td>2.0</td>\n",
       "      <td>...</td>\n",
       "      <td>2.0</td>\n",
       "      <td>2.0</td>\n",
       "      <td>2.0</td>\n",
       "      <td>2.0</td>\n",
       "      <td>2.0</td>\n",
       "      <td>2.0</td>\n",
       "      <td>2.0</td>\n",
       "      <td>1</td>\n",
       "      <td>2.0</td>\n",
       "      <td>0</td>\n",
       "    </tr>\n",
       "    <tr>\n",
       "      <td>2</td>\n",
       "      <td>2.0</td>\n",
       "      <td>4.0</td>\n",
       "      <td>2</td>\n",
       "      <td>2</td>\n",
       "      <td>2</td>\n",
       "      <td>2</td>\n",
       "      <td>2.0</td>\n",
       "      <td>51.0</td>\n",
       "      <td>1</td>\n",
       "      <td>1.0</td>\n",
       "      <td>...</td>\n",
       "      <td>2.0</td>\n",
       "      <td>1.0</td>\n",
       "      <td>2.0</td>\n",
       "      <td>2.0</td>\n",
       "      <td>1.0</td>\n",
       "      <td>2.0</td>\n",
       "      <td>2.0</td>\n",
       "      <td>1</td>\n",
       "      <td>0.0</td>\n",
       "      <td>0</td>\n",
       "    </tr>\n",
       "    <tr>\n",
       "      <td>3</td>\n",
       "      <td>3.0</td>\n",
       "      <td>4.0</td>\n",
       "      <td>9</td>\n",
       "      <td>2</td>\n",
       "      <td>9</td>\n",
       "      <td>2</td>\n",
       "      <td>2.0</td>\n",
       "      <td>57.0</td>\n",
       "      <td>1</td>\n",
       "      <td>1.0</td>\n",
       "      <td>...</td>\n",
       "      <td>2.0</td>\n",
       "      <td>2.0</td>\n",
       "      <td>2.0</td>\n",
       "      <td>2.0</td>\n",
       "      <td>2.0</td>\n",
       "      <td>2.0</td>\n",
       "      <td>2.0</td>\n",
       "      <td>1</td>\n",
       "      <td>6.0</td>\n",
       "      <td>1</td>\n",
       "    </tr>\n",
       "    <tr>\n",
       "      <td>4</td>\n",
       "      <td>4.0</td>\n",
       "      <td>12.0</td>\n",
       "      <td>14</td>\n",
       "      <td>1</td>\n",
       "      <td>14</td>\n",
       "      <td>2</td>\n",
       "      <td>2.0</td>\n",
       "      <td>44.0</td>\n",
       "      <td>1</td>\n",
       "      <td>1.0</td>\n",
       "      <td>...</td>\n",
       "      <td>2.0</td>\n",
       "      <td>2.0</td>\n",
       "      <td>2.0</td>\n",
       "      <td>2.0</td>\n",
       "      <td>2.0</td>\n",
       "      <td>2.0</td>\n",
       "      <td>2.0</td>\n",
       "      <td>2</td>\n",
       "      <td>3.0</td>\n",
       "      <td>0</td>\n",
       "    </tr>\n",
       "    <tr>\n",
       "      <td>...</td>\n",
       "      <td>...</td>\n",
       "      <td>...</td>\n",
       "      <td>...</td>\n",
       "      <td>...</td>\n",
       "      <td>...</td>\n",
       "      <td>...</td>\n",
       "      <td>...</td>\n",
       "      <td>...</td>\n",
       "      <td>...</td>\n",
       "      <td>...</td>\n",
       "      <td>...</td>\n",
       "      <td>...</td>\n",
       "      <td>...</td>\n",
       "      <td>...</td>\n",
       "      <td>...</td>\n",
       "      <td>...</td>\n",
       "      <td>...</td>\n",
       "      <td>...</td>\n",
       "      <td>...</td>\n",
       "      <td>...</td>\n",
       "      <td>...</td>\n",
       "    </tr>\n",
       "    <tr>\n",
       "      <td>95834</td>\n",
       "      <td>95834.0</td>\n",
       "      <td>4.0</td>\n",
       "      <td>23</td>\n",
       "      <td>2</td>\n",
       "      <td>23</td>\n",
       "      <td>2</td>\n",
       "      <td>2.0</td>\n",
       "      <td>59.0</td>\n",
       "      <td>1</td>\n",
       "      <td>2.0</td>\n",
       "      <td>...</td>\n",
       "      <td>2.0</td>\n",
       "      <td>2.0</td>\n",
       "      <td>2.0</td>\n",
       "      <td>2.0</td>\n",
       "      <td>2.0</td>\n",
       "      <td>2.0</td>\n",
       "      <td>2.0</td>\n",
       "      <td>3</td>\n",
       "      <td>1.0</td>\n",
       "      <td>0</td>\n",
       "    </tr>\n",
       "    <tr>\n",
       "      <td>95835</td>\n",
       "      <td>95835.0</td>\n",
       "      <td>4.0</td>\n",
       "      <td>2</td>\n",
       "      <td>2</td>\n",
       "      <td>2</td>\n",
       "      <td>2</td>\n",
       "      <td>2.0</td>\n",
       "      <td>50.0</td>\n",
       "      <td>1</td>\n",
       "      <td>1.0</td>\n",
       "      <td>...</td>\n",
       "      <td>1.0</td>\n",
       "      <td>1.0</td>\n",
       "      <td>2.0</td>\n",
       "      <td>2.0</td>\n",
       "      <td>2.0</td>\n",
       "      <td>1.0</td>\n",
       "      <td>2.0</td>\n",
       "      <td>3</td>\n",
       "      <td>0.0</td>\n",
       "      <td>0</td>\n",
       "    </tr>\n",
       "    <tr>\n",
       "      <td>95836</td>\n",
       "      <td>95836.0</td>\n",
       "      <td>12.0</td>\n",
       "      <td>27</td>\n",
       "      <td>1</td>\n",
       "      <td>27</td>\n",
       "      <td>2</td>\n",
       "      <td>2.0</td>\n",
       "      <td>65.0</td>\n",
       "      <td>1</td>\n",
       "      <td>2.0</td>\n",
       "      <td>...</td>\n",
       "      <td>2.0</td>\n",
       "      <td>1.0</td>\n",
       "      <td>2.0</td>\n",
       "      <td>2.0</td>\n",
       "      <td>2.0</td>\n",
       "      <td>2.0</td>\n",
       "      <td>2.0</td>\n",
       "      <td>3</td>\n",
       "      <td>5.0</td>\n",
       "      <td>0</td>\n",
       "    </tr>\n",
       "    <tr>\n",
       "      <td>95837</td>\n",
       "      <td>95837.0</td>\n",
       "      <td>12.0</td>\n",
       "      <td>15</td>\n",
       "      <td>1</td>\n",
       "      <td>15</td>\n",
       "      <td>1</td>\n",
       "      <td>2.0</td>\n",
       "      <td>48.0</td>\n",
       "      <td>1</td>\n",
       "      <td>2.0</td>\n",
       "      <td>...</td>\n",
       "      <td>2.0</td>\n",
       "      <td>2.0</td>\n",
       "      <td>2.0</td>\n",
       "      <td>2.0</td>\n",
       "      <td>2.0</td>\n",
       "      <td>2.0</td>\n",
       "      <td>2.0</td>\n",
       "      <td>3</td>\n",
       "      <td>2.0</td>\n",
       "      <td>0</td>\n",
       "    </tr>\n",
       "    <tr>\n",
       "      <td>95838</td>\n",
       "      <td>95838.0</td>\n",
       "      <td>12.0</td>\n",
       "      <td>9</td>\n",
       "      <td>2</td>\n",
       "      <td>9</td>\n",
       "      <td>1</td>\n",
       "      <td>2.0</td>\n",
       "      <td>23.0</td>\n",
       "      <td>1</td>\n",
       "      <td>2.0</td>\n",
       "      <td>...</td>\n",
       "      <td>2.0</td>\n",
       "      <td>2.0</td>\n",
       "      <td>2.0</td>\n",
       "      <td>2.0</td>\n",
       "      <td>2.0</td>\n",
       "      <td>2.0</td>\n",
       "      <td>2.0</td>\n",
       "      <td>3</td>\n",
       "      <td>1.0</td>\n",
       "      <td>0</td>\n",
       "    </tr>\n",
       "  </tbody>\n",
       "</table>\n",
       "<p>94351 rows × 22 columns</p>\n",
       "</div>"
      ],
      "text/plain": [
       "            ID  SECTOR  state_care  sex  state_live  ambulatory  neumonia  \\\n",
       "0          0.0     4.0          17    2          17           1       2.0   \n",
       "1          1.0     4.0           9    1           9           1       2.0   \n",
       "2          2.0     4.0           2    2           2           2       2.0   \n",
       "3          3.0     4.0           9    2           9           2       2.0   \n",
       "4          4.0    12.0          14    1          14           2       2.0   \n",
       "...        ...     ...         ...  ...         ...         ...       ...   \n",
       "95834  95834.0     4.0          23    2          23           2       2.0   \n",
       "95835  95835.0     4.0           2    2           2           2       2.0   \n",
       "95836  95836.0    12.0          27    1          27           2       2.0   \n",
       "95837  95837.0    12.0          15    1          15           1       2.0   \n",
       "95838  95838.0    12.0           9    2           9           1       2.0   \n",
       "\n",
       "        age  nation  diabetes  ...  immunosprs  hyperten  OtherDis  CardioDis  \\\n",
       "0      42.0       1       2.0  ...         2.0       2.0       2.0        2.0   \n",
       "1      51.0       1       2.0  ...         2.0       2.0       2.0        2.0   \n",
       "2      51.0       1       1.0  ...         2.0       1.0       2.0        2.0   \n",
       "3      57.0       1       1.0  ...         2.0       2.0       2.0        2.0   \n",
       "4      44.0       1       1.0  ...         2.0       2.0       2.0        2.0   \n",
       "...     ...     ...       ...  ...         ...       ...       ...        ...   \n",
       "95834  59.0       1       2.0  ...         2.0       2.0       2.0        2.0   \n",
       "95835  50.0       1       1.0  ...         1.0       1.0       2.0        2.0   \n",
       "95836  65.0       1       2.0  ...         2.0       1.0       2.0        2.0   \n",
       "95837  48.0       1       2.0  ...         2.0       2.0       2.0        2.0   \n",
       "95838  23.0       1       2.0  ...         2.0       2.0       2.0        2.0   \n",
       "\n",
       "       Obesity  RenalDis  tabaquism  COVID  sympt2care  dead  \n",
       "0          2.0       2.0        2.0      1         0.0     0  \n",
       "1          2.0       2.0        2.0      1         2.0     0  \n",
       "2          1.0       2.0        2.0      1         0.0     0  \n",
       "3          2.0       2.0        2.0      1         6.0     1  \n",
       "4          2.0       2.0        2.0      2         3.0     0  \n",
       "...        ...       ...        ...    ...         ...   ...  \n",
       "95834      2.0       2.0        2.0      3         1.0     0  \n",
       "95835      2.0       1.0        2.0      3         0.0     0  \n",
       "95836      2.0       2.0        2.0      3         5.0     0  \n",
       "95837      2.0       2.0        2.0      3         2.0     0  \n",
       "95838      2.0       2.0        2.0      3         1.0     0  \n",
       "\n",
       "[94351 rows x 22 columns]"
      ]
     },
     "execution_count": 183,
     "metadata": {},
     "output_type": "execute_result"
    }
   ],
   "source": [
    "df3mx"
   ]
  },
  {
   "cell_type": "code",
   "execution_count": 184,
   "metadata": {},
   "outputs": [
    {
     "data": {
      "image/png": "[encoded data removed]",
      "text/plain": [
       "<Figure size 432x288 with 1 Axes>"
      ]
     },
     "metadata": {
      "needs_background": "light"
     },
     "output_type": "display_data"
    }
   ],
   "source": [
    "plt.hist(df2mx['age']);"
   ]
  },
  {
   "cell_type": "code",
   "execution_count": 185,
   "metadata": {},
   "outputs": [
    {
     "data": {
      "image/png": "[encoded data removed]",
      "text/plain": [
       "<Figure size 432x288 with 1 Axes>"
      ]
     },
     "metadata": {
      "needs_background": "light"
     },
     "output_type": "display_data"
    }
   ],
   "source": [
    "plt.hist(df3mx['age']);"
   ]
  },
  {
   "cell_type": "markdown",
   "metadata": {},
   "source": [
    "pretty different distributions (shape) of age"
   ]
  },
  {
   "cell_type": "code",
   "execution_count": 186,
   "metadata": {},
   "outputs": [
    {
     "data": {
      "image/png": "[encoded data removed]",
      "text/plain": [
       "<Figure size 432x288 with 1 Axes>"
      ]
     },
     "metadata": {
      "needs_background": "light"
     },
     "output_type": "display_data"
    }
   ],
   "source": [
    "plt.hist(pd.to_numeric(df2mx['sympt2care']));"
   ]
  },
  {
   "cell_type": "code",
   "execution_count": 187,
   "metadata": {},
   "outputs": [
    {
     "data": {
      "image/png": "[encoded data removed]",
      "text/plain": [
       "<Figure size 432x288 with 1 Axes>"
      ]
     },
     "metadata": {
      "needs_background": "light"
     },
     "output_type": "display_data"
    }
   ],
   "source": [
    "plt.hist(pd.to_numeric(df3mx['sympt2care']));"
   ]
  },
  {
   "cell_type": "markdown",
   "metadata": {},
   "source": [
    "fairly similar for s2c"
   ]
  },
  {
   "cell_type": "code",
   "execution_count": 197,
   "metadata": {},
   "outputs": [
    {
     "data": {
      "image/png": "[encoded data removed]",
      "text/plain": [
       "<Figure size 432x288 with 2 Axes>"
      ]
     },
     "metadata": {
      "needs_background": "light"
     },
     "output_type": "display_data"
    }
   ],
   "source": [
    "corr = df2mx.iloc[:,1:].corr()\n",
    "corr_dead = pd.DataFrame(corr['dead'])\n",
    "sns.heatmap(corr);"
   ]
  },
  {
   "cell_type": "code",
   "execution_count": 198,
   "metadata": {},
   "outputs": [
    {
     "data": {
      "image/png": "[encoded data removed]",
      "text/plain": [
       "<Figure size 432x288 with 2 Axes>"
      ]
     },
     "metadata": {
      "needs_background": "light"
     },
     "output_type": "display_data"
    }
   ],
   "source": [
    "corr = df3mx.iloc[:,1:].corr()\n",
    "corr_dead['dead2'] = corr['dead']\n",
    "sns.heatmap(corr);"
   ]
  },
  {
   "cell_type": "markdown",
   "metadata": {},
   "source": [
    "what variables are correlated with \"dead\""
   ]
  },
  {
   "cell_type": "code",
   "execution_count": 199,
   "metadata": {},
   "outputs": [
    {
     "data": {
      "text/html": [
       "<div>\n",
       "<style scoped>\n",
       "    .dataframe tbody tr th:only-of-type {\n",
       "        vertical-align: middle;\n",
       "    }\n",
       "\n",
       "    .dataframe tbody tr th {\n",
       "        vertical-align: top;\n",
       "    }\n",
       "\n",
       "    .dataframe thead th {\n",
       "        text-align: right;\n",
       "    }\n",
       "</style>\n",
       "<table border=\"1\" class=\"dataframe\">\n",
       "  <thead>\n",
       "    <tr style=\"text-align: right;\">\n",
       "      <th></th>\n",
       "      <th>dead</th>\n",
       "      <th>dead2</th>\n",
       "    </tr>\n",
       "  </thead>\n",
       "  <tbody>\n",
       "    <tr>\n",
       "      <td>SECTOR</td>\n",
       "      <td>0.000063</td>\n",
       "      <td>-0.058177</td>\n",
       "    </tr>\n",
       "    <tr>\n",
       "      <td>state_care</td>\n",
       "      <td>0.024451</td>\n",
       "      <td>0.016376</td>\n",
       "    </tr>\n",
       "    <tr>\n",
       "      <td>sex</td>\n",
       "      <td>0.037255</td>\n",
       "      <td>0.052854</td>\n",
       "    </tr>\n",
       "    <tr>\n",
       "      <td>state_live</td>\n",
       "      <td>0.025450</td>\n",
       "      <td>0.016783</td>\n",
       "    </tr>\n",
       "    <tr>\n",
       "      <td>ambulatory</td>\n",
       "      <td>NaN</td>\n",
       "      <td>0.282650</td>\n",
       "    </tr>\n",
       "    <tr>\n",
       "      <td>intubate</td>\n",
       "      <td>-0.328174</td>\n",
       "      <td>NaN</td>\n",
       "    </tr>\n",
       "    <tr>\n",
       "      <td>neumonia</td>\n",
       "      <td>-0.133801</td>\n",
       "      <td>-0.267888</td>\n",
       "    </tr>\n",
       "    <tr>\n",
       "      <td>age</td>\n",
       "      <td>0.158869</td>\n",
       "      <td>0.185122</td>\n",
       "    </tr>\n",
       "    <tr>\n",
       "      <td>nation</td>\n",
       "      <td>-0.005838</td>\n",
       "      <td>-0.011396</td>\n",
       "    </tr>\n",
       "    <tr>\n",
       "      <td>diabetes</td>\n",
       "      <td>-0.093887</td>\n",
       "      <td>-0.152680</td>\n",
       "    </tr>\n",
       "    <tr>\n",
       "      <td>epoch</td>\n",
       "      <td>-0.046474</td>\n",
       "      <td>-0.079909</td>\n",
       "    </tr>\n",
       "    <tr>\n",
       "      <td>asthma</td>\n",
       "      <td>0.024387</td>\n",
       "      <td>0.015766</td>\n",
       "    </tr>\n",
       "    <tr>\n",
       "      <td>immunosprs</td>\n",
       "      <td>-0.009403</td>\n",
       "      <td>-0.041843</td>\n",
       "    </tr>\n",
       "    <tr>\n",
       "      <td>hyperten</td>\n",
       "      <td>-0.101692</td>\n",
       "      <td>-0.131432</td>\n",
       "    </tr>\n",
       "    <tr>\n",
       "      <td>OtherDis</td>\n",
       "      <td>-0.003136</td>\n",
       "      <td>-0.029817</td>\n",
       "    </tr>\n",
       "    <tr>\n",
       "      <td>CardioDis</td>\n",
       "      <td>-0.058573</td>\n",
       "      <td>-0.065530</td>\n",
       "    </tr>\n",
       "    <tr>\n",
       "      <td>Obesity</td>\n",
       "      <td>-0.049090</td>\n",
       "      <td>-0.053603</td>\n",
       "    </tr>\n",
       "    <tr>\n",
       "      <td>RenalDis</td>\n",
       "      <td>-0.036339</td>\n",
       "      <td>-0.086735</td>\n",
       "    </tr>\n",
       "    <tr>\n",
       "      <td>tabaquism</td>\n",
       "      <td>0.003778</td>\n",
       "      <td>-0.004949</td>\n",
       "    </tr>\n",
       "    <tr>\n",
       "      <td>COVID_contact</td>\n",
       "      <td>0.042772</td>\n",
       "      <td>NaN</td>\n",
       "    </tr>\n",
       "    <tr>\n",
       "      <td>COVID</td>\n",
       "      <td>-0.201163</td>\n",
       "      <td>-0.149046</td>\n",
       "    </tr>\n",
       "    <tr>\n",
       "      <td>ICU</td>\n",
       "      <td>-0.182533</td>\n",
       "      <td>NaN</td>\n",
       "    </tr>\n",
       "    <tr>\n",
       "      <td>sympt2care</td>\n",
       "      <td>0.031799</td>\n",
       "      <td>0.017897</td>\n",
       "    </tr>\n",
       "    <tr>\n",
       "      <td>dead</td>\n",
       "      <td>1.000000</td>\n",
       "      <td>1.000000</td>\n",
       "    </tr>\n",
       "  </tbody>\n",
       "</table>\n",
       "</div>"
      ],
      "text/plain": [
       "                   dead     dead2\n",
       "SECTOR         0.000063 -0.058177\n",
       "state_care     0.024451  0.016376\n",
       "sex            0.037255  0.052854\n",
       "state_live     0.025450  0.016783\n",
       "ambulatory          NaN  0.282650\n",
       "intubate      -0.328174       NaN\n",
       "neumonia      -0.133801 -0.267888\n",
       "age            0.158869  0.185122\n",
       "nation        -0.005838 -0.011396\n",
       "diabetes      -0.093887 -0.152680\n",
       "epoch         -0.046474 -0.079909\n",
       "asthma         0.024387  0.015766\n",
       "immunosprs    -0.009403 -0.041843\n",
       "hyperten      -0.101692 -0.131432\n",
       "OtherDis      -0.003136 -0.029817\n",
       "CardioDis     -0.058573 -0.065530\n",
       "Obesity       -0.049090 -0.053603\n",
       "RenalDis      -0.036339 -0.086735\n",
       "tabaquism      0.003778 -0.004949\n",
       "COVID_contact  0.042772       NaN\n",
       "COVID         -0.201163 -0.149046\n",
       "ICU           -0.182533       NaN\n",
       "sympt2care     0.031799  0.017897\n",
       "dead           1.000000  1.000000"
      ]
     },
     "execution_count": 199,
     "metadata": {},
     "output_type": "execute_result"
    }
   ],
   "source": [
    "corr_dead"
   ]
  },
  {
   "cell_type": "markdown",
   "metadata": {},
   "source": [
    "Potential Predictors:\n",
    "\n",
    "similar: age, hyperten\n",
    "different: ambulatory, neumonia, COVID, "
   ]
  },
  {
   "cell_type": "markdown",
   "metadata": {},
   "source": [
    "## Modeling\n",
    "\n",
    "## Logistic Regression"
   ]
  },
  {
   "cell_type": "code",
   "execution_count": 201,
   "metadata": {},
   "outputs": [
    {
     "name": "stdout",
     "output_type": "stream",
     "text": [
      "0.8884663083918974\n",
      "0.11153369160810252\n"
     ]
    }
   ],
   "source": [
    "from sklearn.linear_model import LogisticRegression  # from wk6\n",
    "from sklearn.metrics import mean_squared_error, r2_score\n",
    "\n",
    "X = df2mx.iloc[:,:-1]\n",
    "y = df2mx['dead']\n",
    "\n",
    "lr = LogisticRegression(solver='lbfgs', max_iter=1000)\n",
    "lr.fit(X, y)\n",
    "#print(lr.coef_)\n",
    "# print(lr.intercept_)\n",
    "# print(y)\n",
    "y_hat = lr.predict(X)\n",
    "print(lr.score(X,y))\n",
    "print(mean_squared_error(y,y_hat))"
   ]
  },
  {
   "cell_type": "markdown",
   "metadata": {},
   "source": [
    "try smaller set of variables"
   ]
  },
  {
   "cell_type": "code",
   "execution_count": 202,
   "metadata": {},
   "outputs": [
    {
     "name": "stdout",
     "output_type": "stream",
     "text": [
      "0.8896238114923523\n",
      "0.11037618850764778\n"
     ]
    }
   ],
   "source": [
    "X = df2mx[['age','intubate','neumonia','hyperten','ICU', 'COVID']]\n",
    "y = df2mx['dead']\n",
    "\n",
    "lr = LogisticRegression(solver='lbfgs', max_iter=1000)\n",
    "lr.fit(X, y)\n",
    "#print(lr.coef_)\n",
    "# print(lr.intercept_)\n",
    "# print(y)\n",
    "y_hat = lr.predict(X)\n",
    "print(lr.score(X,y))\n",
    "print(mean_squared_error(y,y_hat))"
   ]
  },
  {
   "cell_type": "markdown",
   "metadata": {},
   "source": [
    "nearly the same"
   ]
  },
  {
   "cell_type": "code",
   "execution_count": 203,
   "metadata": {},
   "outputs": [
    {
     "name": "stdout",
     "output_type": "stream",
     "text": [
      "[[ 0.02387725 -1.75407472 -0.58976482 -0.26333576 -0.18420345 -0.93985666]]\n",
      "[[1.02416459 0.1730673  0.55445767 0.76848383 0.83176657 0.39068383]]\n"
     ]
    }
   ],
   "source": [
    "#Wow, that's explains almost all of the variability in deaths (88%).\n",
    "#What variables are influencial?\n",
    "\n",
    "#log odds ratio\n",
    "print(lr.coef_)\n",
    "\n",
    "#odds ratio\n",
    "print(np.exp(lr.coef_))"
   ]
  },
  {
   "cell_type": "markdown",
   "metadata": {},
   "source": [
    "Intubate, Neumonia and COVID diagnosis are influencial but negative? coding 1,2"
   ]
  },
  {
   "cell_type": "code",
   "execution_count": 204,
   "metadata": {},
   "outputs": [
    {
     "name": "stdout",
     "output_type": "stream",
     "text": [
      "0.9644518871024155\n",
      "0.03554811289758455\n"
     ]
    }
   ],
   "source": [
    "X = df3mx.iloc[:,:-1]\n",
    "y = df3mx['dead']\n",
    "\n",
    "lr = LogisticRegression(solver='lbfgs', max_iter=1000)\n",
    "lr.fit(X, y)\n",
    "#print(lr.coef_)\n",
    "# print(lr.intercept_)\n",
    "# print(y)\n",
    "y_hat = lr.predict(X)\n",
    "print(lr.score(X,y))\n",
    "print(mean_squared_error(y,y_hat))"
   ]
  },
  {
   "cell_type": "code",
   "execution_count": 206,
   "metadata": {},
   "outputs": [
    {
     "name": "stdout",
     "output_type": "stream",
     "text": [
      "0.9643141037190914\n",
      "0.03568589628090852\n"
     ]
    }
   ],
   "source": [
    "X = df3mx[['age','ambulatory','diabetes','neumonia','hyperten', 'COVID']]\n",
    "y = df3mx['dead']\n",
    "\n",
    "lr = LogisticRegression(solver='lbfgs', max_iter=1000)\n",
    "lr.fit(X, y)\n",
    "#print(lr.coef_)\n",
    "# print(lr.intercept_)\n",
    "# print(y)\n",
    "y_hat = lr.predict(X)\n",
    "print(lr.score(X,y))\n",
    "print(mean_squared_error(y,y_hat))"
   ]
  },
  {
   "cell_type": "markdown",
   "metadata": {},
   "source": [
    "Nearly same and much better R2 than the smaller dataset(df2mx)\n",
    "\n",
    "I would drop those 3 highly incomplete variables rather than drop 80% rows.\n",
    "\n",
    "...but I didn't do train/test split."
   ]
  },
  {
   "cell_type": "code",
   "execution_count": 207,
   "metadata": {},
   "outputs": [],
   "source": [
    "from sklearn.model_selection import train_test_split\n",
    "\n",
    "X_train, X_test, y_train, y_test = train_test_split(\n",
    "    X, y, test_size=0.33, random_state=301)"
   ]
  },
  {
   "cell_type": "code",
   "execution_count": 209,
   "metadata": {},
   "outputs": [
    {
     "name": "stdout",
     "output_type": "stream",
     "text": [
      "0.9643178314491264\n",
      "0.03568216855087359\n"
     ]
    }
   ],
   "source": [
    "lr = LogisticRegression(solver='lbfgs', max_iter=1000)\n",
    "lr.fit(X_train, y_train)\n",
    "\n",
    "y_hat = lr.predict(X_test)\n",
    "print(lr.score(X_test,y_test))\n",
    "print(mean_squared_error(y_test,y_hat))"
   ]
  },
  {
   "cell_type": "markdown",
   "metadata": {},
   "source": [
    "very close to full data model\n",
    "\n",
    "...but what about normalization?"
   ]
  },
  {
   "cell_type": "code",
   "execution_count": 211,
   "metadata": {},
   "outputs": [
    {
     "data": {
      "text/plain": [
       "0.03554811289758455"
      ]
     },
     "execution_count": 211,
     "metadata": {},
     "output_type": "execute_result"
    }
   ],
   "source": [
    "from sklearn.preprocessing import normalize\n",
    "\n",
    "X_copy = X.copy()\n",
    "X_norm = normalize(X_copy)\n",
    "y_model = LogisticRegression(solver='lbfgs', max_iter=1000).fit(X_norm, y).predict(X_norm)\n",
    "mean_squared_error(y, y_model)"
   ]
  },
  {
   "cell_type": "markdown",
   "metadata": {},
   "source": [
    "Didn't make a differnece\n",
    "\n",
    "age is the only variable on a dif scale"
   ]
  },
  {
   "cell_type": "code",
   "execution_count": 216,
   "metadata": {},
   "outputs": [
    {
     "data": {
      "text/plain": [
       "0.9643570267787748"
      ]
     },
     "execution_count": 216,
     "metadata": {},
     "output_type": "execute_result"
    },
    {
     "data": {
      "image/png": "[encoded data removed]",
      "text/plain": [
       "<Figure size 432x288 with 1 Axes>"
      ]
     },
     "metadata": {
      "needs_background": "light"
     },
     "output_type": "display_data"
    }
   ],
   "source": [
    "# Cross validation\n",
    "\n",
    "from sklearn.model_selection import ShuffleSplit\n",
    "from sklearn.model_selection import cross_val_score\n",
    "\n",
    "reg = LogisticRegression(solver='lbfgs', max_iter=1000)\n",
    "cv = ShuffleSplit(n_splits=100, test_size=0.3, random_state=301)\n",
    "\n",
    "s = cross_val_score(reg, X, y, cv=cv)\n",
    "pd.Series(s).hist()\n",
    "s.mean() # R^2"
   ]
  },
  {
   "cell_type": "code",
   "execution_count": null,
   "metadata": {},
   "outputs": [],
   "source": [
    "fairly robust to the choice of split"
   ]
  },
  {
   "cell_type": "markdown",
   "metadata": {},
   "source": [
    "## K Nearest Neighbors"
   ]
  },
  {
   "cell_type": "code",
   "execution_count": 235,
   "metadata": {},
   "outputs": [
    {
     "name": "stdout",
     "output_type": "stream",
     "text": [
      "0.9437949640287769\n",
      "0.05620503597122302\n"
     ]
    }
   ],
   "source": [
    "from sklearn.neighbors import KNeighborsClassifier\n",
    "\n",
    "# KNN Classifier(K=1)\n",
    "knnr = KNeighborsClassifier(n_neighbors=1)\n",
    "knnr.fit(X_train, y_train)\n",
    "y_hat = knnr.predict(X_test)\n",
    "print(knnr.score(X_test,y_test))\n",
    "print(mean_squared_error(y_test,y_hat))"
   ]
  },
  {
   "cell_type": "code",
   "execution_count": 233,
   "metadata": {},
   "outputs": [
    {
     "data": {
      "text/plain": [
       "0.03609969167523124"
      ]
     },
     "execution_count": 233,
     "metadata": {},
     "output_type": "execute_result"
    }
   ],
   "source": [
    "from sklearn.neighbors import KNeighborsClassifier\n",
    "\n",
    "# KNN Classifier(K=10)\n",
    "\n",
    "y_hat = KNeighborsClassifier(n_neighbors=10).fit(X_train, y_train).predict(X_test)\n",
    "mean_squared_error(y_test, y_hat)"
   ]
  },
  {
   "cell_type": "code",
   "execution_count": 236,
   "metadata": {},
   "outputs": [
    {
     "data": {
      "text/plain": [
       "GridSearchCV(cv=ShuffleSplit(n_splits=10, random_state=301, test_size=0.3, train_size=None),\n",
       "             error_score='raise-deprecating',\n",
       "             estimator=KNeighborsClassifier(algorithm='auto', leaf_size=30,\n",
       "                                            metric='minkowski',\n",
       "                                            metric_params=None, n_jobs=None,\n",
       "                                            n_neighbors=5, p=2,\n",
       "                                            weights='uniform'),\n",
       "             iid=False, n_jobs=None,\n",
       "             param_grid={'n_neighbors': [1, 3, 5, 10, 15, 20, 50]},\n",
       "             pre_dispatch='2*n_jobs', refit=True, return_train_score=False,\n",
       "             scoring=None, verbose=0)"
      ]
     },
     "execution_count": 236,
     "metadata": {},
     "output_type": "execute_result"
    }
   ],
   "source": [
    "from sklearn.model_selection import GridSearchCV\n",
    "\n",
    "# Hyperparameter optimization:\n",
    "# (Hyper)parameter grid\n",
    "p_grid = {\n",
    "    \"n_neighbors\": [1, 3, 5, 10, 15, 20, 50]\n",
    "}\n",
    "\n",
    "knnr = KNeighborsClassifier()\n",
    "grid_search = GridSearchCV(estimator=knnr, param_grid=p_grid, \n",
    "                           cv=ShuffleSplit(n_splits=10, test_size=0.3, random_state=301), \n",
    "                           iid=False)\n",
    "grid_search.fit(X, y)"
   ]
  },
  {
   "cell_type": "code",
   "execution_count": 237,
   "metadata": {},
   "outputs": [
    {
     "data": {
      "text/html": [
       "<div>\n",
       "<style scoped>\n",
       "    .dataframe tbody tr th:only-of-type {\n",
       "        vertical-align: middle;\n",
       "    }\n",
       "\n",
       "    .dataframe tbody tr th {\n",
       "        vertical-align: top;\n",
       "    }\n",
       "\n",
       "    .dataframe thead th {\n",
       "        text-align: right;\n",
       "    }\n",
       "</style>\n",
       "<table border=\"1\" class=\"dataframe\">\n",
       "  <thead>\n",
       "    <tr style=\"text-align: right;\">\n",
       "      <th></th>\n",
       "      <th>mean_fit_time</th>\n",
       "      <th>std_fit_time</th>\n",
       "      <th>mean_score_time</th>\n",
       "      <th>std_score_time</th>\n",
       "      <th>param_n_neighbors</th>\n",
       "      <th>params</th>\n",
       "      <th>split0_test_score</th>\n",
       "      <th>split1_test_score</th>\n",
       "      <th>split2_test_score</th>\n",
       "      <th>split3_test_score</th>\n",
       "      <th>split4_test_score</th>\n",
       "      <th>split5_test_score</th>\n",
       "      <th>split6_test_score</th>\n",
       "      <th>split7_test_score</th>\n",
       "      <th>split8_test_score</th>\n",
       "      <th>split9_test_score</th>\n",
       "      <th>mean_test_score</th>\n",
       "      <th>std_test_score</th>\n",
       "      <th>rank_test_score</th>\n",
       "    </tr>\n",
       "  </thead>\n",
       "  <tbody>\n",
       "    <tr>\n",
       "      <td>0</td>\n",
       "      <td>0.253773</td>\n",
       "      <td>0.020863</td>\n",
       "      <td>2.493670</td>\n",
       "      <td>0.132889</td>\n",
       "      <td>1</td>\n",
       "      <td>{'n_neighbors': 1}</td>\n",
       "      <td>0.945135</td>\n",
       "      <td>0.942274</td>\n",
       "      <td>0.938211</td>\n",
       "      <td>0.942168</td>\n",
       "      <td>0.940013</td>\n",
       "      <td>0.942274</td>\n",
       "      <td>0.944181</td>\n",
       "      <td>0.944888</td>\n",
       "      <td>0.941497</td>\n",
       "      <td>0.938988</td>\n",
       "      <td>0.941963</td>\n",
       "      <td>0.002252</td>\n",
       "      <td>7</td>\n",
       "    </tr>\n",
       "    <tr>\n",
       "      <td>1</td>\n",
       "      <td>0.264820</td>\n",
       "      <td>0.010324</td>\n",
       "      <td>2.720771</td>\n",
       "      <td>0.056794</td>\n",
       "      <td>3</td>\n",
       "      <td>{'n_neighbors': 3}</td>\n",
       "      <td>0.957606</td>\n",
       "      <td>0.955098</td>\n",
       "      <td>0.954851</td>\n",
       "      <td>0.957076</td>\n",
       "      <td>0.953614</td>\n",
       "      <td>0.955946</td>\n",
       "      <td>0.955486</td>\n",
       "      <td>0.954780</td>\n",
       "      <td>0.955628</td>\n",
       "      <td>0.956087</td>\n",
       "      <td>0.955617</td>\n",
       "      <td>0.001096</td>\n",
       "      <td>6</td>\n",
       "    </tr>\n",
       "    <tr>\n",
       "      <td>2</td>\n",
       "      <td>0.241944</td>\n",
       "      <td>0.030683</td>\n",
       "      <td>2.747517</td>\n",
       "      <td>0.166992</td>\n",
       "      <td>5</td>\n",
       "      <td>{'n_neighbors': 5}</td>\n",
       "      <td>0.960927</td>\n",
       "      <td>0.960821</td>\n",
       "      <td>0.960538</td>\n",
       "      <td>0.959161</td>\n",
       "      <td>0.957818</td>\n",
       "      <td>0.959373</td>\n",
       "      <td>0.959443</td>\n",
       "      <td>0.958701</td>\n",
       "      <td>0.958454</td>\n",
       "      <td>0.960609</td>\n",
       "      <td>0.959585</td>\n",
       "      <td>0.001035</td>\n",
       "      <td>5</td>\n",
       "    </tr>\n",
       "    <tr>\n",
       "      <td>3</td>\n",
       "      <td>0.252211</td>\n",
       "      <td>0.051825</td>\n",
       "      <td>2.978000</td>\n",
       "      <td>0.076476</td>\n",
       "      <td>10</td>\n",
       "      <td>{'n_neighbors': 10}</td>\n",
       "      <td>0.963435</td>\n",
       "      <td>0.964813</td>\n",
       "      <td>0.963435</td>\n",
       "      <td>0.963859</td>\n",
       "      <td>0.962411</td>\n",
       "      <td>0.963930</td>\n",
       "      <td>0.963471</td>\n",
       "      <td>0.963930</td>\n",
       "      <td>0.964460</td>\n",
       "      <td>0.963435</td>\n",
       "      <td>0.963718</td>\n",
       "      <td>0.000622</td>\n",
       "      <td>3</td>\n",
       "    </tr>\n",
       "    <tr>\n",
       "      <td>4</td>\n",
       "      <td>0.260156</td>\n",
       "      <td>0.009250</td>\n",
       "      <td>3.033739</td>\n",
       "      <td>0.201912</td>\n",
       "      <td>15</td>\n",
       "      <td>{'n_neighbors': 15}</td>\n",
       "      <td>0.962658</td>\n",
       "      <td>0.964636</td>\n",
       "      <td>0.963541</td>\n",
       "      <td>0.963435</td>\n",
       "      <td>0.962128</td>\n",
       "      <td>0.964001</td>\n",
       "      <td>0.963718</td>\n",
       "      <td>0.962976</td>\n",
       "      <td>0.964177</td>\n",
       "      <td>0.963259</td>\n",
       "      <td>0.963453</td>\n",
       "      <td>0.000704</td>\n",
       "      <td>4</td>\n",
       "    </tr>\n",
       "    <tr>\n",
       "      <td>5</td>\n",
       "      <td>0.257389</td>\n",
       "      <td>0.018726</td>\n",
       "      <td>3.287883</td>\n",
       "      <td>0.056837</td>\n",
       "      <td>20</td>\n",
       "      <td>{'n_neighbors': 20}</td>\n",
       "      <td>0.964319</td>\n",
       "      <td>0.965237</td>\n",
       "      <td>0.964107</td>\n",
       "      <td>0.964142</td>\n",
       "      <td>0.963011</td>\n",
       "      <td>0.964425</td>\n",
       "      <td>0.964213</td>\n",
       "      <td>0.963895</td>\n",
       "      <td>0.964672</td>\n",
       "      <td>0.963683</td>\n",
       "      <td>0.964170</td>\n",
       "      <td>0.000560</td>\n",
       "      <td>2</td>\n",
       "    </tr>\n",
       "    <tr>\n",
       "      <td>6</td>\n",
       "      <td>0.241985</td>\n",
       "      <td>0.036922</td>\n",
       "      <td>3.568421</td>\n",
       "      <td>0.410165</td>\n",
       "      <td>50</td>\n",
       "      <td>{'n_neighbors': 50}</td>\n",
       "      <td>0.964530</td>\n",
       "      <td>0.965555</td>\n",
       "      <td>0.964319</td>\n",
       "      <td>0.964636</td>\n",
       "      <td>0.963400</td>\n",
       "      <td>0.964530</td>\n",
       "      <td>0.964001</td>\n",
       "      <td>0.964001</td>\n",
       "      <td>0.965202</td>\n",
       "      <td>0.964177</td>\n",
       "      <td>0.964435</td>\n",
       "      <td>0.000586</td>\n",
       "      <td>1</td>\n",
       "    </tr>\n",
       "  </tbody>\n",
       "</table>\n",
       "</div>"
      ],
      "text/plain": [
       "   mean_fit_time  std_fit_time  mean_score_time  std_score_time  \\\n",
       "0       0.253773      0.020863         2.493670        0.132889   \n",
       "1       0.264820      0.010324         2.720771        0.056794   \n",
       "2       0.241944      0.030683         2.747517        0.166992   \n",
       "3       0.252211      0.051825         2.978000        0.076476   \n",
       "4       0.260156      0.009250         3.033739        0.201912   \n",
       "5       0.257389      0.018726         3.287883        0.056837   \n",
       "6       0.241985      0.036922         3.568421        0.410165   \n",
       "\n",
       "  param_n_neighbors               params  split0_test_score  \\\n",
       "0                 1   {'n_neighbors': 1}           0.945135   \n",
       "1                 3   {'n_neighbors': 3}           0.957606   \n",
       "2                 5   {'n_neighbors': 5}           0.960927   \n",
       "3                10  {'n_neighbors': 10}           0.963435   \n",
       "4                15  {'n_neighbors': 15}           0.962658   \n",
       "5                20  {'n_neighbors': 20}           0.964319   \n",
       "6                50  {'n_neighbors': 50}           0.964530   \n",
       "\n",
       "   split1_test_score  split2_test_score  split3_test_score  split4_test_score  \\\n",
       "0           0.942274           0.938211           0.942168           0.940013   \n",
       "1           0.955098           0.954851           0.957076           0.953614   \n",
       "2           0.960821           0.960538           0.959161           0.957818   \n",
       "3           0.964813           0.963435           0.963859           0.962411   \n",
       "4           0.964636           0.963541           0.963435           0.962128   \n",
       "5           0.965237           0.964107           0.964142           0.963011   \n",
       "6           0.965555           0.964319           0.964636           0.963400   \n",
       "\n",
       "   split5_test_score  split6_test_score  split7_test_score  split8_test_score  \\\n",
       "0           0.942274           0.944181           0.944888           0.941497   \n",
       "1           0.955946           0.955486           0.954780           0.955628   \n",
       "2           0.959373           0.959443           0.958701           0.958454   \n",
       "3           0.963930           0.963471           0.963930           0.964460   \n",
       "4           0.964001           0.963718           0.962976           0.964177   \n",
       "5           0.964425           0.964213           0.963895           0.964672   \n",
       "6           0.964530           0.964001           0.964001           0.965202   \n",
       "\n",
       "   split9_test_score  mean_test_score  std_test_score  rank_test_score  \n",
       "0           0.938988         0.941963        0.002252                7  \n",
       "1           0.956087         0.955617        0.001096                6  \n",
       "2           0.960609         0.959585        0.001035                5  \n",
       "3           0.963435         0.963718        0.000622                3  \n",
       "4           0.963259         0.963453        0.000704                4  \n",
       "5           0.963683         0.964170        0.000560                2  \n",
       "6           0.964177         0.964435        0.000586                1  "
      ]
     },
     "execution_count": 237,
     "metadata": {},
     "output_type": "execute_result"
    }
   ],
   "source": [
    "pd.DataFrame(grid_search.cv_results_)"
   ]
  },
  {
   "cell_type": "code",
   "execution_count": 238,
   "metadata": {},
   "outputs": [
    {
     "data": {
      "text/plain": [
       "{'n_neighbors': 50}"
      ]
     },
     "execution_count": 238,
     "metadata": {},
     "output_type": "execute_result"
    }
   ],
   "source": [
    "grid_search.best_params_"
   ]
  },
  {
   "cell_type": "code",
   "execution_count": 242,
   "metadata": {},
   "outputs": [
    {
     "name": "stdout",
     "output_type": "stream",
     "text": [
      "0.9645747687564235\n",
      "0.03542523124357657\n"
     ]
    }
   ],
   "source": [
    "# KNN Classifier(K=20) chose 20 bec R^2 is nearly identical\n",
    "knnr = KNeighborsClassifier(n_neighbors=50)\n",
    "knnr.fit(X_train, y_train)\n",
    "y_hat = knnr.predict(X_test)\n",
    "print(knnr.score(X_test,y_test))\n",
    "print(mean_squared_error(y_test,y_hat))"
   ]
  },
  {
   "cell_type": "markdown",
   "metadata": {},
   "source": [
    "nearly same as logistic regression"
   ]
  },
  {
   "cell_type": "markdown",
   "metadata": {},
   "source": [
    "## Deep Learning"
   ]
  },
  {
   "cell_type": "code",
   "execution_count": 249,
   "metadata": {},
   "outputs": [
    {
     "name": "stdout",
     "output_type": "stream",
     "text": [
      "0.9645747687564235\n",
      "0.03542523124357657\n"
     ]
    }
   ],
   "source": [
    "#https://scikit-learn.org/stable/modules/neural_networks_supervised.html#\n",
    "\n",
    "from sklearn.neural_network import MLPClassifier\n",
    "\n",
    "mlpc = MLPClassifier(solver='lbfgs', alpha=1e-10,\n",
    "                        hidden_layer_sizes=(15, 2), random_state=301)\n",
    "mlpc.fit(X_train, y_train)\n",
    "y_hat = mlpc.predict(X_test)\n",
    "print(mlpc.score(X_test,y_test))\n",
    "print(mean_squared_error(y_test,y_hat))"
   ]
  },
  {
   "cell_type": "markdown",
   "metadata": {},
   "source": [
    "## Ensamble Learning"
   ]
  },
  {
   "cell_type": "code",
   "execution_count": 256,
   "metadata": {},
   "outputs": [
    {
     "name": "stdout",
     "output_type": "stream",
     "text": [
      "0.9623533219729064\n",
      "0.9616432028945472\n",
      "0.9623957167477727\n"
     ]
    }
   ],
   "source": [
    "#https://scikit-learn.org/stable/modules/ensemble.html#forests-of-randomized-trees\n",
    "\n",
    "from sklearn.ensemble import RandomForestClassifier\n",
    "from sklearn.ensemble import ExtraTreesClassifier\n",
    "from sklearn.tree import DecisionTreeClassifier\n",
    "\n",
    "dtc = DecisionTreeClassifier(max_depth=None, \n",
    "                             min_samples_split=2,\n",
    "                             random_state=301)\n",
    "scores = cross_val_score(dtc, X, y, cv=5)\n",
    "print(scores.mean())\n",
    "\n",
    "rfc = RandomForestClassifier(n_estimators=10,\n",
    "                             max_depth=None,\n",
    "                             min_samples_split=2,\n",
    "                             random_state=0)\n",
    "scores = cross_val_score(rfc, X, y, cv=5)\n",
    "print(scores.mean())\n",
    "\n",
    "\n",
    "etc = ExtraTreesClassifier(n_estimators=10, \n",
    "                           max_depth=None,\n",
    "                           min_samples_split=2,\n",
    "                           random_state=0)\n",
    "scores = cross_val_score(etc, X, y, cv=5)\n",
    "print(scores.mean())"
   ]
  },
  {
   "cell_type": "code",
   "execution_count": 257,
   "metadata": {},
   "outputs": [
    {
     "name": "stdout",
     "output_type": "stream",
     "text": [
      "0.3971889210417528\n",
      "0.6819346837536172\n",
      "0.8613476643241007\n"
     ]
    }
   ],
   "source": [
    "#what if...we used the smaller dataset\n",
    "\n",
    "X = df2mx.iloc[:,:-1]\n",
    "y = df2mx['dead']\n",
    "X_train, X_test, y_train, y_test = train_test_split(\n",
    "    X, y, test_size=0.33, random_state=301)\n",
    "\n",
    "dtc = DecisionTreeClassifier(max_depth=None, \n",
    "                             min_samples_split=2,\n",
    "                             random_state=301)\n",
    "scores = cross_val_score(dtc, X, y, cv=5)\n",
    "print(scores.mean())\n",
    "\n",
    "rfc = RandomForestClassifier(n_estimators=10,\n",
    "                             max_depth=None,\n",
    "                             min_samples_split=2,\n",
    "                             random_state=0)\n",
    "scores = cross_val_score(rfc, X, y, cv=5)\n",
    "print(scores.mean())\n",
    "\n",
    "\n",
    "etc = ExtraTreesClassifier(n_estimators=10, \n",
    "                           max_depth=None,\n",
    "                           min_samples_split=2,\n",
    "                           random_state=0)\n",
    "scores = cross_val_score(etc, X, y, cv=5)\n",
    "print(scores.mean())"
   ]
  },
  {
   "cell_type": "markdown",
   "metadata": {},
   "source": [
    "## DOH!"
   ]
  },
  {
   "cell_type": "code",
   "execution_count": null,
   "metadata": {},
   "outputs": [],
   "source": []
  }
 ],
 "metadata": {
  "kernelspec": {
   "display_name": "Python 3",
   "language": "python",
   "name": "python3"
  },
  "language_info": {
   "codemirror_mode": {
    "name": "ipython",
    "version": 3
   },
   "file_extension": ".py",
   "mimetype": "text/x-python",
   "name": "python",
   "nbconvert_exporter": "python",
   "pygments_lexer": "ipython3",
   "version": "3.7.4"
  }
 },
 "nbformat": 4,
 "nbformat_minor": 4
}
